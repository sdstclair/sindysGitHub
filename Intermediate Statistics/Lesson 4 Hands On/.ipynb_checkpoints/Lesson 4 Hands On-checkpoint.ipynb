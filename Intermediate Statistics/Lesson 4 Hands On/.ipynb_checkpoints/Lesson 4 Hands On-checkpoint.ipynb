{
 "cells": [
  {
   "cell_type": "code",
   "execution_count": 111,
   "id": "786f128c-a2d1-48e1-bad1-52586ba9788a",
   "metadata": {},
   "outputs": [],
   "source": [
    "import pandas as pd\n",
    "import numpy as np\n",
    "import scipy\n",
    "from scipy import stats\n",
    "from statsmodels.stats.multicomp import pairwise_tukeyhsd\n",
    "from statsmodels.stats.multicomp import MultiComparison\n",
    "import seaborn as sns"
   ]
  },
  {
   "cell_type": "code",
   "execution_count": 112,
   "id": "1422f18e-c649-4343-9d23-b7a56b755114",
   "metadata": {},
   "outputs": [],
   "source": [
    "avocados = pd.read_csv('C:/Users/sdstc/Documents/Education/Other/Entity Academy/Intermediate Statistics/Hands On/Lesson 4 Hands On/avocados.csv')"
   ]
  },
  {
   "cell_type": "markdown",
   "id": "ced172d7-1632-4a4a-8a6a-1ebc2525e6fb",
   "metadata": {},
   "source": [
    "# Does the average price of avocados differ between Albany, Houston, and Seattle?"
   ]
  },
  {
   "cell_type": "markdown",
   "id": "5114ab8f-652a-4fca-87ff-35decea6e60d",
   "metadata": {},
   "source": [
    "## X are the independent variables Albany, Houston, and Seattle--the cities\n",
    "## Y is the dependent variable 'the average price of avocados'"
   ]
  },
  {
   "cell_type": "code",
   "execution_count": 113,
   "id": "fd6ae1fa-d51d-4cf2-8385-35bfc16721cf",
   "metadata": {},
   "outputs": [],
   "source": [
    "avocados1 = avocados[['AveragePrice', 'region']]"
   ]
  },
  {
   "cell_type": "code",
   "execution_count": 114,
   "id": "80016857-08b9-4c3a-8d2f-e7a5a4c1958c",
   "metadata": {},
   "outputs": [
    {
     "data": {
      "text/html": [
       "<div>\n",
       "<style scoped>\n",
       "    .dataframe tbody tr th:only-of-type {\n",
       "        vertical-align: middle;\n",
       "    }\n",
       "\n",
       "    .dataframe tbody tr th {\n",
       "        vertical-align: top;\n",
       "    }\n",
       "\n",
       "    .dataframe thead th {\n",
       "        text-align: right;\n",
       "    }\n",
       "</style>\n",
       "<table border=\"1\" class=\"dataframe\">\n",
       "  <thead>\n",
       "    <tr style=\"text-align: right;\">\n",
       "      <th></th>\n",
       "      <th>AveragePrice</th>\n",
       "      <th>region</th>\n",
       "    </tr>\n",
       "  </thead>\n",
       "  <tbody>\n",
       "    <tr>\n",
       "      <th>0</th>\n",
       "      <td>1.33</td>\n",
       "      <td>Albany</td>\n",
       "    </tr>\n",
       "    <tr>\n",
       "      <th>1</th>\n",
       "      <td>1.35</td>\n",
       "      <td>Albany</td>\n",
       "    </tr>\n",
       "    <tr>\n",
       "      <th>2</th>\n",
       "      <td>0.93</td>\n",
       "      <td>Albany</td>\n",
       "    </tr>\n",
       "    <tr>\n",
       "      <th>3</th>\n",
       "      <td>1.08</td>\n",
       "      <td>Albany</td>\n",
       "    </tr>\n",
       "    <tr>\n",
       "      <th>4</th>\n",
       "      <td>1.28</td>\n",
       "      <td>Albany</td>\n",
       "    </tr>\n",
       "  </tbody>\n",
       "</table>\n",
       "</div>"
      ],
      "text/plain": [
       "   AveragePrice  region\n",
       "0          1.33  Albany\n",
       "1          1.35  Albany\n",
       "2          0.93  Albany\n",
       "3          1.08  Albany\n",
       "4          1.28  Albany"
      ]
     },
     "execution_count": 114,
     "metadata": {},
     "output_type": "execute_result"
    }
   ],
   "source": [
    "avocados1.head()"
   ]
  },
  {
   "cell_type": "code",
   "execution_count": 115,
   "id": "582c60d0-d034-4939-9f8b-c033e43767bf",
   "metadata": {},
   "outputs": [
    {
     "name": "stdout",
     "output_type": "stream",
     "text": [
      "<class 'pandas.core.frame.DataFrame'>\n",
      "RangeIndex: 18249 entries, 0 to 18248\n",
      "Data columns (total 2 columns):\n",
      " #   Column        Non-Null Count  Dtype  \n",
      "---  ------        --------------  -----  \n",
      " 0   AveragePrice  18249 non-null  float64\n",
      " 1   region        18249 non-null  object \n",
      "dtypes: float64(1), object(1)\n",
      "memory usage: 285.3+ KB\n"
     ]
    }
   ],
   "source": [
    "avocados1.info()"
   ]
  },
  {
   "cell_type": "code",
   "execution_count": 134,
   "id": "4b2d6ed4-4e7b-43d8-a9a7-28d8045f6987",
   "metadata": {},
   "outputs": [],
   "source": [
    "avocados2 = avocados1.loc[avocados1['region'].isin(['Indianapolis', 'Orlando', 'PhoenixTucson'])]"
   ]
  },
  {
   "cell_type": "code",
   "execution_count": 135,
   "id": "e24c81aa-e6f6-43c8-bde1-8c79a219dbc3",
   "metadata": {},
   "outputs": [
    {
     "data": {
      "text/html": [
       "<div>\n",
       "<style scoped>\n",
       "    .dataframe tbody tr th:only-of-type {\n",
       "        vertical-align: middle;\n",
       "    }\n",
       "\n",
       "    .dataframe tbody tr th {\n",
       "        vertical-align: top;\n",
       "    }\n",
       "\n",
       "    .dataframe thead th {\n",
       "        text-align: right;\n",
       "    }\n",
       "</style>\n",
       "<table border=\"1\" class=\"dataframe\">\n",
       "  <thead>\n",
       "    <tr style=\"text-align: right;\">\n",
       "      <th></th>\n",
       "      <th>AveragePrice</th>\n",
       "      <th>region</th>\n",
       "    </tr>\n",
       "  </thead>\n",
       "  <tbody>\n",
       "    <tr>\n",
       "      <th>988</th>\n",
       "      <td>1.04</td>\n",
       "      <td>Indianapolis</td>\n",
       "    </tr>\n",
       "    <tr>\n",
       "      <th>989</th>\n",
       "      <td>1.10</td>\n",
       "      <td>Indianapolis</td>\n",
       "    </tr>\n",
       "    <tr>\n",
       "      <th>990</th>\n",
       "      <td>1.03</td>\n",
       "      <td>Indianapolis</td>\n",
       "    </tr>\n",
       "    <tr>\n",
       "      <th>991</th>\n",
       "      <td>0.92</td>\n",
       "      <td>Indianapolis</td>\n",
       "    </tr>\n",
       "    <tr>\n",
       "      <th>992</th>\n",
       "      <td>1.08</td>\n",
       "      <td>Indianapolis</td>\n",
       "    </tr>\n",
       "    <tr>\n",
       "      <th>...</th>\n",
       "      <td>...</td>\n",
       "      <td>...</td>\n",
       "    </tr>\n",
       "    <tr>\n",
       "      <th>18004</th>\n",
       "      <td>1.62</td>\n",
       "      <td>PhoenixTucson</td>\n",
       "    </tr>\n",
       "    <tr>\n",
       "      <th>18005</th>\n",
       "      <td>1.69</td>\n",
       "      <td>PhoenixTucson</td>\n",
       "    </tr>\n",
       "    <tr>\n",
       "      <th>18006</th>\n",
       "      <td>1.78</td>\n",
       "      <td>PhoenixTucson</td>\n",
       "    </tr>\n",
       "    <tr>\n",
       "      <th>18007</th>\n",
       "      <td>1.77</td>\n",
       "      <td>PhoenixTucson</td>\n",
       "    </tr>\n",
       "    <tr>\n",
       "      <th>18008</th>\n",
       "      <td>1.76</td>\n",
       "      <td>PhoenixTucson</td>\n",
       "    </tr>\n",
       "  </tbody>\n",
       "</table>\n",
       "<p>1014 rows × 2 columns</p>\n",
       "</div>"
      ],
      "text/plain": [
       "       AveragePrice         region\n",
       "988            1.04   Indianapolis\n",
       "989            1.10   Indianapolis\n",
       "990            1.03   Indianapolis\n",
       "991            0.92   Indianapolis\n",
       "992            1.08   Indianapolis\n",
       "...             ...            ...\n",
       "18004          1.62  PhoenixTucson\n",
       "18005          1.69  PhoenixTucson\n",
       "18006          1.78  PhoenixTucson\n",
       "18007          1.77  PhoenixTucson\n",
       "18008          1.76  PhoenixTucson\n",
       "\n",
       "[1014 rows x 2 columns]"
      ]
     },
     "execution_count": 135,
     "metadata": {},
     "output_type": "execute_result"
    }
   ],
   "source": [
    "avocados2"
   ]
  },
  {
   "cell_type": "code",
   "execution_count": 136,
   "id": "5d83b6a1-f2aa-438d-99f6-164731ef3ae0",
   "metadata": {},
   "outputs": [
    {
     "name": "stderr",
     "output_type": "stream",
     "text": [
      "C:\\Users\\sdstc\\AppData\\Local\\Temp\\ipykernel_3896\\1210698419.py:9: SettingWithCopyWarning: \n",
      "A value is trying to be set on a copy of a slice from a DataFrame.\n",
      "Try using .loc[row_indexer,col_indexer] = value instead\n",
      "\n",
      "See the caveats in the documentation: https://pandas.pydata.org/pandas-docs/stable/user_guide/indexing.html#returning-a-view-versus-a-copy\n",
      "  avocados2['regionR'] = avocados2['region'].apply(recode)\n"
     ]
    }
   ],
   "source": [
    "def recode (series): \n",
    "    if series == 'Indianapolis': \n",
    "        return 0\n",
    "    if series == 'Orlando': \n",
    "        return 1\n",
    "    if series == 'PhoenixTucson': \n",
    "        return 2\n",
    "\n",
    "avocados2['regionR'] = avocados2['region'].apply(recode)"
   ]
  },
  {
   "cell_type": "code",
   "execution_count": 137,
   "id": "283df952-808e-47c8-8cd3-fc95fa61f889",
   "metadata": {},
   "outputs": [
    {
     "data": {
      "text/html": [
       "<div>\n",
       "<style scoped>\n",
       "    .dataframe tbody tr th:only-of-type {\n",
       "        vertical-align: middle;\n",
       "    }\n",
       "\n",
       "    .dataframe tbody tr th {\n",
       "        vertical-align: top;\n",
       "    }\n",
       "\n",
       "    .dataframe thead th {\n",
       "        text-align: right;\n",
       "    }\n",
       "</style>\n",
       "<table border=\"1\" class=\"dataframe\">\n",
       "  <thead>\n",
       "    <tr style=\"text-align: right;\">\n",
       "      <th></th>\n",
       "      <th>AveragePrice</th>\n",
       "      <th>region</th>\n",
       "      <th>regionR</th>\n",
       "    </tr>\n",
       "  </thead>\n",
       "  <tbody>\n",
       "    <tr>\n",
       "      <th>988</th>\n",
       "      <td>1.04</td>\n",
       "      <td>Indianapolis</td>\n",
       "      <td>0</td>\n",
       "    </tr>\n",
       "    <tr>\n",
       "      <th>989</th>\n",
       "      <td>1.10</td>\n",
       "      <td>Indianapolis</td>\n",
       "      <td>0</td>\n",
       "    </tr>\n",
       "    <tr>\n",
       "      <th>990</th>\n",
       "      <td>1.03</td>\n",
       "      <td>Indianapolis</td>\n",
       "      <td>0</td>\n",
       "    </tr>\n",
       "    <tr>\n",
       "      <th>991</th>\n",
       "      <td>0.92</td>\n",
       "      <td>Indianapolis</td>\n",
       "      <td>0</td>\n",
       "    </tr>\n",
       "    <tr>\n",
       "      <th>992</th>\n",
       "      <td>1.08</td>\n",
       "      <td>Indianapolis</td>\n",
       "      <td>0</td>\n",
       "    </tr>\n",
       "  </tbody>\n",
       "</table>\n",
       "</div>"
      ],
      "text/plain": [
       "     AveragePrice        region  regionR\n",
       "988          1.04  Indianapolis        0\n",
       "989          1.10  Indianapolis        0\n",
       "990          1.03  Indianapolis        0\n",
       "991          0.92  Indianapolis        0\n",
       "992          1.08  Indianapolis        0"
      ]
     },
     "execution_count": 137,
     "metadata": {},
     "output_type": "execute_result"
    }
   ],
   "source": [
    "avocados2.head()"
   ]
  },
  {
   "cell_type": "code",
   "execution_count": 138,
   "id": "86018d85-e1a3-49a6-9fde-fd353cf11e9e",
   "metadata": {},
   "outputs": [],
   "source": [
    "avocados2 = avocados2.drop(['region'], axis = 1)"
   ]
  },
  {
   "cell_type": "code",
   "execution_count": 139,
   "id": "50fae8bb-d888-4a20-a695-b1af430d0a6c",
   "metadata": {},
   "outputs": [
    {
     "name": "stderr",
     "output_type": "stream",
     "text": [
      "C:\\Python3\\lib\\site-packages\\seaborn\\distributions.py:2619: FutureWarning: `distplot` is a deprecated function and will be removed in a future version. Please adapt your code to use either `displot` (a figure-level function with similar flexibility) or `histplot` (an axes-level function for histograms).\n",
      "  warnings.warn(msg, FutureWarning)\n"
     ]
    },
    {
     "data": {
      "text/plain": [
       "<AxesSubplot:xlabel='AveragePrice', ylabel='Density'>"
      ]
     },
     "execution_count": 139,
     "metadata": {},
     "output_type": "execute_result"
    },
    {
     "data": {
      "image/png": "[encoded data removed]",
      "text/plain": [
       "<Figure size 432x288 with 1 Axes>"
      ]
     },
     "metadata": {
      "needs_background": "light"
     },
     "output_type": "display_data"
    }
   ],
   "source": [
    "sns.distplot(avocados2['AveragePrice'])"
   ]
  },
  {
   "cell_type": "markdown",
   "id": "86082430-6aab-442c-9673-3903addf128d",
   "metadata": {},
   "source": [
    "# Not normally distributed, positive skewed"
   ]
  },
  {
   "cell_type": "code",
   "execution_count": 140,
   "id": "e20bbec5-aea5-45a1-8406-729d7f1b1b0f",
   "metadata": {},
   "outputs": [],
   "source": [
    "avocados2['AveragePriceSQRT'] = np.sqrt(avocados2['AveragePrice'])"
   ]
  },
  {
   "cell_type": "code",
   "execution_count": 141,
   "id": "0f2f322d-4f5c-4e67-8e48-4adcef57cb3b",
   "metadata": {},
   "outputs": [
    {
     "data": {
      "text/html": [
       "<div>\n",
       "<style scoped>\n",
       "    .dataframe tbody tr th:only-of-type {\n",
       "        vertical-align: middle;\n",
       "    }\n",
       "\n",
       "    .dataframe tbody tr th {\n",
       "        vertical-align: top;\n",
       "    }\n",
       "\n",
       "    .dataframe thead th {\n",
       "        text-align: right;\n",
       "    }\n",
       "</style>\n",
       "<table border=\"1\" class=\"dataframe\">\n",
       "  <thead>\n",
       "    <tr style=\"text-align: right;\">\n",
       "      <th></th>\n",
       "      <th>AveragePrice</th>\n",
       "      <th>regionR</th>\n",
       "      <th>AveragePriceSQRT</th>\n",
       "    </tr>\n",
       "  </thead>\n",
       "  <tbody>\n",
       "    <tr>\n",
       "      <th>988</th>\n",
       "      <td>1.04</td>\n",
       "      <td>0</td>\n",
       "      <td>1.019804</td>\n",
       "    </tr>\n",
       "    <tr>\n",
       "      <th>989</th>\n",
       "      <td>1.10</td>\n",
       "      <td>0</td>\n",
       "      <td>1.048809</td>\n",
       "    </tr>\n",
       "    <tr>\n",
       "      <th>990</th>\n",
       "      <td>1.03</td>\n",
       "      <td>0</td>\n",
       "      <td>1.014889</td>\n",
       "    </tr>\n",
       "    <tr>\n",
       "      <th>991</th>\n",
       "      <td>0.92</td>\n",
       "      <td>0</td>\n",
       "      <td>0.959166</td>\n",
       "    </tr>\n",
       "    <tr>\n",
       "      <th>992</th>\n",
       "      <td>1.08</td>\n",
       "      <td>0</td>\n",
       "      <td>1.039230</td>\n",
       "    </tr>\n",
       "  </tbody>\n",
       "</table>\n",
       "</div>"
      ],
      "text/plain": [
       "     AveragePrice  regionR  AveragePriceSQRT\n",
       "988          1.04        0          1.019804\n",
       "989          1.10        0          1.048809\n",
       "990          1.03        0          1.014889\n",
       "991          0.92        0          0.959166\n",
       "992          1.08        0          1.039230"
      ]
     },
     "execution_count": 141,
     "metadata": {},
     "output_type": "execute_result"
    }
   ],
   "source": [
    "avocados2.head()"
   ]
  },
  {
   "cell_type": "code",
   "execution_count": 142,
   "id": "daec3874-e4dd-45ae-a22e-10c93c7efe5e",
   "metadata": {},
   "outputs": [
    {
     "name": "stderr",
     "output_type": "stream",
     "text": [
      "C:\\Python3\\lib\\site-packages\\seaborn\\distributions.py:2619: FutureWarning: `distplot` is a deprecated function and will be removed in a future version. Please adapt your code to use either `displot` (a figure-level function with similar flexibility) or `histplot` (an axes-level function for histograms).\n",
      "  warnings.warn(msg, FutureWarning)\n"
     ]
    },
    {
     "data": {
      "text/plain": [
       "<AxesSubplot:xlabel='AveragePriceSQRT', ylabel='Density'>"
      ]
     },
     "execution_count": 142,
     "metadata": {},
     "output_type": "execute_result"
    },
    {
     "data": {
      "image/png": "[encoded data removed]",
      "text/plain": [
       "<Figure size 432x288 with 1 Axes>"
      ]
     },
     "metadata": {
      "needs_background": "light"
     },
     "output_type": "display_data"
    }
   ],
   "source": [
    "sns.distplot(avocados2['AveragePriceSQRT'])"
   ]
  },
  {
   "cell_type": "markdown",
   "id": "7014fb19-d494-4d19-b2c4-49ec14c49a5d",
   "metadata": {},
   "source": [
    "# Looks way better, but I will try log transformation"
   ]
  },
  {
   "cell_type": "code",
   "execution_count": 143,
   "id": "46138377-74ad-47cc-8a55-909f93515802",
   "metadata": {},
   "outputs": [],
   "source": [
    "avocados2['AveragePriceLOG'] = np.log(avocados2['AveragePrice'])"
   ]
  },
  {
   "cell_type": "code",
   "execution_count": 144,
   "id": "30b904c3-7bbd-4bb7-aae3-44ed02fefa7e",
   "metadata": {},
   "outputs": [
    {
     "data": {
      "text/html": [
       "<div>\n",
       "<style scoped>\n",
       "    .dataframe tbody tr th:only-of-type {\n",
       "        vertical-align: middle;\n",
       "    }\n",
       "\n",
       "    .dataframe tbody tr th {\n",
       "        vertical-align: top;\n",
       "    }\n",
       "\n",
       "    .dataframe thead th {\n",
       "        text-align: right;\n",
       "    }\n",
       "</style>\n",
       "<table border=\"1\" class=\"dataframe\">\n",
       "  <thead>\n",
       "    <tr style=\"text-align: right;\">\n",
       "      <th></th>\n",
       "      <th>AveragePrice</th>\n",
       "      <th>regionR</th>\n",
       "      <th>AveragePriceSQRT</th>\n",
       "      <th>AveragePriceLOG</th>\n",
       "    </tr>\n",
       "  </thead>\n",
       "  <tbody>\n",
       "    <tr>\n",
       "      <th>988</th>\n",
       "      <td>1.04</td>\n",
       "      <td>0</td>\n",
       "      <td>1.019804</td>\n",
       "      <td>0.039221</td>\n",
       "    </tr>\n",
       "    <tr>\n",
       "      <th>989</th>\n",
       "      <td>1.10</td>\n",
       "      <td>0</td>\n",
       "      <td>1.048809</td>\n",
       "      <td>0.095310</td>\n",
       "    </tr>\n",
       "    <tr>\n",
       "      <th>990</th>\n",
       "      <td>1.03</td>\n",
       "      <td>0</td>\n",
       "      <td>1.014889</td>\n",
       "      <td>0.029559</td>\n",
       "    </tr>\n",
       "    <tr>\n",
       "      <th>991</th>\n",
       "      <td>0.92</td>\n",
       "      <td>0</td>\n",
       "      <td>0.959166</td>\n",
       "      <td>-0.083382</td>\n",
       "    </tr>\n",
       "    <tr>\n",
       "      <th>992</th>\n",
       "      <td>1.08</td>\n",
       "      <td>0</td>\n",
       "      <td>1.039230</td>\n",
       "      <td>0.076961</td>\n",
       "    </tr>\n",
       "  </tbody>\n",
       "</table>\n",
       "</div>"
      ],
      "text/plain": [
       "     AveragePrice  regionR  AveragePriceSQRT  AveragePriceLOG\n",
       "988          1.04        0          1.019804         0.039221\n",
       "989          1.10        0          1.048809         0.095310\n",
       "990          1.03        0          1.014889         0.029559\n",
       "991          0.92        0          0.959166        -0.083382\n",
       "992          1.08        0          1.039230         0.076961"
      ]
     },
     "execution_count": 144,
     "metadata": {},
     "output_type": "execute_result"
    }
   ],
   "source": [
    "avocados2.head()"
   ]
  },
  {
   "cell_type": "code",
   "execution_count": 145,
   "id": "c23db420-31c9-44bb-8977-c48b74b84903",
   "metadata": {},
   "outputs": [
    {
     "name": "stderr",
     "output_type": "stream",
     "text": [
      "C:\\Python3\\lib\\site-packages\\seaborn\\distributions.py:2619: FutureWarning: `distplot` is a deprecated function and will be removed in a future version. Please adapt your code to use either `displot` (a figure-level function with similar flexibility) or `histplot` (an axes-level function for histograms).\n",
      "  warnings.warn(msg, FutureWarning)\n"
     ]
    },
    {
     "data": {
      "text/plain": [
       "<AxesSubplot:xlabel='AveragePriceLOG', ylabel='Density'>"
      ]
     },
     "execution_count": 145,
     "metadata": {},
     "output_type": "execute_result"
    },
    {
     "data": {
      "image/png": "[encoded data removed]",
      "text/plain": [
       "<Figure size 432x288 with 1 Axes>"
      ]
     },
     "metadata": {
      "needs_background": "light"
     },
     "output_type": "display_data"
    }
   ],
   "source": [
    "sns.distplot(avocados2['AveragePriceLOG'])"
   ]
  },
  {
   "cell_type": "markdown",
   "id": "628b3677-fee7-45f9-bc31-5a378748d7ed",
   "metadata": {},
   "source": [
    "# This is the best transformation I have seen come from the methods attempted, so we will keep this one."
   ]
  },
  {
   "cell_type": "code",
   "execution_count": 146,
   "id": "59c72931-820a-4956-b55f-e453b112b398",
   "metadata": {},
   "outputs": [
    {
     "data": {
      "text/plain": [
       "BartlettResult(statistic=621.0783457063926, pvalue=4.357337668804035e-137)"
      ]
     },
     "execution_count": 146,
     "metadata": {},
     "output_type": "execute_result"
    }
   ],
   "source": [
    "scipy.stats.bartlett(avocados2['AveragePriceLOG'], avocados2['regionR'])"
   ]
  },
  {
   "cell_type": "code",
   "execution_count": 151,
   "id": "58af03cb-f3f3-4500-9cd4-f1c0eabade4b",
   "metadata": {},
   "outputs": [
    {
     "data": {
      "text/plain": [
       "FlignerResult(statistic=0.0, pvalue=1.0)"
      ]
     },
     "execution_count": 151,
     "metadata": {},
     "output_type": "execute_result"
    }
   ],
   "source": [
    "scipy.stats.fligner(avocados2['AveragePriceLOG'], avocados2['AveragePriceLOG'])"
   ]
  },
  {
   "cell_type": "markdown",
   "id": "2cc7b5d2-06ad-4648-804e-46fa18777d49",
   "metadata": {},
   "source": [
    "# Does not meet the assumption for homoegeneity of variance. Variance is unequal"
   ]
  },
  {
   "cell_type": "code",
   "execution_count": 152,
   "id": "c753d7e0-bb92-4b26-ba3a-5659723921c1",
   "metadata": {},
   "outputs": [],
   "source": [
    "avocados2.dropna(inplace=True)"
   ]
  },
  {
   "cell_type": "code",
   "execution_count": 153,
   "id": "6ed459a3-4673-4552-a7e7-c092968dd529",
   "metadata": {},
   "outputs": [
    {
     "data": {
      "text/plain": [
       "F_onewayResult(statistic=58.278958666788625, pvalue=1.1104935402510524e-24)"
      ]
     },
     "execution_count": 153,
     "metadata": {},
     "output_type": "execute_result"
    }
   ],
   "source": [
    "stats.f_oneway(avocados2['AveragePriceLOG'][avocados2['regionR']== 0],\n",
    "               avocados2['AveragePriceLOG'][avocados2['regionR']== 1],\n",
    "               avocados2['AveragePriceLOG'][avocados2['regionR']== 2])"
   ]
  },
  {
   "cell_type": "markdown",
   "id": "22dbf1fe-dc85-46b9-a350-a4e6bf72a1a6",
   "metadata": {
    "tags": []
   },
   "source": [
    "# This shows that the data is not significant, meaning that there is little or no difference in the average price of avocados in Houston, Albany, and Seattle. We will now move onto Post Hocs"
   ]
  },
  {
   "cell_type": "code",
   "execution_count": 154,
   "id": "52e9238c-a841-4c6b-beae-14c5150912ce",
   "metadata": {},
   "outputs": [
    {
     "name": "stdout",
     "output_type": "stream",
     "text": [
      "Multiple Comparison of Means - Tukey HSD, FWER=0.05\n",
      "===================================================\n",
      "group1 group2 meandiff p-adj  lower   upper  reject\n",
      "---------------------------------------------------\n",
      "     0      1   0.1252   0.0  0.0639  0.1865   True\n",
      "     0      2  -0.1564   0.0 -0.2177  -0.095   True\n",
      "     1      2  -0.2816   0.0 -0.3429 -0.2202   True\n",
      "---------------------------------------------------\n"
     ]
    }
   ],
   "source": [
    "postHoc = MultiComparison(avocados2['AveragePriceLOG'], avocados2['regionR'])\n",
    "postHocResults = postHoc.tukeyhsd()\n",
    "print(postHocResults)"
   ]
  },
  {
   "cell_type": "markdown",
   "id": "e0c1c2e5-eeaa-452b-a717-c8ac5737dd83",
   "metadata": {},
   "source": [
    "# Examine Means First"
   ]
  },
  {
   "cell_type": "code",
   "execution_count": 155,
   "id": "5d6706af-4db8-4340-94b6-563bc9fe0db1",
   "metadata": {},
   "outputs": [
    {
     "data": {
      "text/html": [
       "<div>\n",
       "<style scoped>\n",
       "    .dataframe tbody tr th:only-of-type {\n",
       "        vertical-align: middle;\n",
       "    }\n",
       "\n",
       "    .dataframe tbody tr th {\n",
       "        vertical-align: top;\n",
       "    }\n",
       "\n",
       "    .dataframe thead th {\n",
       "        text-align: right;\n",
       "    }\n",
       "</style>\n",
       "<table border=\"1\" class=\"dataframe\">\n",
       "  <thead>\n",
       "    <tr style=\"text-align: right;\">\n",
       "      <th></th>\n",
       "      <th>AveragePrice</th>\n",
       "      <th>AveragePriceSQRT</th>\n",
       "      <th>AveragePriceLOG</th>\n",
       "    </tr>\n",
       "    <tr>\n",
       "      <th>regionR</th>\n",
       "      <th></th>\n",
       "      <th></th>\n",
       "      <th></th>\n",
       "    </tr>\n",
       "  </thead>\n",
       "  <tbody>\n",
       "    <tr>\n",
       "      <th>0</th>\n",
       "      <td>1.313994</td>\n",
       "      <td>1.139689</td>\n",
       "      <td>0.249841</td>\n",
       "    </tr>\n",
       "    <tr>\n",
       "      <th>1</th>\n",
       "      <td>1.506213</td>\n",
       "      <td>1.216837</td>\n",
       "      <td>0.375035</td>\n",
       "    </tr>\n",
       "    <tr>\n",
       "      <th>2</th>\n",
       "      <td>1.224438</td>\n",
       "      <td>1.077643</td>\n",
       "      <td>0.093470</td>\n",
       "    </tr>\n",
       "  </tbody>\n",
       "</table>\n",
       "</div>"
      ],
      "text/plain": [
       "         AveragePrice  AveragePriceSQRT  AveragePriceLOG\n",
       "regionR                                                 \n",
       "0            1.313994          1.139689         0.249841\n",
       "1            1.506213          1.216837         0.375035\n",
       "2            1.224438          1.077643         0.093470"
      ]
     },
     "execution_count": 155,
     "metadata": {},
     "output_type": "execute_result"
    }
   ],
   "source": [
    "avocados2.groupby('regionR').mean()"
   ]
  },
  {
   "cell_type": "markdown",
   "id": "7c357a33-237f-4900-8391-cc08f1086b20",
   "metadata": {},
   "source": [
    "## The average prices of all proposed regions significantly differed from each other, with Orlando seeming to have the most expensive average price of avocados."
   ]
  },
  {
   "cell_type": "code",
   "execution_count": null,
   "id": "f67244da-ff81-40ba-b023-6602c8f4fd08",
   "metadata": {},
   "outputs": [],
   "source": []
  }
 ],
 "metadata": {
  "kernelspec": {
   "display_name": "Python 3 (ipykernel)",
   "language": "python",
   "name": "python3"
  },
  "language_info": {
   "codemirror_mode": {
    "name": "ipython",
    "version": 3
   },
   "file_extension": ".py",
   "mimetype": "text/x-python",
   "name": "python",
   "nbconvert_exporter": "python",
   "pygments_lexer": "ipython3",
   "version": "3.10.2"
  }
 },
 "nbformat": 4,
 "nbformat_minor": 5
}
