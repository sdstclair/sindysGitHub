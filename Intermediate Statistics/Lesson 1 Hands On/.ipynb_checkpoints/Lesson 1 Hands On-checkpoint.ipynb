{
 "cells": [
  {
   "cell_type": "code",
   "execution_count": 1,
   "id": "20377cd6-1e28-4e67-b40d-8af073f5ead1",
   "metadata": {},
   "outputs": [],
   "source": [
    "import pandas as pd\n",
    "import numpy as np\n",
    "from scipy.stats import norm\n",
    "from scipy import stats\n",
    "from scipy.stats import ttest_ind\n",
    "import matplotlib.pyplot as plt\n",
    "import seaborn as sns"
   ]
  },
  {
   "cell_type": "code",
   "execution_count": 3,
   "id": "0701bd1e-db55-4e5b-ae2e-8ca70f3a8c50",
   "metadata": {},
   "outputs": [],
   "source": [
    "anime = pd.read_csv('C:/Users/sdstc/Documents/Education/Other/Entity Academy/Intermediate Statistics/Hands On/anime.csv')"
   ]
  },
  {
   "cell_type": "markdown",
   "id": "b69ec0a7-f145-47b4-a73f-ab6608685690",
   "metadata": {},
   "source": [
    "# Is a Rating Score of 6.2 Different from the Mean in this Dataset?"
   ]
  },
  {
   "cell_type": "code",
   "execution_count": 4,
   "id": "e454df20-a739-46c4-ac3b-d7dbc15d2806",
   "metadata": {},
   "outputs": [
    {
     "data": {
      "text/plain": [
       "<AxesSubplot:>"
      ]
     },
     "execution_count": 4,
     "metadata": {},
     "output_type": "execute_result"
    },
    {
     "data": {
      "image/png": "[encoded data removed]",
      "text/plain": [
       "<Figure size 432x288 with 1 Axes>"
      ]
     },
     "metadata": {
      "needs_background": "light"
     },
     "output_type": "display_data"
    }
   ],
   "source": [
    "anime['score'].hist()"
   ]
  },
  {
   "cell_type": "markdown",
   "id": "324468c3-fc94-4c36-99d0-630900d819c7",
   "metadata": {},
   "source": [
    "## Things appear to be normally distributed."
   ]
  },
  {
   "cell_type": "code",
   "execution_count": 5,
   "id": "156f9294-3bc7-413f-84c1-95415298a51c",
   "metadata": {},
   "outputs": [
    {
     "data": {
      "text/plain": [
       "Ttest_1sampResult(statistic=57.14153988539698, pvalue=0.0)"
      ]
     },
     "execution_count": 5,
     "metadata": {},
     "output_type": "execute_result"
    }
   ],
   "source": [
    "stats.ttest_1samp(anime['score'], 6.2)"
   ]
  },
  {
   "cell_type": "markdown",
   "id": "60b602b1-70cc-4f40-b70a-af14c68a232a",
   "metadata": {},
   "source": [
    "## The statistic is your t-value, and the p-value is the one associated with that t-test. The p value is less than 0.05 which qualifies this test as significant. This also means that the rating of 6.2 is different from the population mean."
   ]
  },
  {
   "cell_type": "code",
   "execution_count": 6,
   "id": "43533ecb-ad3d-46e7-ac59-50971aba0fd7",
   "metadata": {},
   "outputs": [
    {
     "data": {
      "text/plain": [
       "6.848998200359928"
      ]
     },
     "execution_count": 6,
     "metadata": {},
     "output_type": "execute_result"
    }
   ],
   "source": [
    "anime.score.mean()"
   ]
  },
  {
   "cell_type": "markdown",
   "id": "57b2ba97-6532-431a-93e9-a6e1a3d77223",
   "metadata": {},
   "source": [
    "### The average rating for anime was 6.8. So an anime with a rating of 6.2 would fair a little below the average."
   ]
  },
  {
   "cell_type": "markdown",
   "id": "de954c7f-002b-48ee-a701-01019031cefc",
   "metadata": {},
   "source": []
  },
  {
   "cell_type": "markdown",
   "id": "67778c78-954f-4932-aee2-67586ce17932",
   "metadata": {},
   "source": [
    "# Does Anime that is Still Airing Differ in Popularity from Anime that is No Longer Airing?"
   ]
  },
  {
   "cell_type": "code",
   "execution_count": 7,
   "id": "3e445dbf-7ca0-438b-a778-f7861be58182",
   "metadata": {},
   "outputs": [
    {
     "data": {
      "text/plain": [
       "<AxesSubplot:>"
      ]
     },
     "execution_count": 7,
     "metadata": {},
     "output_type": "execute_result"
    },
    {
     "data": {
      "image/png": "[encoded data removed]",
      "text/plain": [
       "<Figure size 432x288 with 1 Axes>"
      ]
     },
     "metadata": {
      "needs_background": "light"
     },
     "output_type": "display_data"
    }
   ],
   "source": [
    "anime.popularity[anime.status == 'Finished Airing'].hist()"
   ]
  },
  {
   "cell_type": "code",
   "execution_count": 9,
   "id": "223323a0-67cb-4320-80a5-593c0c018f35",
   "metadata": {},
   "outputs": [
    {
     "data": {
      "text/plain": [
       "<AxesSubplot:>"
      ]
     },
     "execution_count": 9,
     "metadata": {},
     "output_type": "execute_result"
    },
    {
     "data": {
      "image/png": "[encoded data removed]",
      "text/plain": [
       "<Figure size 432x288 with 1 Axes>"
      ]
     },
     "metadata": {
      "needs_background": "light"
     },
     "output_type": "display_data"
    }
   ],
   "source": [
    "anime.popularity[anime.status == 'Currently Airing'].hist()"
   ]
  },
  {
   "cell_type": "markdown",
   "id": "c43860a6-32af-462c-bc72-2f6e82f958e0",
   "metadata": {},
   "source": [
    "## It appears as though animes that had Finished Airing exhibited a negative or downward distribution that almost appears linear, if not linear in its entirety. The animes that were Currently Airing lacked a normal distribution. From this we can tell that the popularity of the animes that have Finished Airing was more than likely to experience a more steady decline in number than those that are Currently Airing."
   ]
  },
  {
   "cell_type": "code",
   "execution_count": 10,
   "id": "d675c34b-8740-4878-964d-2416e33e836c",
   "metadata": {},
   "outputs": [
    {
     "data": {
      "text/plain": [
       "Ttest_indResult(statistic=-6.489071311277514, pvalue=9.256789141747446e-11)"
      ]
     },
     "execution_count": 10,
     "metadata": {},
     "output_type": "execute_result"
    }
   ],
   "source": [
    "ttest_ind(anime.popularity[anime.status == 'Finished Airing'], anime.popularity[anime.status == 'Currently Airing'])"
   ]
  },
  {
   "cell_type": "markdown",
   "id": "7d0b559a-adf8-4a6b-8fa5-28d1b853edf3",
   "metadata": {},
   "source": [
    "## With such a small t statistic, being in the negative and a p vaue greater than 0.05, it is safe to say that there is definitely no signfiicant difference between popularity in anime that is currently airing to those that have finished airing."
   ]
  },
  {
   "cell_type": "markdown",
   "id": "cf184a70-e315-4426-84e5-e42d50894925",
   "metadata": {},
   "source": [
    "# Does the Source of the Anime Influence the Type of Anime?"
   ]
  },
  {
   "cell_type": "code",
   "execution_count": 14,
   "id": "3f6c031e-3d5f-4d77-b0a0-67751ac2ff90",
   "metadata": {},
   "outputs": [
    {
     "data": {
      "text/html": [
       "<div>\n",
       "<style scoped>\n",
       "    .dataframe tbody tr th:only-of-type {\n",
       "        vertical-align: middle;\n",
       "    }\n",
       "\n",
       "    .dataframe tbody tr th {\n",
       "        vertical-align: top;\n",
       "    }\n",
       "\n",
       "    .dataframe thead th {\n",
       "        text-align: right;\n",
       "    }\n",
       "</style>\n",
       "<table border=\"1\" class=\"dataframe\">\n",
       "  <thead>\n",
       "    <tr style=\"text-align: right;\">\n",
       "      <th></th>\n",
       "      <th>anime_id</th>\n",
       "      <th>title</th>\n",
       "      <th>title_english</th>\n",
       "      <th>title_japanese</th>\n",
       "      <th>title_synonyms</th>\n",
       "      <th>image_url</th>\n",
       "      <th>type</th>\n",
       "      <th>source</th>\n",
       "      <th>episodes</th>\n",
       "      <th>status</th>\n",
       "      <th>...</th>\n",
       "      <th>broadcast</th>\n",
       "      <th>related</th>\n",
       "      <th>producer</th>\n",
       "      <th>licensor</th>\n",
       "      <th>studio</th>\n",
       "      <th>genre</th>\n",
       "      <th>opening_theme</th>\n",
       "      <th>ending_theme</th>\n",
       "      <th>duration_min</th>\n",
       "      <th>aired_from_year</th>\n",
       "    </tr>\n",
       "  </thead>\n",
       "  <tbody>\n",
       "    <tr>\n",
       "      <th>0</th>\n",
       "      <td>11013</td>\n",
       "      <td>Inu x Boku SS</td>\n",
       "      <td>Inu X Boku Secret Service</td>\n",
       "      <td>妖狐×僕SS</td>\n",
       "      <td>Youko x Boku SS</td>\n",
       "      <td>https://myanimelist.cdn-dena.com/images/anime/...</td>\n",
       "      <td>TV</td>\n",
       "      <td>Manga</td>\n",
       "      <td>12</td>\n",
       "      <td>Finished Airing</td>\n",
       "      <td>...</td>\n",
       "      <td>Fridays at Unknown</td>\n",
       "      <td>{'Adaptation': [{'mal_id': 17207, 'type': 'man...</td>\n",
       "      <td>Aniplex, Square Enix, Mainichi Broadcasting Sy...</td>\n",
       "      <td>Sentai Filmworks</td>\n",
       "      <td>David Production</td>\n",
       "      <td>Comedy, Supernatural, Romance, Shounen</td>\n",
       "      <td>['\"Nirvana\" by MUCC']</td>\n",
       "      <td>['#1: \"Nirvana\" by MUCC (eps 1, 11-12)', '#2: ...</td>\n",
       "      <td>24.0</td>\n",
       "      <td>2012</td>\n",
       "    </tr>\n",
       "    <tr>\n",
       "      <th>1</th>\n",
       "      <td>2104</td>\n",
       "      <td>Seto no Hanayome</td>\n",
       "      <td>My Bride is a Mermaid</td>\n",
       "      <td>瀬戸の花嫁</td>\n",
       "      <td>The Inland Sea Bride</td>\n",
       "      <td>https://myanimelist.cdn-dena.com/images/anime/...</td>\n",
       "      <td>TV</td>\n",
       "      <td>Manga</td>\n",
       "      <td>26</td>\n",
       "      <td>Finished Airing</td>\n",
       "      <td>...</td>\n",
       "      <td>Unknown</td>\n",
       "      <td>{'Adaptation': [{'mal_id': 759, 'type': 'manga...</td>\n",
       "      <td>TV Tokyo, AIC, Square Enix, Sotsu</td>\n",
       "      <td>Funimation</td>\n",
       "      <td>Gonzo</td>\n",
       "      <td>Comedy, Parody, Romance, School, Shounen</td>\n",
       "      <td>['\"Romantic summer\" by SUN&amp;LUNAR']</td>\n",
       "      <td>['#1: \"Ashita e no Hikari (明日への光)\" by Asuka Hi...</td>\n",
       "      <td>24.0</td>\n",
       "      <td>2007</td>\n",
       "    </tr>\n",
       "    <tr>\n",
       "      <th>2</th>\n",
       "      <td>5262</td>\n",
       "      <td>Shugo Chara!! Doki</td>\n",
       "      <td>Shugo Chara!! Doki</td>\n",
       "      <td>しゅごキャラ！！どきっ</td>\n",
       "      <td>Shugo Chara Ninenme, Shugo Chara! Second Year</td>\n",
       "      <td>https://myanimelist.cdn-dena.com/images/anime/...</td>\n",
       "      <td>TV</td>\n",
       "      <td>Manga</td>\n",
       "      <td>51</td>\n",
       "      <td>Finished Airing</td>\n",
       "      <td>...</td>\n",
       "      <td>Unknown</td>\n",
       "      <td>{'Adaptation': [{'mal_id': 101, 'type': 'manga...</td>\n",
       "      <td>TV Tokyo, Sotsu</td>\n",
       "      <td>NaN</td>\n",
       "      <td>Satelight</td>\n",
       "      <td>Comedy, Magic, School, Shoujo</td>\n",
       "      <td>['#1: \"Minna no Tamago (みんなのたまご)\" by Shugo Cha...</td>\n",
       "      <td>['#1: \"Rottara Rottara (ロッタラ ロッタラ)\" by Buono! ...</td>\n",
       "      <td>24.0</td>\n",
       "      <td>2008</td>\n",
       "    </tr>\n",
       "    <tr>\n",
       "      <th>3</th>\n",
       "      <td>721</td>\n",
       "      <td>Princess Tutu</td>\n",
       "      <td>Princess Tutu</td>\n",
       "      <td>プリンセスチュチュ</td>\n",
       "      <td>NaN</td>\n",
       "      <td>https://myanimelist.cdn-dena.com/images/anime/...</td>\n",
       "      <td>TV</td>\n",
       "      <td>Original</td>\n",
       "      <td>38</td>\n",
       "      <td>Finished Airing</td>\n",
       "      <td>...</td>\n",
       "      <td>Fridays at Unknown</td>\n",
       "      <td>{'Adaptation': [{'mal_id': 1581, 'type': 'mang...</td>\n",
       "      <td>Memory-Tech, GANSIS, Marvelous AQL</td>\n",
       "      <td>ADV Films</td>\n",
       "      <td>Hal Film Maker</td>\n",
       "      <td>Comedy, Drama, Magic, Romance, Fantasy</td>\n",
       "      <td>['\"Morning Grace\" by Ritsuko Okazaki']</td>\n",
       "      <td>['\"Watashi No Ai Wa Chiisaikeredo\" by Ritsuko ...</td>\n",
       "      <td>16.0</td>\n",
       "      <td>2002</td>\n",
       "    </tr>\n",
       "    <tr>\n",
       "      <th>4</th>\n",
       "      <td>12365</td>\n",
       "      <td>Bakuman. 3rd Season</td>\n",
       "      <td>Bakuman.</td>\n",
       "      <td>バクマン。</td>\n",
       "      <td>Bakuman Season 3</td>\n",
       "      <td>https://myanimelist.cdn-dena.com/images/anime/...</td>\n",
       "      <td>TV</td>\n",
       "      <td>Manga</td>\n",
       "      <td>25</td>\n",
       "      <td>Finished Airing</td>\n",
       "      <td>...</td>\n",
       "      <td>Unknown</td>\n",
       "      <td>{'Adaptation': [{'mal_id': 9711, 'type': 'mang...</td>\n",
       "      <td>NHK, Shueisha</td>\n",
       "      <td>NaN</td>\n",
       "      <td>J.C.Staff</td>\n",
       "      <td>Comedy, Drama, Romance, Shounen</td>\n",
       "      <td>['#1: \"Moshimo no Hanashi (もしもの話)\" by nano.RIP...</td>\n",
       "      <td>['#1: \"Pride on Everyday\" by Sphere (eps 1-13)...</td>\n",
       "      <td>24.0</td>\n",
       "      <td>2012</td>\n",
       "    </tr>\n",
       "  </tbody>\n",
       "</table>\n",
       "<p>5 rows × 33 columns</p>\n",
       "</div>"
      ],
      "text/plain": [
       "   anime_id                title              title_english title_japanese  \\\n",
       "0     11013        Inu x Boku SS  Inu X Boku Secret Service         妖狐×僕SS   \n",
       "1      2104     Seto no Hanayome      My Bride is a Mermaid          瀬戸の花嫁   \n",
       "2      5262   Shugo Chara!! Doki         Shugo Chara!! Doki    しゅごキャラ！！どきっ   \n",
       "3       721        Princess Tutu              Princess Tutu      プリンセスチュチュ   \n",
       "4     12365  Bakuman. 3rd Season                   Bakuman.          バクマン。   \n",
       "\n",
       "                                  title_synonyms  \\\n",
       "0                                Youko x Boku SS   \n",
       "1                           The Inland Sea Bride   \n",
       "2  Shugo Chara Ninenme, Shugo Chara! Second Year   \n",
       "3                                            NaN   \n",
       "4                               Bakuman Season 3   \n",
       "\n",
       "                                           image_url type    source  episodes  \\\n",
       "0  https://myanimelist.cdn-dena.com/images/anime/...   TV     Manga        12   \n",
       "1  https://myanimelist.cdn-dena.com/images/anime/...   TV     Manga        26   \n",
       "2  https://myanimelist.cdn-dena.com/images/anime/...   TV     Manga        51   \n",
       "3  https://myanimelist.cdn-dena.com/images/anime/...   TV  Original        38   \n",
       "4  https://myanimelist.cdn-dena.com/images/anime/...   TV     Manga        25   \n",
       "\n",
       "            status  ...           broadcast  \\\n",
       "0  Finished Airing  ...  Fridays at Unknown   \n",
       "1  Finished Airing  ...             Unknown   \n",
       "2  Finished Airing  ...             Unknown   \n",
       "3  Finished Airing  ...  Fridays at Unknown   \n",
       "4  Finished Airing  ...             Unknown   \n",
       "\n",
       "                                             related  \\\n",
       "0  {'Adaptation': [{'mal_id': 17207, 'type': 'man...   \n",
       "1  {'Adaptation': [{'mal_id': 759, 'type': 'manga...   \n",
       "2  {'Adaptation': [{'mal_id': 101, 'type': 'manga...   \n",
       "3  {'Adaptation': [{'mal_id': 1581, 'type': 'mang...   \n",
       "4  {'Adaptation': [{'mal_id': 9711, 'type': 'mang...   \n",
       "\n",
       "                                            producer          licensor  \\\n",
       "0  Aniplex, Square Enix, Mainichi Broadcasting Sy...  Sentai Filmworks   \n",
       "1                  TV Tokyo, AIC, Square Enix, Sotsu        Funimation   \n",
       "2                                    TV Tokyo, Sotsu               NaN   \n",
       "3                 Memory-Tech, GANSIS, Marvelous AQL         ADV Films   \n",
       "4                                      NHK, Shueisha               NaN   \n",
       "\n",
       "             studio                                     genre  \\\n",
       "0  David Production    Comedy, Supernatural, Romance, Shounen   \n",
       "1             Gonzo  Comedy, Parody, Romance, School, Shounen   \n",
       "2         Satelight             Comedy, Magic, School, Shoujo   \n",
       "3    Hal Film Maker    Comedy, Drama, Magic, Romance, Fantasy   \n",
       "4         J.C.Staff           Comedy, Drama, Romance, Shounen   \n",
       "\n",
       "                                       opening_theme  \\\n",
       "0                              ['\"Nirvana\" by MUCC']   \n",
       "1                 ['\"Romantic summer\" by SUN&LUNAR']   \n",
       "2  ['#1: \"Minna no Tamago (みんなのたまご)\" by Shugo Cha...   \n",
       "3             ['\"Morning Grace\" by Ritsuko Okazaki']   \n",
       "4  ['#1: \"Moshimo no Hanashi (もしもの話)\" by nano.RIP...   \n",
       "\n",
       "                                        ending_theme  duration_min  \\\n",
       "0  ['#1: \"Nirvana\" by MUCC (eps 1, 11-12)', '#2: ...          24.0   \n",
       "1  ['#1: \"Ashita e no Hikari (明日への光)\" by Asuka Hi...          24.0   \n",
       "2  ['#1: \"Rottara Rottara (ロッタラ ロッタラ)\" by Buono! ...          24.0   \n",
       "3  ['\"Watashi No Ai Wa Chiisaikeredo\" by Ritsuko ...          16.0   \n",
       "4  ['#1: \"Pride on Everyday\" by Sphere (eps 1-13)...          24.0   \n",
       "\n",
       "   aired_from_year  \n",
       "0             2012  \n",
       "1             2007  \n",
       "2             2008  \n",
       "3             2002  \n",
       "4             2012  \n",
       "\n",
       "[5 rows x 33 columns]"
      ]
     },
     "execution_count": 14,
     "metadata": {},
     "output_type": "execute_result"
    }
   ],
   "source": [
    "anime.head()"
   ]
  },
  {
   "cell_type": "code",
   "execution_count": 16,
   "id": "da6fb993-f880-40cc-b9b4-eec09abd8bde",
   "metadata": {},
   "outputs": [],
   "source": [
    "anime_crosstab = pd.crosstab(anime['source'], anime['type'])"
   ]
  },
  {
   "cell_type": "code",
   "execution_count": 17,
   "id": "2b4a67c3-6112-4368-a504-37c99f4496fc",
   "metadata": {},
   "outputs": [
    {
     "data": {
      "text/html": [
       "<div>\n",
       "<style scoped>\n",
       "    .dataframe tbody tr th:only-of-type {\n",
       "        vertical-align: middle;\n",
       "    }\n",
       "\n",
       "    .dataframe tbody tr th {\n",
       "        vertical-align: top;\n",
       "    }\n",
       "\n",
       "    .dataframe thead th {\n",
       "        text-align: right;\n",
       "    }\n",
       "</style>\n",
       "<table border=\"1\" class=\"dataframe\">\n",
       "  <thead>\n",
       "    <tr style=\"text-align: right;\">\n",
       "      <th>type</th>\n",
       "      <th>Movie</th>\n",
       "      <th>Music</th>\n",
       "      <th>ONA</th>\n",
       "      <th>OVA</th>\n",
       "      <th>Special</th>\n",
       "      <th>TV</th>\n",
       "    </tr>\n",
       "    <tr>\n",
       "      <th>source</th>\n",
       "      <th></th>\n",
       "      <th></th>\n",
       "      <th></th>\n",
       "      <th></th>\n",
       "      <th></th>\n",
       "      <th></th>\n",
       "    </tr>\n",
       "  </thead>\n",
       "  <tbody>\n",
       "    <tr>\n",
       "      <th>4-koma manga</th>\n",
       "      <td>9</td>\n",
       "      <td>0</td>\n",
       "      <td>11</td>\n",
       "      <td>22</td>\n",
       "      <td>41</td>\n",
       "      <td>111</td>\n",
       "    </tr>\n",
       "    <tr>\n",
       "      <th>Book</th>\n",
       "      <td>19</td>\n",
       "      <td>0</td>\n",
       "      <td>0</td>\n",
       "      <td>2</td>\n",
       "      <td>0</td>\n",
       "      <td>24</td>\n",
       "    </tr>\n",
       "    <tr>\n",
       "      <th>Card game</th>\n",
       "      <td>5</td>\n",
       "      <td>0</td>\n",
       "      <td>0</td>\n",
       "      <td>0</td>\n",
       "      <td>7</td>\n",
       "      <td>34</td>\n",
       "    </tr>\n",
       "    <tr>\n",
       "      <th>Digital manga</th>\n",
       "      <td>0</td>\n",
       "      <td>0</td>\n",
       "      <td>0</td>\n",
       "      <td>1</td>\n",
       "      <td>0</td>\n",
       "      <td>6</td>\n",
       "    </tr>\n",
       "    <tr>\n",
       "      <th>Game</th>\n",
       "      <td>78</td>\n",
       "      <td>9</td>\n",
       "      <td>39</td>\n",
       "      <td>57</td>\n",
       "      <td>65</td>\n",
       "      <td>176</td>\n",
       "    </tr>\n",
       "    <tr>\n",
       "      <th>Light novel</th>\n",
       "      <td>49</td>\n",
       "      <td>0</td>\n",
       "      <td>14</td>\n",
       "      <td>86</td>\n",
       "      <td>96</td>\n",
       "      <td>267</td>\n",
       "    </tr>\n",
       "    <tr>\n",
       "      <th>Manga</th>\n",
       "      <td>324</td>\n",
       "      <td>12</td>\n",
       "      <td>82</td>\n",
       "      <td>586</td>\n",
       "      <td>335</td>\n",
       "      <td>1154</td>\n",
       "    </tr>\n",
       "    <tr>\n",
       "      <th>Music</th>\n",
       "      <td>2</td>\n",
       "      <td>42</td>\n",
       "      <td>0</td>\n",
       "      <td>1</td>\n",
       "      <td>0</td>\n",
       "      <td>10</td>\n",
       "    </tr>\n",
       "    <tr>\n",
       "      <th>Novel</th>\n",
       "      <td>69</td>\n",
       "      <td>1</td>\n",
       "      <td>31</td>\n",
       "      <td>31</td>\n",
       "      <td>33</td>\n",
       "      <td>117</td>\n",
       "    </tr>\n",
       "    <tr>\n",
       "      <th>Original</th>\n",
       "      <td>298</td>\n",
       "      <td>32</td>\n",
       "      <td>163</td>\n",
       "      <td>260</td>\n",
       "      <td>266</td>\n",
       "      <td>770</td>\n",
       "    </tr>\n",
       "    <tr>\n",
       "      <th>Other</th>\n",
       "      <td>27</td>\n",
       "      <td>1</td>\n",
       "      <td>22</td>\n",
       "      <td>23</td>\n",
       "      <td>23</td>\n",
       "      <td>74</td>\n",
       "    </tr>\n",
       "    <tr>\n",
       "      <th>Picture book</th>\n",
       "      <td>12</td>\n",
       "      <td>1</td>\n",
       "      <td>5</td>\n",
       "      <td>1</td>\n",
       "      <td>2</td>\n",
       "      <td>32</td>\n",
       "    </tr>\n",
       "    <tr>\n",
       "      <th>Radio</th>\n",
       "      <td>0</td>\n",
       "      <td>0</td>\n",
       "      <td>0</td>\n",
       "      <td>0</td>\n",
       "      <td>1</td>\n",
       "      <td>4</td>\n",
       "    </tr>\n",
       "    <tr>\n",
       "      <th>Visual novel</th>\n",
       "      <td>14</td>\n",
       "      <td>0</td>\n",
       "      <td>12</td>\n",
       "      <td>269</td>\n",
       "      <td>43</td>\n",
       "      <td>144</td>\n",
       "    </tr>\n",
       "    <tr>\n",
       "      <th>Web manga</th>\n",
       "      <td>2</td>\n",
       "      <td>0</td>\n",
       "      <td>29</td>\n",
       "      <td>6</td>\n",
       "      <td>17</td>\n",
       "      <td>57</td>\n",
       "    </tr>\n",
       "  </tbody>\n",
       "</table>\n",
       "</div>"
      ],
      "text/plain": [
       "type           Movie  Music  ONA  OVA  Special    TV\n",
       "source                                              \n",
       "4-koma manga       9      0   11   22       41   111\n",
       "Book              19      0    0    2        0    24\n",
       "Card game          5      0    0    0        7    34\n",
       "Digital manga      0      0    0    1        0     6\n",
       "Game              78      9   39   57       65   176\n",
       "Light novel       49      0   14   86       96   267\n",
       "Manga            324     12   82  586      335  1154\n",
       "Music              2     42    0    1        0    10\n",
       "Novel             69      1   31   31       33   117\n",
       "Original         298     32  163  260      266   770\n",
       "Other             27      1   22   23       23    74\n",
       "Picture book      12      1    5    1        2    32\n",
       "Radio              0      0    0    0        1     4\n",
       "Visual novel      14      0   12  269       43   144\n",
       "Web manga          2      0   29    6       17    57"
      ]
     },
     "execution_count": 17,
     "metadata": {},
     "output_type": "execute_result"
    }
   ],
   "source": [
    "anime_crosstab"
   ]
  },
  {
   "cell_type": "code",
   "execution_count": 18,
   "id": "25e6f1e3-75b8-4773-821b-1536ab699786",
   "metadata": {},
   "outputs": [
    {
     "data": {
      "text/plain": [
       "(3026.100282147132,\n",
       " 0.0,\n",
       " 70,\n",
       " array([[2.64175165e+01, 2.85122975e+00, 1.18704259e+01, 3.91316737e+01,\n",
       "         2.70284943e+01, 8.67006599e+01],\n",
       "        [6.12777445e+00, 6.61367726e-01, 2.75344931e+00, 9.07693461e+00,\n",
       "         6.26949610e+00, 2.01109778e+01],\n",
       "        [6.26394721e+00, 6.76064787e-01, 2.81463707e+00, 9.27864427e+00,\n",
       "         6.40881824e+00, 2.05578884e+01],\n",
       "        [9.53209358e-01, 1.02879424e-01, 4.28314337e-01, 1.41196761e+00,\n",
       "         9.75254949e-01, 3.12837433e+00],\n",
       "        [5.77372525e+01, 6.23155369e+00, 2.59436113e+01, 8.55248950e+01,\n",
       "         5.90725855e+01, 1.89490102e+02],\n",
       "        [6.97204559e+01, 7.52489502e+00, 3.13281344e+01, 1.03275345e+02,\n",
       "         7.13329334e+01, 2.28818236e+02],\n",
       "        [3.39478704e+02, 3.66397720e+01, 1.52541092e+02, 5.02862178e+02,\n",
       "         3.47330084e+02, 1.11414817e+03],\n",
       "        [7.48950210e+00, 8.08338332e-01, 3.36532693e+00, 1.10940312e+01,\n",
       "         7.66271746e+00, 2.45800840e+01],\n",
       "        [3.84007199e+01, 4.14457109e+00, 1.72549490e+01, 5.68821236e+01,\n",
       "         3.92888422e+01, 1.26028794e+02],\n",
       "        [2.43613077e+02, 2.62930414e+01, 1.09464907e+02, 3.60858578e+02,\n",
       "         2.49247301e+02, 7.99523095e+02],\n",
       "        [2.31493701e+01, 2.49850030e+00, 1.04019196e+01, 3.42906419e+01,\n",
       "         2.36847630e+01, 7.59748050e+01],\n",
       "        [7.21715657e+00, 7.78944211e-01, 3.24295141e+00, 1.06906119e+01,\n",
       "         7.38407319e+00, 2.36862627e+01],\n",
       "        [6.80863827e-01, 7.34853029e-02, 3.05938812e-01, 1.00854829e+00,\n",
       "         6.96610678e-01, 2.23455309e+00],\n",
       "        [6.56352729e+01, 7.08398320e+00, 2.94925015e+01, 9.72240552e+01,\n",
       "         6.71532693e+01, 2.15410918e+02],\n",
       "        [1.51151770e+01, 1.63137373e+00, 6.79184163e+00, 2.23897720e+01,\n",
       "         1.54647570e+01, 4.96070786e+01]]))"
      ]
     },
     "execution_count": 18,
     "metadata": {},
     "output_type": "execute_result"
    }
   ],
   "source": [
    "stats.chi2_contingency(anime_crosstab)"
   ]
  },
  {
   "cell_type": "markdown",
   "id": "25026598-c9b2-446f-ace8-0578c4addeeb",
   "metadata": {},
   "source": [
    "## The Chi-Square is 3026.10 with a p value of 0.0. Looking at this, it looks like there is a significant relationship between anime source and anime type. The Original and Manga are in the lead for OVA and Movies."
   ]
  },
  {
   "cell_type": "markdown",
   "id": "96fc696b-9d23-44a8-a857-6e1a6817ca59",
   "metadata": {},
   "source": [
    "# How do the Variables about Popularity / Ranking Relate to Each Other?"
   ]
  },
  {
   "cell_type": "code",
   "execution_count": 19,
   "id": "b9d2e14c-f0bb-46cf-9b24-0802b02fe527",
   "metadata": {},
   "outputs": [
    {
     "data": {
      "text/plain": [
       "0.7773024303272644"
      ]
     },
     "execution_count": 19,
     "metadata": {},
     "output_type": "execute_result"
    }
   ],
   "source": [
    "anime['popularity'].corr(anime['rank'])"
   ]
  },
  {
   "cell_type": "markdown",
   "id": "224f21bf-6099-43d5-84ac-bb9f1c60b590",
   "metadata": {},
   "source": [
    "## The popularity of an anime and the ranking of an anime are quite related. 0.77 is a strong correlation that is rather close to 1. This correlation is also positive, which means that as the popularity of an anime increases, so does the rank, and vice versa."
   ]
  },
  {
   "cell_type": "code",
   "execution_count": 23,
   "id": "dc84bfe9-36a9-4026-b366-df300bbbfde5",
   "metadata": {},
   "outputs": [],
   "source": [
    "anime1 = anime.drop(['anime_id','title', 'title_english', 'title_japanese', 'title_synonyms', 'image_url', 'type', 'source', 'episodes', 'status', 'airing', 'aired_string', 'aired', 'duration', 'rating', 'background', 'premiered', 'broadcast', 'related', 'producer', 'licensor', 'studio', 'genre', 'opening_theme', 'ending_theme', 'duration_min', 'aired_from_year'], axis = 1)"
   ]
  },
  {
   "cell_type": "code",
   "execution_count": 25,
   "id": "85f238a9-8790-4a97-87c9-6a4d86ffd70f",
   "metadata": {},
   "outputs": [
    {
     "data": {
      "text/html": [
       "<div>\n",
       "<style scoped>\n",
       "    .dataframe tbody tr th:only-of-type {\n",
       "        vertical-align: middle;\n",
       "    }\n",
       "\n",
       "    .dataframe tbody tr th {\n",
       "        vertical-align: top;\n",
       "    }\n",
       "\n",
       "    .dataframe thead th {\n",
       "        text-align: right;\n",
       "    }\n",
       "</style>\n",
       "<table border=\"1\" class=\"dataframe\">\n",
       "  <thead>\n",
       "    <tr style=\"text-align: right;\">\n",
       "      <th></th>\n",
       "      <th>score</th>\n",
       "      <th>scored_by</th>\n",
       "      <th>rank</th>\n",
       "      <th>popularity</th>\n",
       "      <th>members</th>\n",
       "      <th>favorites</th>\n",
       "    </tr>\n",
       "  </thead>\n",
       "  <tbody>\n",
       "    <tr>\n",
       "      <th>0</th>\n",
       "      <td>7.63</td>\n",
       "      <td>139250</td>\n",
       "      <td>1274.0</td>\n",
       "      <td>231</td>\n",
       "      <td>283882</td>\n",
       "      <td>2809</td>\n",
       "    </tr>\n",
       "    <tr>\n",
       "      <th>1</th>\n",
       "      <td>7.89</td>\n",
       "      <td>91206</td>\n",
       "      <td>727.0</td>\n",
       "      <td>366</td>\n",
       "      <td>204003</td>\n",
       "      <td>2579</td>\n",
       "    </tr>\n",
       "    <tr>\n",
       "      <th>2</th>\n",
       "      <td>7.55</td>\n",
       "      <td>37129</td>\n",
       "      <td>1508.0</td>\n",
       "      <td>1173</td>\n",
       "      <td>70127</td>\n",
       "      <td>802</td>\n",
       "    </tr>\n",
       "    <tr>\n",
       "      <th>3</th>\n",
       "      <td>8.21</td>\n",
       "      <td>36501</td>\n",
       "      <td>307.0</td>\n",
       "      <td>916</td>\n",
       "      <td>93312</td>\n",
       "      <td>3344</td>\n",
       "    </tr>\n",
       "    <tr>\n",
       "      <th>4</th>\n",
       "      <td>8.67</td>\n",
       "      <td>107767</td>\n",
       "      <td>50.0</td>\n",
       "      <td>426</td>\n",
       "      <td>182765</td>\n",
       "      <td>2082</td>\n",
       "    </tr>\n",
       "  </tbody>\n",
       "</table>\n",
       "</div>"
      ],
      "text/plain": [
       "   score  scored_by    rank  popularity  members  favorites\n",
       "0   7.63     139250  1274.0         231   283882       2809\n",
       "1   7.89      91206   727.0         366   204003       2579\n",
       "2   7.55      37129  1508.0        1173    70127        802\n",
       "3   8.21      36501   307.0         916    93312       3344\n",
       "4   8.67     107767    50.0         426   182765       2082"
      ]
     },
     "execution_count": 25,
     "metadata": {},
     "output_type": "execute_result"
    }
   ],
   "source": [
    "anime1.head()"
   ]
  },
  {
   "cell_type": "code",
   "execution_count": 26,
   "id": "26e559d5-1eca-4e4e-9026-832f45cb552c",
   "metadata": {},
   "outputs": [
    {
     "data": {
      "text/html": [
       "<div>\n",
       "<style scoped>\n",
       "    .dataframe tbody tr th:only-of-type {\n",
       "        vertical-align: middle;\n",
       "    }\n",
       "\n",
       "    .dataframe tbody tr th {\n",
       "        vertical-align: top;\n",
       "    }\n",
       "\n",
       "    .dataframe thead th {\n",
       "        text-align: right;\n",
       "    }\n",
       "</style>\n",
       "<table border=\"1\" class=\"dataframe\">\n",
       "  <thead>\n",
       "    <tr style=\"text-align: right;\">\n",
       "      <th></th>\n",
       "      <th>score</th>\n",
       "      <th>scored_by</th>\n",
       "      <th>rank</th>\n",
       "      <th>popularity</th>\n",
       "      <th>members</th>\n",
       "      <th>favorites</th>\n",
       "    </tr>\n",
       "  </thead>\n",
       "  <tbody>\n",
       "    <tr>\n",
       "      <th>score</th>\n",
       "      <td>1.000000</td>\n",
       "      <td>0.381926</td>\n",
       "      <td>-0.898747</td>\n",
       "      <td>-0.688492</td>\n",
       "      <td>0.415626</td>\n",
       "      <td>0.256094</td>\n",
       "    </tr>\n",
       "    <tr>\n",
       "      <th>scored_by</th>\n",
       "      <td>0.381926</td>\n",
       "      <td>1.000000</td>\n",
       "      <td>-0.356686</td>\n",
       "      <td>-0.425719</td>\n",
       "      <td>0.987107</td>\n",
       "      <td>0.793949</td>\n",
       "    </tr>\n",
       "    <tr>\n",
       "      <th>rank</th>\n",
       "      <td>-0.898747</td>\n",
       "      <td>-0.356686</td>\n",
       "      <td>1.000000</td>\n",
       "      <td>0.777302</td>\n",
       "      <td>-0.391524</td>\n",
       "      <td>-0.208503</td>\n",
       "    </tr>\n",
       "    <tr>\n",
       "      <th>popularity</th>\n",
       "      <td>-0.688492</td>\n",
       "      <td>-0.425719</td>\n",
       "      <td>0.777302</td>\n",
       "      <td>1.000000</td>\n",
       "      <td>-0.474798</td>\n",
       "      <td>-0.210745</td>\n",
       "    </tr>\n",
       "    <tr>\n",
       "      <th>members</th>\n",
       "      <td>0.415626</td>\n",
       "      <td>0.987107</td>\n",
       "      <td>-0.391524</td>\n",
       "      <td>-0.474798</td>\n",
       "      <td>1.000000</td>\n",
       "      <td>0.781565</td>\n",
       "    </tr>\n",
       "    <tr>\n",
       "      <th>favorites</th>\n",
       "      <td>0.256094</td>\n",
       "      <td>0.793949</td>\n",
       "      <td>-0.208503</td>\n",
       "      <td>-0.210745</td>\n",
       "      <td>0.781565</td>\n",
       "      <td>1.000000</td>\n",
       "    </tr>\n",
       "  </tbody>\n",
       "</table>\n",
       "</div>"
      ],
      "text/plain": [
       "               score  scored_by      rank  popularity   members  favorites\n",
       "score       1.000000   0.381926 -0.898747   -0.688492  0.415626   0.256094\n",
       "scored_by   0.381926   1.000000 -0.356686   -0.425719  0.987107   0.793949\n",
       "rank       -0.898747  -0.356686  1.000000    0.777302 -0.391524  -0.208503\n",
       "popularity -0.688492  -0.425719  0.777302    1.000000 -0.474798  -0.210745\n",
       "members     0.415626   0.987107 -0.391524   -0.474798  1.000000   0.781565\n",
       "favorites   0.256094   0.793949 -0.208503   -0.210745  0.781565   1.000000"
      ]
     },
     "execution_count": 26,
     "metadata": {},
     "output_type": "execute_result"
    }
   ],
   "source": [
    "anime1.corr(method='pearson')"
   ]
  },
  {
   "cell_type": "code",
   "execution_count": 28,
   "id": "93094882-f629-4c36-9ea5-c5928762cbf4",
   "metadata": {},
   "outputs": [
    {
     "data": {
      "text/html": [
       "<style type=\"text/css\">\n",
       "#T_2cfa2_row0_col0, #T_2cfa2_row1_col1, #T_2cfa2_row2_col2, #T_2cfa2_row3_col3, #T_2cfa2_row4_col4, #T_2cfa2_row5_col5 {\n",
       "  background-color: #b40426;\n",
       "  color: #f1f1f1;\n",
       "}\n",
       "#T_2cfa2_row0_col1 {\n",
       "  background-color: #f7b599;\n",
       "  color: #000000;\n",
       "}\n",
       "#T_2cfa2_row0_col2, #T_2cfa2_row1_col3, #T_2cfa2_row2_col0, #T_2cfa2_row3_col0, #T_2cfa2_row4_col3, #T_2cfa2_row5_col2, #T_2cfa2_row5_col3 {\n",
       "  background-color: #3b4cc0;\n",
       "  color: #f1f1f1;\n",
       "}\n",
       "#T_2cfa2_row0_col3 {\n",
       "  background-color: #5d7ce6;\n",
       "  color: #f1f1f1;\n",
       "}\n",
       "#T_2cfa2_row0_col4 {\n",
       "  background-color: #f7af91;\n",
       "  color: #000000;\n",
       "}\n",
       "#T_2cfa2_row0_col5 {\n",
       "  background-color: #f2c9b4;\n",
       "  color: #000000;\n",
       "}\n",
       "#T_2cfa2_row1_col0 {\n",
       "  background-color: #edd2c3;\n",
       "  color: #000000;\n",
       "}\n",
       "#T_2cfa2_row1_col2 {\n",
       "  background-color: #4961d2;\n",
       "  color: #f1f1f1;\n",
       "}\n",
       "#T_2cfa2_row1_col4, #T_2cfa2_row4_col1 {\n",
       "  background-color: #b70d28;\n",
       "  color: #f1f1f1;\n",
       "}\n",
       "#T_2cfa2_row1_col5 {\n",
       "  background-color: #e26952;\n",
       "  color: #f1f1f1;\n",
       "}\n",
       "#T_2cfa2_row2_col1 {\n",
       "  background-color: #9abbff;\n",
       "  color: #000000;\n",
       "}\n",
       "#T_2cfa2_row2_col3 {\n",
       "  background-color: #dc5d4a;\n",
       "  color: #f1f1f1;\n",
       "}\n",
       "#T_2cfa2_row2_col4 {\n",
       "  background-color: #93b5fe;\n",
       "  color: #000000;\n",
       "}\n",
       "#T_2cfa2_row2_col5 {\n",
       "  background-color: #b5cdfa;\n",
       "  color: #000000;\n",
       "}\n",
       "#T_2cfa2_row3_col1 {\n",
       "  background-color: #6b8df0;\n",
       "  color: #f1f1f1;\n",
       "}\n",
       "#T_2cfa2_row3_col2 {\n",
       "  background-color: #df634e;\n",
       "  color: #f1f1f1;\n",
       "}\n",
       "#T_2cfa2_row3_col4 {\n",
       "  background-color: #6282ea;\n",
       "  color: #f1f1f1;\n",
       "}\n",
       "#T_2cfa2_row3_col5 {\n",
       "  background-color: #98b9ff;\n",
       "  color: #000000;\n",
       "}\n",
       "#T_2cfa2_row4_col0 {\n",
       "  background-color: #f2cab5;\n",
       "  color: #000000;\n",
       "}\n",
       "#T_2cfa2_row4_col2 {\n",
       "  background-color: #4b64d5;\n",
       "  color: #f1f1f1;\n",
       "}\n",
       "#T_2cfa2_row4_col5 {\n",
       "  background-color: #e36b54;\n",
       "  color: #f1f1f1;\n",
       "}\n",
       "#T_2cfa2_row5_col0 {\n",
       "  background-color: #bbd1f8;\n",
       "  color: #000000;\n",
       "}\n",
       "#T_2cfa2_row5_col1 {\n",
       "  background-color: #e8765c;\n",
       "  color: #f1f1f1;\n",
       "}\n",
       "#T_2cfa2_row5_col4 {\n",
       "  background-color: #ea7b60;\n",
       "  color: #f1f1f1;\n",
       "}\n",
       "</style>\n",
       "<table id=\"T_2cfa2\">\n",
       "  <thead>\n",
       "    <tr>\n",
       "      <th class=\"blank level0\" >&nbsp;</th>\n",
       "      <th id=\"T_2cfa2_level0_col0\" class=\"col_heading level0 col0\" >score</th>\n",
       "      <th id=\"T_2cfa2_level0_col1\" class=\"col_heading level0 col1\" >scored_by</th>\n",
       "      <th id=\"T_2cfa2_level0_col2\" class=\"col_heading level0 col2\" >rank</th>\n",
       "      <th id=\"T_2cfa2_level0_col3\" class=\"col_heading level0 col3\" >popularity</th>\n",
       "      <th id=\"T_2cfa2_level0_col4\" class=\"col_heading level0 col4\" >members</th>\n",
       "      <th id=\"T_2cfa2_level0_col5\" class=\"col_heading level0 col5\" >favorites</th>\n",
       "    </tr>\n",
       "  </thead>\n",
       "  <tbody>\n",
       "    <tr>\n",
       "      <th id=\"T_2cfa2_level0_row0\" class=\"row_heading level0 row0\" >score</th>\n",
       "      <td id=\"T_2cfa2_row0_col0\" class=\"data row0 col0\" >1.0</td>\n",
       "      <td id=\"T_2cfa2_row0_col1\" class=\"data row0 col1\" >0.38</td>\n",
       "      <td id=\"T_2cfa2_row0_col2\" class=\"data row0 col2\" >-0.9</td>\n",
       "      <td id=\"T_2cfa2_row0_col3\" class=\"data row0 col3\" >-0.69</td>\n",
       "      <td id=\"T_2cfa2_row0_col4\" class=\"data row0 col4\" >0.42</td>\n",
       "      <td id=\"T_2cfa2_row0_col5\" class=\"data row0 col5\" >0.26</td>\n",
       "    </tr>\n",
       "    <tr>\n",
       "      <th id=\"T_2cfa2_level0_row1\" class=\"row_heading level0 row1\" >scored_by</th>\n",
       "      <td id=\"T_2cfa2_row1_col0\" class=\"data row1 col0\" >0.38</td>\n",
       "      <td id=\"T_2cfa2_row1_col1\" class=\"data row1 col1\" >1.0</td>\n",
       "      <td id=\"T_2cfa2_row1_col2\" class=\"data row1 col2\" >-0.36</td>\n",
       "      <td id=\"T_2cfa2_row1_col3\" class=\"data row1 col3\" >-0.43</td>\n",
       "      <td id=\"T_2cfa2_row1_col4\" class=\"data row1 col4\" >0.99</td>\n",
       "      <td id=\"T_2cfa2_row1_col5\" class=\"data row1 col5\" >0.79</td>\n",
       "    </tr>\n",
       "    <tr>\n",
       "      <th id=\"T_2cfa2_level0_row2\" class=\"row_heading level0 row2\" >rank</th>\n",
       "      <td id=\"T_2cfa2_row2_col0\" class=\"data row2 col0\" >-0.9</td>\n",
       "      <td id=\"T_2cfa2_row2_col1\" class=\"data row2 col1\" >-0.36</td>\n",
       "      <td id=\"T_2cfa2_row2_col2\" class=\"data row2 col2\" >1.0</td>\n",
       "      <td id=\"T_2cfa2_row2_col3\" class=\"data row2 col3\" >0.78</td>\n",
       "      <td id=\"T_2cfa2_row2_col4\" class=\"data row2 col4\" >-0.39</td>\n",
       "      <td id=\"T_2cfa2_row2_col5\" class=\"data row2 col5\" >-0.21</td>\n",
       "    </tr>\n",
       "    <tr>\n",
       "      <th id=\"T_2cfa2_level0_row3\" class=\"row_heading level0 row3\" >popularity</th>\n",
       "      <td id=\"T_2cfa2_row3_col0\" class=\"data row3 col0\" >-0.69</td>\n",
       "      <td id=\"T_2cfa2_row3_col1\" class=\"data row3 col1\" >-0.43</td>\n",
       "      <td id=\"T_2cfa2_row3_col2\" class=\"data row3 col2\" >0.78</td>\n",
       "      <td id=\"T_2cfa2_row3_col3\" class=\"data row3 col3\" >1.0</td>\n",
       "      <td id=\"T_2cfa2_row3_col4\" class=\"data row3 col4\" >-0.47</td>\n",
       "      <td id=\"T_2cfa2_row3_col5\" class=\"data row3 col5\" >-0.21</td>\n",
       "    </tr>\n",
       "    <tr>\n",
       "      <th id=\"T_2cfa2_level0_row4\" class=\"row_heading level0 row4\" >members</th>\n",
       "      <td id=\"T_2cfa2_row4_col0\" class=\"data row4 col0\" >0.42</td>\n",
       "      <td id=\"T_2cfa2_row4_col1\" class=\"data row4 col1\" >0.99</td>\n",
       "      <td id=\"T_2cfa2_row4_col2\" class=\"data row4 col2\" >-0.39</td>\n",
       "      <td id=\"T_2cfa2_row4_col3\" class=\"data row4 col3\" >-0.47</td>\n",
       "      <td id=\"T_2cfa2_row4_col4\" class=\"data row4 col4\" >1.0</td>\n",
       "      <td id=\"T_2cfa2_row4_col5\" class=\"data row4 col5\" >0.78</td>\n",
       "    </tr>\n",
       "    <tr>\n",
       "      <th id=\"T_2cfa2_level0_row5\" class=\"row_heading level0 row5\" >favorites</th>\n",
       "      <td id=\"T_2cfa2_row5_col0\" class=\"data row5 col0\" >0.26</td>\n",
       "      <td id=\"T_2cfa2_row5_col1\" class=\"data row5 col1\" >0.79</td>\n",
       "      <td id=\"T_2cfa2_row5_col2\" class=\"data row5 col2\" >-0.21</td>\n",
       "      <td id=\"T_2cfa2_row5_col3\" class=\"data row5 col3\" >-0.21</td>\n",
       "      <td id=\"T_2cfa2_row5_col4\" class=\"data row5 col4\" >0.78</td>\n",
       "      <td id=\"T_2cfa2_row5_col5\" class=\"data row5 col5\" >1.0</td>\n",
       "    </tr>\n",
       "  </tbody>\n",
       "</table>\n"
      ],
      "text/plain": [
       "<pandas.io.formats.style.Styler at 0x19850269030>"
      ]
     },
     "execution_count": 28,
     "metadata": {},
     "output_type": "execute_result"
    }
   ],
   "source": [
    "anime1.corr(method='pearson').style.format(\"{:.2}\").background_gradient(cmap=plt.get_cmap('coolwarm'), axis=1)"
   ]
  },
  {
   "cell_type": "code",
   "execution_count": 29,
   "id": "bb5c9cc2-249f-415f-9541-2170441472f3",
   "metadata": {},
   "outputs": [
    {
     "data": {
      "text/plain": [
       "<AxesSubplot:>"
      ]
     },
     "execution_count": 29,
     "metadata": {},
     "output_type": "execute_result"
    },
    {
     "data": {
      "image/png": "[encoded data removed]",
      "text/plain": [
       "<Figure size 432x288 with 2 Axes>"
      ]
     },
     "metadata": {
      "needs_background": "light"
     },
     "output_type": "display_data"
    }
   ],
   "source": [
    "sns.heatmap(anime1.corr(), annot=True)"
   ]
  },
  {
   "cell_type": "code",
   "execution_count": null,
   "id": "482631ed-f935-44cc-9818-dc7707770833",
   "metadata": {},
   "outputs": [],
   "source": []
  }
 ],
 "metadata": {
  "kernelspec": {
   "display_name": "Python 3 (ipykernel)",
   "language": "python",
   "name": "python3"
  },
  "language_info": {
   "codemirror_mode": {
    "name": "ipython",
    "version": 3
   },
   "file_extension": ".py",
   "mimetype": "text/x-python",
   "name": "python",
   "nbconvert_exporter": "python",
   "pygments_lexer": "ipython3",
   "version": "3.10.2"
  }
 },
 "nbformat": 4,
 "nbformat_minor": 5
}
