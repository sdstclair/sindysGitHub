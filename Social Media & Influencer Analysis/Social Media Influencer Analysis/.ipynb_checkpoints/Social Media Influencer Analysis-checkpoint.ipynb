{
 "cells": [
  {
   "cell_type": "markdown",
   "id": "504dd957-5ae7-4b4b-913a-b6bd4b69940b",
   "metadata": {
    "extensions": {
     "jupyter_dashboards": {
      "activeView": "grid_default",
      "views": {
       "grid_default": {
        "col": null,
        "height": 2,
        "hidden": true,
        "locked": true,
        "row": null,
        "width": 2
       }
      }
     }
    },
    "tags": []
   },
   "source": [
    "# Social Media Influencers and Data Analysis"
   ]
  },
  {
   "cell_type": "code",
   "execution_count": 1,
   "id": "86ccb521-b7bf-46c9-87c5-dc6eda566cf1",
   "metadata": {
    "extensions": {
     "jupyter_dashboards": {
      "activeView": "grid_default",
      "views": {
       "grid_default": {
        "col": null,
        "height": 2,
        "hidden": true,
        "locked": true,
        "row": null,
        "width": 2
       }
      }
     }
    }
   },
   "outputs": [
    {
     "ename": "NameError",
     "evalue": "name 'filterwarnings' is not defined",
     "output_type": "error",
     "traceback": [
      "\u001b[1;31m---------------------------------------------------------------------------\u001b[0m",
      "\u001b[1;31mNameError\u001b[0m                                 Traceback (most recent call last)",
      "Input \u001b[1;32mIn [37]\u001b[0m, in \u001b[0;36m<cell line: 1>\u001b[1;34m()\u001b[0m\n\u001b[1;32m----> 1\u001b[0m \u001b[43mfilterwarnings\u001b[49m(\u001b[38;5;124m\"\u001b[39m\u001b[38;5;124mignore\u001b[39m\u001b[38;5;124m\"\u001b[39m)\n\u001b[0;32m      2\u001b[0m tf_img \u001b[38;5;241m=\u001b[39m io\u001b[38;5;241m.\u001b[39mread_file(\u001b[38;5;124mr\u001b[39m\u001b[38;5;124m\"\u001b[39m\u001b[38;5;124mC:\u001b[39m\u001b[38;5;124m\\\u001b[39m\u001b[38;5;124mUsers\u001b[39m\u001b[38;5;124m\\\u001b[39m\u001b[38;5;124msdstc\u001b[39m\u001b[38;5;124m\\\u001b[39m\u001b[38;5;124mDocuments\u001b[39m\u001b[38;5;124m\\\u001b[39m\u001b[38;5;124mEducation\u001b[39m\u001b[38;5;124m\\\u001b[39m\u001b[38;5;124mOther\u001b[39m\u001b[38;5;124m\\\u001b[39m\u001b[38;5;124mCareer and Upskilling\u001b[39m\u001b[38;5;124m\\\u001b[39m\u001b[38;5;124mEntity Academy\u001b[39m\u001b[38;5;124m\\\u001b[39m\u001b[38;5;124mPortfolio\u001b[39m\u001b[38;5;124m\\\u001b[39m\u001b[38;5;124mSocial Media Influencer Analysis\u001b[39m\u001b[38;5;124m\\\u001b[39m\u001b[38;5;124mSocial Media Influencers\u001b[39m\u001b[38;5;124m\\\u001b[39m\u001b[38;5;124msocial media influencers.jfif\u001b[39m\u001b[38;5;124m\"\u001b[39m)\n\u001b[0;32m      3\u001b[0m tf_img \u001b[38;5;241m=\u001b[39m image\u001b[38;5;241m.\u001b[39mdecode_png(tf_img, channels\u001b[38;5;241m=\u001b[39m\u001b[38;5;241m3\u001b[39m)\n",
      "\u001b[1;31mNameError\u001b[0m: name 'filterwarnings' is not defined"
     ]
    }
   ],
   "source": [
    "filterwarnings(\"ignore\")\n",
    "tf_img = io.read_file(r\"C:\\Users\\sdstc\\Documents\\Education\\Other\\Career and Upskilling\\Entity Academy\\Portfolio\\Social Media Influencer Analysis\\Social Media Influencers\\social media influencers.jfif\")\n",
    "tf_img = image.decode_png(tf_img, channels=3)\n",
    "print(tf_img.dtype)\n",
    "plt.imshow(tf_img)"
   ]
  },
  {
   "cell_type": "markdown",
   "id": "f538c9ed-cd2c-4d37-9732-a1a54ac75294",
   "metadata": {
    "extensions": {
     "jupyter_dashboards": {
      "activeView": "grid_default",
      "views": {
       "grid_default": {
        "col": null,
        "height": 2,
        "hidden": true,
        "locked": true,
        "row": null,
        "width": 2
       }
      }
     }
    }
   },
   "source": [
    "## First, we are going to load the necessary packages for data analysis"
   ]
  },
  {
   "cell_type": "code",
   "execution_count": 53,
   "id": "077554f8-340e-45f6-8287-300bc6af2d27",
   "metadata": {
    "extensions": {
     "jupyter_dashboards": {
      "activeView": "grid_default",
      "views": {
       "grid_default": {
        "col": null,
        "height": 2,
        "hidden": true,
        "locked": true,
        "row": null,
        "width": 2
       }
      }
     }
    }
   },
   "outputs": [
    {
     "name": "stderr",
     "output_type": "stream",
     "text": [
      "[nltk_data] Downloading package stopwords to\n",
      "[nltk_data]     C:\\Users\\sdstc\\AppData\\Roaming\\nltk_data...\n",
      "[nltk_data]   Package stopwords is already up-to-date!\n",
      "[nltk_data] Downloading package wordnet to\n",
      "[nltk_data]     C:\\Users\\sdstc\\AppData\\Roaming\\nltk_data...\n",
      "[nltk_data]   Package wordnet is already up-to-date!\n",
      "[nltk_data] Downloading package vader_lexicon to\n",
      "[nltk_data]     C:\\Users\\sdstc\\AppData\\Roaming\\nltk_data...\n",
      "[nltk_data]   Package vader_lexicon is already up-to-date!\n"
     ]
    }
   ],
   "source": [
    "import re\n",
    "import string\n",
    "import pandas as pd # data processing, CSV file I/O (e.g. pd.read_csv)\n",
    "import numpy as np # linear algebra \n",
    "\n",
    "import warnings\n",
    "from tqdm import tqdm\n",
    "import plotly.express as px\n",
    "from matplotlib import pyplot\n",
    "import matplotlib.pyplot as plt\n",
    "import matplotlib as plty\n",
    "from tqdm.notebook import tqdm_notebook\n",
    "import seaborn as sns\n",
    "%matplotlib inline\n",
    "from subprocess import check_output\n",
    "import plotly.graph_objects as go\n",
    "import plotly.figure_factory as ff\n",
    "from bokeh.io import show, output_file\n",
    "from bokeh.models import ColumnDataSource\n",
    "from bokeh.palettes import Spectral6\n",
    "from bokeh.plotting import figure\n",
    "from bokeh.io import export_png\n",
    "from bokeh.io import export_svgs\n",
    "\n",
    "\n",
    "import nltk\n",
    "import gensim\n",
    "from wordcloud import WordCloud\n",
    "from wordcloud import WordCloud, STOPWORDS\n",
    "from nltk.corpus import stopwords\n",
    "import gensim.downloader as api\n",
    "import requests\n",
    "from bs4 import BeautifulSoup\n",
    "from nltk.sentiment.vader import SentimentIntensityAnalyzer\n",
    "nltk.download('stopwords')\n",
    "from nltk.tokenize import RegexpTokenizer\n",
    "from nltk import word_tokenize\n",
    "stop_words = stopwords.words('english')\n",
    "stop = set(stopwords.words('english'))\n",
    "nltk.download('wordnet')\n",
    "from nltk.stem.wordnet import WordNetLemmatizer\n",
    "import tensorflow as tf\n",
    "from tensorflow.keras.preprocessing.text import Tokenizer\n",
    "from tensorflow.keras.preprocessing.sequence import pad_sequences\n",
    "from datasets import load_dataset, load_metric\n",
    "from transformers import AutoTokenizer\n",
    "from transformers import AutoModelForSequenceClassification, TrainingArguments, Trainer \n",
    "from textblob import TextBlob\n",
    "nltk.downloader.download('vader_lexicon')\n",
    "from nltk.stem import PorterStemmer\n",
    "from nltk.stem.wordnet import WordNetLemmatizer\n",
    "import spacy\n",
    "from scrapy.crawler import CrawlerProcess\n",
    "from scrapy.selector import Selector\n",
    "import json\n",
    "from nltk.stem.snowball import SnowballStemmer\n",
    "st = SnowballStemmer('english')\n",
    "import contractions\n",
    "import PyScrappy as ps\n",
    "from tqdm import tqdm\n",
    "import tweepy #The Twitter API\n",
    "from time import sleep\n",
    "from datetime import datetime\n",
    "from nltk.sentiment.util import *\n",
    "from nltk import tokenize\n",
    "\n",
    "import sklearn\n",
    "from sklearn import metrics\n",
    "from sklearn.svm import SVC\n",
    "from sklearn.naive_bayes import GaussianNB\n",
    "from sklearn.linear_model import LogisticRegression\n",
    "from sklearn.ensemble import AdaBoostClassifier\n",
    "from sklearn import metrics\n",
    "from sklearn.metrics import roc_auc_score, f1_score, accuracy_score, recall_score, f1_score, precision_score\n",
    "from sklearn.model_selection import cross_val_score, train_test_split, RandomizedSearchCV, RepeatedStratifiedKFold\n",
    "from sklearn import preprocessing\n",
    "Encode = preprocessing.LabelEncoder()\n",
    "from sklearn.feature_extraction.text import CountVectorizer\n",
    "from sklearn.feature_extraction.text import TfidfVectorizer\n",
    "from sklearn.naive_bayes import MultinomialNB\n",
    "tfid = TfidfVectorizer()\n",
    "vect = CountVectorizer()\n",
    "from sklearn.manifold import TSNE\n",
    "NB = MultinomialNB()\n",
    "from sklearn.svm import SVC\n",
    "from sklearn.ensemble import RandomForestClassifier\n",
    "from sklearn.feature_extraction.text import TfidfVectorizer\n",
    "from sklearn.svm import LinearSVC\n",
    "from sklearn.metrics import classification_report"
   ]
  },
  {
   "cell_type": "markdown",
   "id": "8bc4b72f-d9ca-4a48-b317-072db5d2312d",
   "metadata": {
    "extensions": {
     "jupyter_dashboards": {
      "activeView": "grid_default",
      "views": {
       "grid_default": {
        "col": null,
        "height": 2,
        "hidden": true,
        "locked": true,
        "row": null,
        "width": 2
       }
      }
     }
    }
   },
   "source": [
    "## Read in the necessary csv files"
   ]
  },
  {
   "cell_type": "code",
   "execution_count": 54,
   "id": "1c35728f-4611-475e-b388-024faf90ef11",
   "metadata": {
    "extensions": {
     "jupyter_dashboards": {
      "activeView": "grid_default",
      "views": {
       "grid_default": {
        "col": null,
        "height": 2,
        "hidden": true,
        "locked": true,
        "row": null,
        "width": 2
       }
      }
     }
    }
   },
   "outputs": [],
   "source": [
    "df_instagram = pd.read_csv(r\"C:\\Users\\sdstc\\Documents\\Education\\Other\\Career and Upskilling\\Entity Academy\\Portfolio\\Social Media Influencer Analysis\\Social Media Influencers\\social media influencers - instagram.csv\")\n",
    "df_tiktok = pd.read_csv(r\"C:\\Users\\sdstc\\Documents\\Education\\Other\\Career and Upskilling\\Entity Academy\\Portfolio\\Social Media Influencer Analysis\\Social Media Influencers\\social media influencers - tiktok.csv\")\n",
    "df_youtube = pd.read_csv(r\"C:\\Users\\sdstc\\Documents\\Education\\Other\\Career and Upskilling\\Entity Academy\\Portfolio\\Social Media Influencer Analysis\\Social Media Influencers\\social media influencers - youtube.csv\")\n",
    "df_instaJ22 = pd.read_csv(r\"C:\\Users\\sdstc\\Documents\\Education\\Other\\Career and Upskilling\\Entity Academy\\Portfolio\\Social Media Influencer Analysis\\Social Media Influencers\\social media influencers-instagram june 2022 - june 2022.csv\")\n",
    "df_tiktokJ22 = pd.read_csv(r\"C:\\Users\\sdstc\\Documents\\Education\\Other\\Career and Upskilling\\Entity Academy\\Portfolio\\Social Media Influencer Analysis\\Social Media Influencers\\social media influencers-tiktok june 2022 - june 2022.csv\")\n",
    "df_YTj22 = pd.read_csv(r\"C:\\Users\\sdstc\\Documents\\Education\\Other\\Career and Upskilling\\Entity Academy\\Portfolio\\Social Media Influencer Analysis\\Social Media Influencers\\social media influencers-youtube june 2022 - june 2022.csv\")"
   ]
  },
  {
   "cell_type": "markdown",
   "id": "ef476a63-8443-4fdd-b1e9-c89d74fffe9f",
   "metadata": {
    "extensions": {
     "jupyter_dashboards": {
      "activeView": "grid_default",
      "views": {
       "grid_default": {
        "col": null,
        "height": 2,
        "hidden": true,
        "locked": true,
        "row": null,
        "width": 2
       }
      }
     }
    }
   },
   "source": [
    "# The Top 3 Social Media Platforms of 2022"
   ]
  },
  {
   "cell_type": "markdown",
   "id": "6f885c27-c096-4247-ab76-2fc60ab3f4e2",
   "metadata": {
    "extensions": {
     "jupyter_dashboards": {
      "activeView": "grid_default",
      "views": {
       "grid_default": {
        "col": null,
        "height": 2,
        "hidden": true,
        "locked": true,
        "row": null,
        "width": 2
       }
      }
     }
    },
    "tags": []
   },
   "source": [
    "# 1. Instagram"
   ]
  },
  {
   "cell_type": "markdown",
   "id": "1fc0b787-1505-4b11-b418-21884431ed43",
   "metadata": {
    "extensions": {
     "jupyter_dashboards": {
      "activeView": "grid_default",
      "views": {
       "grid_default": {
        "col": null,
        "height": 2,
        "hidden": true,
        "locked": true,
        "row": null,
        "width": 2
       }
      }
     }
    }
   },
   "source": [
    "## Top 10 Instagram Accounts by Number of Followers"
   ]
  },
  {
   "cell_type": "code",
   "execution_count": 55,
   "id": "fac79e0b-fdef-432d-bdc2-74e66d4f8761",
   "metadata": {
    "extensions": {
     "jupyter_dashboards": {
      "activeView": "grid_default",
      "views": {
       "grid_default": {
        "col": null,
        "height": 2,
        "hidden": true,
        "locked": true,
        "row": null,
        "width": 2
       }
      }
     }
    }
   },
   "outputs": [
    {
     "data": {
      "text/html": [
       "<div>\n",
       "<style scoped>\n",
       "    .dataframe tbody tr th:only-of-type {\n",
       "        vertical-align: middle;\n",
       "    }\n",
       "\n",
       "    .dataframe tbody tr th {\n",
       "        vertical-align: top;\n",
       "    }\n",
       "\n",
       "    .dataframe thead th {\n",
       "        text-align: right;\n",
       "    }\n",
       "</style>\n",
       "<table border=\"1\" class=\"dataframe\">\n",
       "  <thead>\n",
       "    <tr style=\"text-align: right;\">\n",
       "      <th></th>\n",
       "      <th>Influencer insta name</th>\n",
       "      <th>instagram name</th>\n",
       "      <th>category_1</th>\n",
       "      <th>category_2</th>\n",
       "      <th>Followers</th>\n",
       "      <th>Audience country(mostly)</th>\n",
       "      <th>Authentic engagement\\r\\n</th>\n",
       "      <th>Engagement avg\\r\\n</th>\n",
       "    </tr>\n",
       "  </thead>\n",
       "  <tbody>\n",
       "    <tr>\n",
       "      <th>0</th>\n",
       "      <td>433</td>\n",
       "      <td>433</td>\n",
       "      <td>Sports with a ball</td>\n",
       "      <td>NaN</td>\n",
       "      <td>48.5M</td>\n",
       "      <td>Spain</td>\n",
       "      <td>383.1K</td>\n",
       "      <td>637K</td>\n",
       "    </tr>\n",
       "    <tr>\n",
       "      <th>1</th>\n",
       "      <td>__youngbae__</td>\n",
       "      <td>TAEYANG</td>\n",
       "      <td>Music</td>\n",
       "      <td>NaN</td>\n",
       "      <td>12.7M</td>\n",
       "      <td>Indonesia</td>\n",
       "      <td>478K</td>\n",
       "      <td>542.3K</td>\n",
       "    </tr>\n",
       "    <tr>\n",
       "      <th>2</th>\n",
       "      <td>_agentgirl_</td>\n",
       "      <td>НАСТЯ ИВЛЕЕВА</td>\n",
       "      <td>Shows</td>\n",
       "      <td>NaN</td>\n",
       "      <td>18.8M</td>\n",
       "      <td>Russia</td>\n",
       "      <td>310.8K</td>\n",
       "      <td>377.9K</td>\n",
       "    </tr>\n",
       "    <tr>\n",
       "      <th>3</th>\n",
       "      <td>_imyour_joy</td>\n",
       "      <td>Joy</td>\n",
       "      <td>Lifestyle</td>\n",
       "      <td>NaN</td>\n",
       "      <td>13.5M</td>\n",
       "      <td>Indonesia</td>\n",
       "      <td>1.1M</td>\n",
       "      <td>1.4M</td>\n",
       "    </tr>\n",
       "    <tr>\n",
       "      <th>4</th>\n",
       "      <td>_jeongjaehyun</td>\n",
       "      <td>Jaehyun</td>\n",
       "      <td>NaN</td>\n",
       "      <td>NaN</td>\n",
       "      <td>11.1M</td>\n",
       "      <td>Indonesia</td>\n",
       "      <td>2.5M</td>\n",
       "      <td>3.1M</td>\n",
       "    </tr>\n",
       "    <tr>\n",
       "      <th>...</th>\n",
       "      <td>...</td>\n",
       "      <td>...</td>\n",
       "      <td>...</td>\n",
       "      <td>...</td>\n",
       "      <td>...</td>\n",
       "      <td>...</td>\n",
       "      <td>...</td>\n",
       "      <td>...</td>\n",
       "    </tr>\n",
       "    <tr>\n",
       "      <th>995</th>\n",
       "      <td>zendaya</td>\n",
       "      <td>Zendaya</td>\n",
       "      <td>Cinema &amp; Actors/actresses</td>\n",
       "      <td>Fashion</td>\n",
       "      <td>136.1M</td>\n",
       "      <td>United States</td>\n",
       "      <td>6.4M</td>\n",
       "      <td>8.6M</td>\n",
       "    </tr>\n",
       "    <tr>\n",
       "      <th>996</th>\n",
       "      <td>zidane</td>\n",
       "      <td>zidane</td>\n",
       "      <td>Sports with a ball</td>\n",
       "      <td>NaN</td>\n",
       "      <td>31.2M</td>\n",
       "      <td>Spain</td>\n",
       "      <td>546K</td>\n",
       "      <td>744.1K</td>\n",
       "    </tr>\n",
       "    <tr>\n",
       "      <th>997</th>\n",
       "      <td>zkdlin</td>\n",
       "      <td>KAI</td>\n",
       "      <td>Music</td>\n",
       "      <td>NaN</td>\n",
       "      <td>13.9M</td>\n",
       "      <td>Indonesia</td>\n",
       "      <td>1.3M</td>\n",
       "      <td>1.6M</td>\n",
       "    </tr>\n",
       "    <tr>\n",
       "      <th>998</th>\n",
       "      <td>zoeisabellakravitz</td>\n",
       "      <td>Zoë Kravitz</td>\n",
       "      <td>Cinema &amp; Actors/actresses</td>\n",
       "      <td>NaN</td>\n",
       "      <td>8.2M</td>\n",
       "      <td>United States</td>\n",
       "      <td>583K</td>\n",
       "      <td>885.5K</td>\n",
       "    </tr>\n",
       "    <tr>\n",
       "      <th>999</th>\n",
       "      <td>zoesugg</td>\n",
       "      <td>Zoë Sugg</td>\n",
       "      <td>Lifestyle</td>\n",
       "      <td>Business &amp; Careers</td>\n",
       "      <td>9.4M</td>\n",
       "      <td>United Kingdom</td>\n",
       "      <td>208.7K</td>\n",
       "      <td>289.3K</td>\n",
       "    </tr>\n",
       "  </tbody>\n",
       "</table>\n",
       "<p>1000 rows × 8 columns</p>\n",
       "</div>"
      ],
      "text/plain": [
       "    Influencer insta name instagram name                 category_1  \\\n",
       "0                     433            433         Sports with a ball   \n",
       "1            __youngbae__        TAEYANG                      Music   \n",
       "2             _agentgirl_  НАСТЯ ИВЛЕЕВА                      Shows   \n",
       "3             _imyour_joy            Joy                  Lifestyle   \n",
       "4           _jeongjaehyun        Jaehyun                        NaN   \n",
       "..                    ...            ...                        ...   \n",
       "995               zendaya        Zendaya  Cinema & Actors/actresses   \n",
       "996                zidane         zidane         Sports with a ball   \n",
       "997                zkdlin            KAI                      Music   \n",
       "998    zoeisabellakravitz   Zoë Kravitz  Cinema & Actors/actresses   \n",
       "999               zoesugg      Zoë Sugg                  Lifestyle   \n",
       "\n",
       "             category_2 Followers Audience country(mostly)  \\\n",
       "0                   NaN     48.5M                    Spain   \n",
       "1                   NaN     12.7M                Indonesia   \n",
       "2                   NaN     18.8M                   Russia   \n",
       "3                   NaN     13.5M                Indonesia   \n",
       "4                   NaN     11.1M                Indonesia   \n",
       "..                  ...       ...                      ...   \n",
       "995             Fashion    136.1M            United States   \n",
       "996                 NaN     31.2M                    Spain   \n",
       "997                 NaN     13.9M                Indonesia   \n",
       "998                 NaN      8.2M            United States   \n",
       "999  Business & Careers      9.4M           United Kingdom   \n",
       "\n",
       "    Authentic engagement\\r\\n Engagement avg\\r\\n  \n",
       "0                     383.1K               637K  \n",
       "1                       478K             542.3K  \n",
       "2                     310.8K             377.9K  \n",
       "3                       1.1M               1.4M  \n",
       "4                       2.5M               3.1M  \n",
       "..                       ...                ...  \n",
       "995                     6.4M               8.6M  \n",
       "996                     546K             744.1K  \n",
       "997                     1.3M               1.6M  \n",
       "998                     583K             885.5K  \n",
       "999                   208.7K             289.3K  \n",
       "\n",
       "[1000 rows x 8 columns]"
      ]
     },
     "execution_count": 55,
     "metadata": {},
     "output_type": "execute_result"
    }
   ],
   "source": [
    "df_instagram"
   ]
  },
  {
   "cell_type": "code",
   "execution_count": 56,
   "id": "1a751454-9a4d-4ffb-a3cd-59749c14ec84",
   "metadata": {
    "extensions": {
     "jupyter_dashboards": {
      "activeView": "grid_default",
      "views": {
       "grid_default": {
        "col": null,
        "height": 2,
        "hidden": true,
        "locked": true,
        "row": null,
        "width": 2
       }
      }
     }
    }
   },
   "outputs": [
    {
     "name": "stdout",
     "output_type": "stream",
     "text": [
      "<class 'pandas.core.frame.DataFrame'>\n",
      "RangeIndex: 1000 entries, 0 to 999\n",
      "Data columns (total 8 columns):\n",
      " #   Column                    Non-Null Count  Dtype \n",
      "---  ------                    --------------  ----- \n",
      " 0   Influencer insta name     1000 non-null   object\n",
      " 1   instagram name            979 non-null    object\n",
      " 2   category_1                892 non-null    object\n",
      " 3   category_2                287 non-null    object\n",
      " 4   Followers                 1000 non-null   object\n",
      " 5   Audience country(mostly)  986 non-null    object\n",
      " 6   Authentic engagement\n",
      "    1000 non-null   object\n",
      " 7   Engagement avg\n",
      "          1000 non-null   object\n",
      "dtypes: object(8)\n",
      "memory usage: 62.6+ KB\n"
     ]
    }
   ],
   "source": [
    "df_instagram.info()"
   ]
  },
  {
   "cell_type": "code",
   "execution_count": 57,
   "id": "cd83eb03-cf77-46b5-9e09-e893a6b6f7fd",
   "metadata": {
    "extensions": {
     "jupyter_dashboards": {
      "activeView": "grid_default",
      "views": {
       "grid_default": {
        "col": null,
        "height": 2,
        "hidden": true,
        "locked": true,
        "row": null,
        "width": 2
       }
      }
     }
    }
   },
   "outputs": [
    {
     "data": {
      "image/png": "[encoded data removed]",
      "text/plain": [
       "<Figure size 432x288 with 1 Axes>"
      ]
     },
     "metadata": {
      "needs_background": "light"
     },
     "output_type": "display_data"
    }
   ],
   "source": [
    "df_instagram.Followers = (df_instagram.Followers.replace(r'[KM]+$', '', regex=True).astype(float) * df_instagram.Followers.str.extract(r'[\\d\\.]+([KM]+)', expand=False).fillna(1).replace(['K','M'], [10**3, 10**6]).astype(int)) \n",
    "\n",
    "df_instagram = df_instagram.sort_values(by=['Followers'], ascending=False)\n",
    "df_instagram_10 = df_instagram.head(10)\n",
    "\n",
    "chart = sns.barplot(x=\"Influencer insta name\", y=\"Followers\", data=df_instagram_10)\n",
    "chart.set_xticklabels(chart.get_xticklabels(), rotation=45);"
   ]
  },
  {
   "cell_type": "markdown",
   "id": "1638e127-7718-438f-a959-d4649cb7515b",
   "metadata": {
    "extensions": {
     "jupyter_dashboards": {
      "activeView": "grid_default",
      "views": {
       "grid_default": {
        "col": null,
        "height": 2,
        "hidden": true,
        "locked": true,
        "row": null,
        "width": 2
       }
      }
     }
    }
   },
   "source": [
    "## Top Countries According to Number in Audience"
   ]
  },
  {
   "cell_type": "code",
   "execution_count": 58,
   "id": "a151dd26-53fa-41c9-bdcf-b09922d94d4e",
   "metadata": {
    "extensions": {
     "jupyter_dashboards": {
      "activeView": "grid_default",
      "views": {
       "grid_default": {
        "col": null,
        "height": 2,
        "hidden": true,
        "locked": true,
        "row": null,
        "width": 2
       }
      }
     }
    },
    "scrolled": true,
    "tags": []
   },
   "outputs": [
    {
     "data": {
      "image/png": "[encoded data removed]",
      "text/plain": [
       "<Figure size 432x288 with 1 Axes>"
      ]
     },
     "metadata": {
      "needs_background": "light"
     },
     "output_type": "display_data"
    }
   ],
   "source": [
    "chart = sns.countplot(x=\"Audience country(mostly)\", data=df_instagram, order = df_instagram['Audience country(mostly)'].value_counts().index)\n",
    "chart.set_xticklabels(chart.get_xticklabels(), rotation=90);"
   ]
  },
  {
   "cell_type": "code",
   "execution_count": 59,
   "id": "3214148a-8a6d-4091-ada2-bdd0e8ae3de3",
   "metadata": {
    "extensions": {
     "jupyter_dashboards": {
      "activeView": "grid_default",
      "views": {
       "grid_default": {
        "col": null,
        "height": 2,
        "hidden": true,
        "locked": true,
        "row": null,
        "width": 2
       }
      }
     }
    }
   },
   "outputs": [],
   "source": [
    "df_instagram.rename(columns = {'Authentic engagement\\r\\n':'authentic_engagement'}, inplace = True)\n",
    "df_instagram.rename(columns = {'Engagement avg\\r\\n': 'overall_engagement'}, inplace = True)\n",
    "df_instagram.rename(columns = {'Audience country(mostly)': 'country_audience'}, inplace = True)\n",
    "df_instagram.rename(columns = {'instagram name':'influencer'}, inplace = True)\n",
    "df_instagram.rename(columns = {'Influencer insta name':'account_name'}, inplace = True)"
   ]
  },
  {
   "cell_type": "code",
   "execution_count": 60,
   "id": "174775de-e145-4cf2-b048-562aa7d4ad83",
   "metadata": {
    "extensions": {
     "jupyter_dashboards": {
      "activeView": "grid_default",
      "views": {
       "grid_default": {
        "col": null,
        "height": 2,
        "hidden": true,
        "locked": true,
        "row": null,
        "width": 2
       }
      }
     }
    }
   },
   "outputs": [
    {
     "data": {
      "text/html": [
       "<div>\n",
       "<style scoped>\n",
       "    .dataframe tbody tr th:only-of-type {\n",
       "        vertical-align: middle;\n",
       "    }\n",
       "\n",
       "    .dataframe tbody tr th {\n",
       "        vertical-align: top;\n",
       "    }\n",
       "\n",
       "    .dataframe thead th {\n",
       "        text-align: right;\n",
       "    }\n",
       "</style>\n",
       "<table border=\"1\" class=\"dataframe\">\n",
       "  <thead>\n",
       "    <tr style=\"text-align: right;\">\n",
       "      <th></th>\n",
       "      <th>account_name</th>\n",
       "      <th>influencer</th>\n",
       "      <th>category_1</th>\n",
       "      <th>category_2</th>\n",
       "      <th>Followers</th>\n",
       "      <th>country_audience</th>\n",
       "      <th>authentic_engagement</th>\n",
       "      <th>overall_engagement</th>\n",
       "    </tr>\n",
       "  </thead>\n",
       "  <tbody>\n",
       "    <tr>\n",
       "      <th>388</th>\n",
       "      <td>instagram</td>\n",
       "      <td>Instagram</td>\n",
       "      <td>Photography</td>\n",
       "      <td>NaN</td>\n",
       "      <td>487200000.0</td>\n",
       "      <td>India</td>\n",
       "      <td>352.3K</td>\n",
       "      <td>467.4K</td>\n",
       "    </tr>\n",
       "    <tr>\n",
       "      <th>203</th>\n",
       "      <td>cristiano</td>\n",
       "      <td>Cristiano Ronaldo</td>\n",
       "      <td>Sports with a ball</td>\n",
       "      <td>NaN</td>\n",
       "      <td>419600000.0</td>\n",
       "      <td>India</td>\n",
       "      <td>5.7M</td>\n",
       "      <td>7M</td>\n",
       "    </tr>\n",
       "    <tr>\n",
       "      <th>510</th>\n",
       "      <td>kyliejenner</td>\n",
       "      <td>Kylie 🤍</td>\n",
       "      <td>Fashion</td>\n",
       "      <td>Modeling</td>\n",
       "      <td>323300000.0</td>\n",
       "      <td>United States</td>\n",
       "      <td>7.6M</td>\n",
       "      <td>12.3M</td>\n",
       "    </tr>\n",
       "    <tr>\n",
       "      <th>532</th>\n",
       "      <td>leomessi</td>\n",
       "      <td>Leo Messi</td>\n",
       "      <td>Sports with a ball</td>\n",
       "      <td>Family</td>\n",
       "      <td>315400000.0</td>\n",
       "      <td>Argentina</td>\n",
       "      <td>4M</td>\n",
       "      <td>5.3M</td>\n",
       "    </tr>\n",
       "    <tr>\n",
       "      <th>814</th>\n",
       "      <td>selenagomez</td>\n",
       "      <td>Selena Gomez</td>\n",
       "      <td>Music</td>\n",
       "      <td>Lifestyle</td>\n",
       "      <td>308200000.0</td>\n",
       "      <td>United States</td>\n",
       "      <td>3.3M</td>\n",
       "      <td>4.4M</td>\n",
       "    </tr>\n",
       "    <tr>\n",
       "      <th>...</th>\n",
       "      <td>...</td>\n",
       "      <td>...</td>\n",
       "      <td>...</td>\n",
       "      <td>...</td>\n",
       "      <td>...</td>\n",
       "      <td>...</td>\n",
       "      <td>...</td>\n",
       "      <td>...</td>\n",
       "    </tr>\n",
       "    <tr>\n",
       "      <th>255</th>\n",
       "      <td>drewstarkey</td>\n",
       "      <td>Drew Starkey</td>\n",
       "      <td>NaN</td>\n",
       "      <td>NaN</td>\n",
       "      <td>3200000.0</td>\n",
       "      <td>United States</td>\n",
       "      <td>630.2K</td>\n",
       "      <td>1.2M</td>\n",
       "    </tr>\n",
       "    <tr>\n",
       "      <th>316</th>\n",
       "      <td>georgenotfound</td>\n",
       "      <td>GeorgeNotFound</td>\n",
       "      <td>NaN</td>\n",
       "      <td>NaN</td>\n",
       "      <td>3100000.0</td>\n",
       "      <td>United States</td>\n",
       "      <td>997.8K</td>\n",
       "      <td>1.1M</td>\n",
       "    </tr>\n",
       "    <tr>\n",
       "      <th>7</th>\n",
       "      <td>_seorina</td>\n",
       "      <td>설인아 sᴇᴏʀɪɴᴀ</td>\n",
       "      <td>Lifestyle</td>\n",
       "      <td>Cinema &amp; Actors/actresses</td>\n",
       "      <td>3000000.0</td>\n",
       "      <td>South Korea</td>\n",
       "      <td>803.9K</td>\n",
       "      <td>997.8K</td>\n",
       "    </tr>\n",
       "    <tr>\n",
       "      <th>337</th>\n",
       "      <td>haechanahceah</td>\n",
       "      <td>HAECHAN</td>\n",
       "      <td>NaN</td>\n",
       "      <td>NaN</td>\n",
       "      <td>2700000.0</td>\n",
       "      <td>NaN</td>\n",
       "      <td>0</td>\n",
       "      <td>2.1M</td>\n",
       "    </tr>\n",
       "    <tr>\n",
       "      <th>26</th>\n",
       "      <td>adinross</td>\n",
       "      <td>NaN</td>\n",
       "      <td>NaN</td>\n",
       "      <td>NaN</td>\n",
       "      <td>2600000.0</td>\n",
       "      <td>United States</td>\n",
       "      <td>551.1K</td>\n",
       "      <td>1.1M</td>\n",
       "    </tr>\n",
       "  </tbody>\n",
       "</table>\n",
       "<p>1000 rows × 8 columns</p>\n",
       "</div>"
      ],
      "text/plain": [
       "       account_name         influencer          category_1  \\\n",
       "388       instagram          Instagram         Photography   \n",
       "203       cristiano  Cristiano Ronaldo  Sports with a ball   \n",
       "510     kyliejenner            Kylie 🤍             Fashion   \n",
       "532        leomessi          Leo Messi  Sports with a ball   \n",
       "814     selenagomez       Selena Gomez               Music   \n",
       "..              ...                ...                 ...   \n",
       "255     drewstarkey       Drew Starkey                 NaN   \n",
       "316  georgenotfound     GeorgeNotFound                 NaN   \n",
       "7          _seorina   설인아 sᴇᴏʀɪɴᴀ           Lifestyle   \n",
       "337   haechanahceah            HAECHAN                 NaN   \n",
       "26         adinross                NaN                 NaN   \n",
       "\n",
       "                    category_2    Followers country_audience  \\\n",
       "388                        NaN  487200000.0            India   \n",
       "203                        NaN  419600000.0            India   \n",
       "510                   Modeling  323300000.0    United States   \n",
       "532                     Family  315400000.0        Argentina   \n",
       "814                  Lifestyle  308200000.0    United States   \n",
       "..                         ...          ...              ...   \n",
       "255                        NaN    3200000.0    United States   \n",
       "316                        NaN    3100000.0    United States   \n",
       "7    Cinema & Actors/actresses    3000000.0      South Korea   \n",
       "337                        NaN    2700000.0              NaN   \n",
       "26                         NaN    2600000.0    United States   \n",
       "\n",
       "    authentic_engagement overall_engagement  \n",
       "388               352.3K             467.4K  \n",
       "203                 5.7M                 7M  \n",
       "510                 7.6M              12.3M  \n",
       "532                   4M               5.3M  \n",
       "814                 3.3M               4.4M  \n",
       "..                   ...                ...  \n",
       "255               630.2K               1.2M  \n",
       "316               997.8K               1.1M  \n",
       "7                 803.9K             997.8K  \n",
       "337                    0               2.1M  \n",
       "26                551.1K               1.1M  \n",
       "\n",
       "[1000 rows x 8 columns]"
      ]
     },
     "execution_count": 60,
     "metadata": {},
     "output_type": "execute_result"
    }
   ],
   "source": [
    "df_instagram"
   ]
  },
  {
   "cell_type": "markdown",
   "id": "6c616ca5-c994-4381-8af1-be86264d9ceb",
   "metadata": {
    "extensions": {
     "jupyter_dashboards": {
      "activeView": "grid_default",
      "views": {
       "grid_default": {
        "col": null,
        "height": 2,
        "hidden": true,
        "locked": true,
        "row": null,
        "width": 2
       }
      }
     }
    },
    "tags": []
   },
   "source": [
    "## Data Visualizations of Authentic vs Overall Engagement of Influencers"
   ]
  },
  {
   "cell_type": "code",
   "execution_count": 61,
   "id": "ccbc8100-f636-4b7f-8472-d0c618f19856",
   "metadata": {
    "extensions": {
     "jupyter_dashboards": {
      "activeView": "grid_default",
      "views": {
       "grid_default": {
        "col": null,
        "height": 2,
        "hidden": true,
        "locked": true,
        "row": null,
        "width": 2
       }
      }
     }
    }
   },
   "outputs": [
    {
     "data": {
      "text/plain": [
       "388    352.3K\n",
       "203      5.7M\n",
       "510      7.6M\n",
       "532        4M\n",
       "814      3.3M\n",
       "        ...  \n",
       "255    630.2K\n",
       "316    997.8K\n",
       "7      803.9K\n",
       "337         0\n",
       "26     551.1K\n",
       "Name: authentic_engagement, Length: 1000, dtype: object"
      ]
     },
     "execution_count": 61,
     "metadata": {},
     "output_type": "execute_result"
    }
   ],
   "source": [
    "df_instagram.authentic_engagement.astype(str)"
   ]
  },
  {
   "cell_type": "code",
   "execution_count": 62,
   "id": "1685f7be-87c3-4c6f-a5d5-0477b63361b9",
   "metadata": {
    "extensions": {
     "jupyter_dashboards": {
      "activeView": "grid_default",
      "views": {
       "grid_default": {
        "col": null,
        "height": 2,
        "hidden": true,
        "locked": true,
        "row": null,
        "width": 2
       }
      }
     }
    }
   },
   "outputs": [
    {
     "data": {
      "text/plain": [
       "388    467.4K\n",
       "203        7M\n",
       "510     12.3M\n",
       "532      5.3M\n",
       "814      4.4M\n",
       "        ...  \n",
       "255      1.2M\n",
       "316      1.1M\n",
       "7      997.8K\n",
       "337      2.1M\n",
       "26       1.1M\n",
       "Name: overall_engagement, Length: 1000, dtype: object"
      ]
     },
     "execution_count": 62,
     "metadata": {},
     "output_type": "execute_result"
    }
   ],
   "source": [
    "df_instagram.overall_engagement.astype(str)"
   ]
  },
  {
   "cell_type": "code",
   "execution_count": 63,
   "id": "570a2d3a-db23-42fd-84fe-dfc510cca69b",
   "metadata": {
    "extensions": {
     "jupyter_dashboards": {
      "activeView": "grid_default",
      "views": {
       "grid_default": {
        "col": null,
        "height": 2,
        "hidden": true,
        "locked": true,
        "row": null,
        "width": 2
       }
      }
     }
    }
   },
   "outputs": [],
   "source": [
    "df_instagram.authentic_engagement = (df_instagram.authentic_engagement.replace(r'[KM]+$', '', regex=True).astype(float) * df_instagram.authentic_engagement.str.extract(r'[\\d\\.]+([KM]+)', expand=False).fillna(1).replace(['K','M'], [10**3, 10**6]).astype(int)) "
   ]
  },
  {
   "cell_type": "code",
   "execution_count": 64,
   "id": "dac94aba-0590-4f8d-a948-7d534f153c95",
   "metadata": {
    "extensions": {
     "jupyter_dashboards": {
      "activeView": "grid_default",
      "views": {
       "grid_default": {
        "col": null,
        "height": 2,
        "hidden": true,
        "locked": true,
        "row": null,
        "width": 2
       }
      }
     }
    }
   },
   "outputs": [],
   "source": [
    "df_instagram.overall_engagement = (df_instagram.overall_engagement.replace(r'[KM]+$', '', regex=True).astype(float) * df_instagram.overall_engagement.str.extract(r'[\\d\\.]+([KM]+)', expand=False).fillna(1).replace(['K','M'], [10**3, 10**6]).astype(int)) "
   ]
  },
  {
   "cell_type": "code",
   "execution_count": 65,
   "id": "214a8916-857b-4700-b880-28cade16fef2",
   "metadata": {
    "extensions": {
     "jupyter_dashboards": {
      "activeView": "grid_default",
      "views": {
       "grid_default": {
        "col": null,
        "height": 2,
        "hidden": true,
        "locked": true,
        "row": null,
        "width": 2
       }
      }
     }
    }
   },
   "outputs": [
    {
     "data": {
      "text/html": [
       "<div>\n",
       "<style scoped>\n",
       "    .dataframe tbody tr th:only-of-type {\n",
       "        vertical-align: middle;\n",
       "    }\n",
       "\n",
       "    .dataframe tbody tr th {\n",
       "        vertical-align: top;\n",
       "    }\n",
       "\n",
       "    .dataframe thead th {\n",
       "        text-align: right;\n",
       "    }\n",
       "</style>\n",
       "<table border=\"1\" class=\"dataframe\">\n",
       "  <thead>\n",
       "    <tr style=\"text-align: right;\">\n",
       "      <th></th>\n",
       "      <th>account_name</th>\n",
       "      <th>influencer</th>\n",
       "      <th>category_1</th>\n",
       "      <th>category_2</th>\n",
       "      <th>Followers</th>\n",
       "      <th>country_audience</th>\n",
       "      <th>authentic_engagement</th>\n",
       "      <th>overall_engagement</th>\n",
       "    </tr>\n",
       "  </thead>\n",
       "  <tbody>\n",
       "    <tr>\n",
       "      <th>388</th>\n",
       "      <td>instagram</td>\n",
       "      <td>Instagram</td>\n",
       "      <td>Photography</td>\n",
       "      <td>NaN</td>\n",
       "      <td>487200000.0</td>\n",
       "      <td>India</td>\n",
       "      <td>352300.0</td>\n",
       "      <td>467400.0</td>\n",
       "    </tr>\n",
       "    <tr>\n",
       "      <th>203</th>\n",
       "      <td>cristiano</td>\n",
       "      <td>Cristiano Ronaldo</td>\n",
       "      <td>Sports with a ball</td>\n",
       "      <td>NaN</td>\n",
       "      <td>419600000.0</td>\n",
       "      <td>India</td>\n",
       "      <td>5700000.0</td>\n",
       "      <td>7000000.0</td>\n",
       "    </tr>\n",
       "    <tr>\n",
       "      <th>510</th>\n",
       "      <td>kyliejenner</td>\n",
       "      <td>Kylie 🤍</td>\n",
       "      <td>Fashion</td>\n",
       "      <td>Modeling</td>\n",
       "      <td>323300000.0</td>\n",
       "      <td>United States</td>\n",
       "      <td>7600000.0</td>\n",
       "      <td>12300000.0</td>\n",
       "    </tr>\n",
       "    <tr>\n",
       "      <th>532</th>\n",
       "      <td>leomessi</td>\n",
       "      <td>Leo Messi</td>\n",
       "      <td>Sports with a ball</td>\n",
       "      <td>Family</td>\n",
       "      <td>315400000.0</td>\n",
       "      <td>Argentina</td>\n",
       "      <td>4000000.0</td>\n",
       "      <td>5300000.0</td>\n",
       "    </tr>\n",
       "    <tr>\n",
       "      <th>814</th>\n",
       "      <td>selenagomez</td>\n",
       "      <td>Selena Gomez</td>\n",
       "      <td>Music</td>\n",
       "      <td>Lifestyle</td>\n",
       "      <td>308200000.0</td>\n",
       "      <td>United States</td>\n",
       "      <td>3300000.0</td>\n",
       "      <td>4400000.0</td>\n",
       "    </tr>\n",
       "    <tr>\n",
       "      <th>...</th>\n",
       "      <td>...</td>\n",
       "      <td>...</td>\n",
       "      <td>...</td>\n",
       "      <td>...</td>\n",
       "      <td>...</td>\n",
       "      <td>...</td>\n",
       "      <td>...</td>\n",
       "      <td>...</td>\n",
       "    </tr>\n",
       "    <tr>\n",
       "      <th>255</th>\n",
       "      <td>drewstarkey</td>\n",
       "      <td>Drew Starkey</td>\n",
       "      <td>NaN</td>\n",
       "      <td>NaN</td>\n",
       "      <td>3200000.0</td>\n",
       "      <td>United States</td>\n",
       "      <td>630200.0</td>\n",
       "      <td>1200000.0</td>\n",
       "    </tr>\n",
       "    <tr>\n",
       "      <th>316</th>\n",
       "      <td>georgenotfound</td>\n",
       "      <td>GeorgeNotFound</td>\n",
       "      <td>NaN</td>\n",
       "      <td>NaN</td>\n",
       "      <td>3100000.0</td>\n",
       "      <td>United States</td>\n",
       "      <td>997800.0</td>\n",
       "      <td>1100000.0</td>\n",
       "    </tr>\n",
       "    <tr>\n",
       "      <th>7</th>\n",
       "      <td>_seorina</td>\n",
       "      <td>설인아 sᴇᴏʀɪɴᴀ</td>\n",
       "      <td>Lifestyle</td>\n",
       "      <td>Cinema &amp; Actors/actresses</td>\n",
       "      <td>3000000.0</td>\n",
       "      <td>South Korea</td>\n",
       "      <td>803900.0</td>\n",
       "      <td>997800.0</td>\n",
       "    </tr>\n",
       "    <tr>\n",
       "      <th>337</th>\n",
       "      <td>haechanahceah</td>\n",
       "      <td>HAECHAN</td>\n",
       "      <td>NaN</td>\n",
       "      <td>NaN</td>\n",
       "      <td>2700000.0</td>\n",
       "      <td>NaN</td>\n",
       "      <td>0.0</td>\n",
       "      <td>2100000.0</td>\n",
       "    </tr>\n",
       "    <tr>\n",
       "      <th>26</th>\n",
       "      <td>adinross</td>\n",
       "      <td>NaN</td>\n",
       "      <td>NaN</td>\n",
       "      <td>NaN</td>\n",
       "      <td>2600000.0</td>\n",
       "      <td>United States</td>\n",
       "      <td>551100.0</td>\n",
       "      <td>1100000.0</td>\n",
       "    </tr>\n",
       "  </tbody>\n",
       "</table>\n",
       "<p>1000 rows × 8 columns</p>\n",
       "</div>"
      ],
      "text/plain": [
       "       account_name         influencer          category_1  \\\n",
       "388       instagram          Instagram         Photography   \n",
       "203       cristiano  Cristiano Ronaldo  Sports with a ball   \n",
       "510     kyliejenner            Kylie 🤍             Fashion   \n",
       "532        leomessi          Leo Messi  Sports with a ball   \n",
       "814     selenagomez       Selena Gomez               Music   \n",
       "..              ...                ...                 ...   \n",
       "255     drewstarkey       Drew Starkey                 NaN   \n",
       "316  georgenotfound     GeorgeNotFound                 NaN   \n",
       "7          _seorina   설인아 sᴇᴏʀɪɴᴀ           Lifestyle   \n",
       "337   haechanahceah            HAECHAN                 NaN   \n",
       "26         adinross                NaN                 NaN   \n",
       "\n",
       "                    category_2    Followers country_audience  \\\n",
       "388                        NaN  487200000.0            India   \n",
       "203                        NaN  419600000.0            India   \n",
       "510                   Modeling  323300000.0    United States   \n",
       "532                     Family  315400000.0        Argentina   \n",
       "814                  Lifestyle  308200000.0    United States   \n",
       "..                         ...          ...              ...   \n",
       "255                        NaN    3200000.0    United States   \n",
       "316                        NaN    3100000.0    United States   \n",
       "7    Cinema & Actors/actresses    3000000.0      South Korea   \n",
       "337                        NaN    2700000.0              NaN   \n",
       "26                         NaN    2600000.0    United States   \n",
       "\n",
       "     authentic_engagement  overall_engagement  \n",
       "388              352300.0            467400.0  \n",
       "203             5700000.0           7000000.0  \n",
       "510             7600000.0          12300000.0  \n",
       "532             4000000.0           5300000.0  \n",
       "814             3300000.0           4400000.0  \n",
       "..                    ...                 ...  \n",
       "255              630200.0           1200000.0  \n",
       "316              997800.0           1100000.0  \n",
       "7                803900.0            997800.0  \n",
       "337                   0.0           2100000.0  \n",
       "26               551100.0           1100000.0  \n",
       "\n",
       "[1000 rows x 8 columns]"
      ]
     },
     "execution_count": 65,
     "metadata": {},
     "output_type": "execute_result"
    }
   ],
   "source": [
    "df_instagram"
   ]
  },
  {
   "cell_type": "code",
   "execution_count": 66,
   "id": "7cc4dab5-ea85-410f-9a2c-3a5385b0b213",
   "metadata": {
    "extensions": {
     "jupyter_dashboards": {
      "activeView": "grid_default",
      "views": {
       "grid_default": {
        "col": null,
        "height": 2,
        "hidden": true,
        "locked": true,
        "row": null,
        "width": 2
       }
      }
     }
    }
   },
   "outputs": [
    {
     "name": "stderr",
     "output_type": "stream",
     "text": [
      "C:\\Python3\\lib\\site-packages\\IPython\\core\\pylabtools.py:151: UserWarning:\n",
      "\n",
      "Glyph 48124 (\\N{HANGUL SYLLABLE MIN}) missing from current font.\n",
      "\n",
      "C:\\Python3\\lib\\site-packages\\IPython\\core\\pylabtools.py:151: UserWarning:\n",
      "\n",
      "Glyph 50980 (\\N{HANGUL SYLLABLE YUN}) missing from current font.\n",
      "\n",
      "C:\\Python3\\lib\\site-packages\\IPython\\core\\pylabtools.py:151: UserWarning:\n",
      "\n",
      "Glyph 44592 (\\N{HANGUL SYLLABLE GI}) missing from current font.\n",
      "\n",
      "C:\\Python3\\lib\\site-packages\\IPython\\core\\pylabtools.py:151: UserWarning:\n",
      "\n",
      "Glyph 129293 (\\N{WHITE HEART}) missing from current font.\n",
      "\n"
     ]
    },
    {
     "data": {
      "image/png": "[encoded data removed]",
      "text/plain": [
       "<Figure size 432x288 with 1 Axes>"
      ]
     },
     "metadata": {
      "needs_background": "light"
     },
     "output_type": "display_data"
    }
   ],
   "source": [
    "df_instagram = df_instagram.sort_values(by=['authentic_engagement'], ascending=False);\n",
    "chart = sns.barplot(x=\"influencer\", y=\"authentic_engagement\", data=df_instagram.head(10));\n",
    "chart.set_xticklabels(chart.get_xticklabels(), rotation=45);"
   ]
  },
  {
   "cell_type": "code",
   "execution_count": 67,
   "id": "801e2129-7efb-4d8d-8cd0-1af84b5f68cd",
   "metadata": {
    "extensions": {
     "jupyter_dashboards": {
      "activeView": "grid_default",
      "views": {
       "grid_default": {
        "col": null,
        "height": 2,
        "hidden": true,
        "locked": true,
        "row": null,
        "width": 2
       }
      }
     }
    }
   },
   "outputs": [
    {
     "name": "stderr",
     "output_type": "stream",
     "text": [
      "C:\\Python3\\lib\\site-packages\\IPython\\core\\pylabtools.py:151: UserWarning:\n",
      "\n",
      "Glyph 129293 (\\N{WHITE HEART}) missing from current font.\n",
      "\n",
      "C:\\Python3\\lib\\site-packages\\IPython\\core\\pylabtools.py:151: UserWarning:\n",
      "\n",
      "Glyph 48124 (\\N{HANGUL SYLLABLE MIN}) missing from current font.\n",
      "\n",
      "C:\\Python3\\lib\\site-packages\\IPython\\core\\pylabtools.py:151: UserWarning:\n",
      "\n",
      "Glyph 50980 (\\N{HANGUL SYLLABLE YUN}) missing from current font.\n",
      "\n",
      "C:\\Python3\\lib\\site-packages\\IPython\\core\\pylabtools.py:151: UserWarning:\n",
      "\n",
      "Glyph 44592 (\\N{HANGUL SYLLABLE GI}) missing from current font.\n",
      "\n"
     ]
    },
    {
     "data": {
      "image/png": "[encoded data removed]",
      "text/plain": [
       "<Figure size 432x288 with 1 Axes>"
      ]
     },
     "metadata": {
      "needs_background": "light"
     },
     "output_type": "display_data"
    }
   ],
   "source": [
    "df_instagram = df_instagram.sort_values(by=['overall_engagement'], ascending=False);\n",
    "chart = sns.barplot(x=\"influencer\", y=\"overall_engagement\", data=df_instagram.head(10));\n",
    "chart.set_xticklabels(chart.get_xticklabels(), rotation=45);"
   ]
  },
  {
   "cell_type": "code",
   "execution_count": 68,
   "id": "d914609e-5603-49cc-bc14-e0852f3be85d",
   "metadata": {
    "extensions": {
     "jupyter_dashboards": {
      "activeView": "grid_default",
      "views": {
       "grid_default": {
        "col": null,
        "height": 2,
        "hidden": true,
        "locked": true,
        "row": null,
        "width": 2
       }
      }
     }
    }
   },
   "outputs": [
    {
     "data": {
      "text/html": [
       "<div>\n",
       "<style scoped>\n",
       "    .dataframe tbody tr th:only-of-type {\n",
       "        vertical-align: middle;\n",
       "    }\n",
       "\n",
       "    .dataframe tbody tr th {\n",
       "        vertical-align: top;\n",
       "    }\n",
       "\n",
       "    .dataframe thead th {\n",
       "        text-align: right;\n",
       "    }\n",
       "</style>\n",
       "<table border=\"1\" class=\"dataframe\">\n",
       "  <thead>\n",
       "    <tr style=\"text-align: right;\">\n",
       "      <th></th>\n",
       "      <th>account_name</th>\n",
       "      <th>influencer</th>\n",
       "      <th>category_1</th>\n",
       "      <th>category_2</th>\n",
       "      <th>Followers</th>\n",
       "      <th>country_audience</th>\n",
       "      <th>authentic_engagement</th>\n",
       "      <th>overall_engagement</th>\n",
       "    </tr>\n",
       "  </thead>\n",
       "  <tbody>\n",
       "    <tr>\n",
       "      <th>968</th>\n",
       "      <td>xxxtentacion</td>\n",
       "      <td>MAKE OUT HILL</td>\n",
       "      <td>Music</td>\n",
       "      <td>NaN</td>\n",
       "      <td>20200000.0</td>\n",
       "      <td>United States</td>\n",
       "      <td>11800000.0</td>\n",
       "      <td>20800000.0</td>\n",
       "    </tr>\n",
       "    <tr>\n",
       "      <th>396</th>\n",
       "      <td>j.m</td>\n",
       "      <td>JIMIN of BTS</td>\n",
       "      <td>NaN</td>\n",
       "      <td>NaN</td>\n",
       "      <td>32700000.0</td>\n",
       "      <td>NaN</td>\n",
       "      <td>12700000.0</td>\n",
       "      <td>12700000.0</td>\n",
       "    </tr>\n",
       "    <tr>\n",
       "      <th>510</th>\n",
       "      <td>kyliejenner</td>\n",
       "      <td>Kylie 🤍</td>\n",
       "      <td>Fashion</td>\n",
       "      <td>Modeling</td>\n",
       "      <td>323300000.0</td>\n",
       "      <td>United States</td>\n",
       "      <td>7600000.0</td>\n",
       "      <td>12300000.0</td>\n",
       "    </tr>\n",
       "    <tr>\n",
       "      <th>903</th>\n",
       "      <td>thv</td>\n",
       "      <td>V</td>\n",
       "      <td>NaN</td>\n",
       "      <td>NaN</td>\n",
       "      <td>38100000.0</td>\n",
       "      <td>NaN</td>\n",
       "      <td>12200000.0</td>\n",
       "      <td>12200000.0</td>\n",
       "    </tr>\n",
       "    <tr>\n",
       "      <th>457</th>\n",
       "      <td>jungkook.97</td>\n",
       "      <td>Jungkook</td>\n",
       "      <td>NaN</td>\n",
       "      <td>NaN</td>\n",
       "      <td>35800000.0</td>\n",
       "      <td>NaN</td>\n",
       "      <td>11400000.0</td>\n",
       "      <td>11400000.0</td>\n",
       "    </tr>\n",
       "    <tr>\n",
       "      <th>432</th>\n",
       "      <td>jin</td>\n",
       "      <td>Jin of BTS</td>\n",
       "      <td>NaN</td>\n",
       "      <td>NaN</td>\n",
       "      <td>32000000.0</td>\n",
       "      <td>United States</td>\n",
       "      <td>11100000.0</td>\n",
       "      <td>11100000.0</td>\n",
       "    </tr>\n",
       "    <tr>\n",
       "      <th>28</th>\n",
       "      <td>agustd</td>\n",
       "      <td>SUGA of BTS 민윤기</td>\n",
       "      <td>NaN</td>\n",
       "      <td>NaN</td>\n",
       "      <td>31500000.0</td>\n",
       "      <td>NaN</td>\n",
       "      <td>10900000.0</td>\n",
       "      <td>10900000.0</td>\n",
       "    </tr>\n",
       "    <tr>\n",
       "      <th>780</th>\n",
       "      <td>rkive</td>\n",
       "      <td>RM</td>\n",
       "      <td>NaN</td>\n",
       "      <td>NaN</td>\n",
       "      <td>31300000.0</td>\n",
       "      <td>NaN</td>\n",
       "      <td>8600000.0</td>\n",
       "      <td>8600000.0</td>\n",
       "    </tr>\n",
       "    <tr>\n",
       "      <th>519</th>\n",
       "      <td>lalalalisa_m</td>\n",
       "      <td>LISA</td>\n",
       "      <td>Music</td>\n",
       "      <td>NaN</td>\n",
       "      <td>75700000.0</td>\n",
       "      <td>Indonesia</td>\n",
       "      <td>7500000.0</td>\n",
       "      <td>8600000.0</td>\n",
       "    </tr>\n",
       "    <tr>\n",
       "      <th>995</th>\n",
       "      <td>zendaya</td>\n",
       "      <td>Zendaya</td>\n",
       "      <td>Cinema &amp; Actors/actresses</td>\n",
       "      <td>Fashion</td>\n",
       "      <td>136100000.0</td>\n",
       "      <td>United States</td>\n",
       "      <td>6400000.0</td>\n",
       "      <td>8600000.0</td>\n",
       "    </tr>\n",
       "  </tbody>\n",
       "</table>\n",
       "</div>"
      ],
      "text/plain": [
       "     account_name       influencer                 category_1 category_2  \\\n",
       "968  xxxtentacion    MAKE OUT HILL                      Music        NaN   \n",
       "396           j.m     JIMIN of BTS                        NaN        NaN   \n",
       "510   kyliejenner          Kylie 🤍                    Fashion   Modeling   \n",
       "903           thv                V                        NaN        NaN   \n",
       "457   jungkook.97         Jungkook                        NaN        NaN   \n",
       "432           jin       Jin of BTS                        NaN        NaN   \n",
       "28         agustd  SUGA of BTS 민윤기                        NaN        NaN   \n",
       "780         rkive               RM                        NaN        NaN   \n",
       "519  lalalalisa_m             LISA                      Music        NaN   \n",
       "995       zendaya          Zendaya  Cinema & Actors/actresses    Fashion   \n",
       "\n",
       "       Followers country_audience  authentic_engagement  overall_engagement  \n",
       "968   20200000.0    United States            11800000.0          20800000.0  \n",
       "396   32700000.0              NaN            12700000.0          12700000.0  \n",
       "510  323300000.0    United States             7600000.0          12300000.0  \n",
       "903   38100000.0              NaN            12200000.0          12200000.0  \n",
       "457   35800000.0              NaN            11400000.0          11400000.0  \n",
       "432   32000000.0    United States            11100000.0          11100000.0  \n",
       "28    31500000.0              NaN            10900000.0          10900000.0  \n",
       "780   31300000.0              NaN             8600000.0           8600000.0  \n",
       "519   75700000.0        Indonesia             7500000.0           8600000.0  \n",
       "995  136100000.0    United States             6400000.0           8600000.0  "
      ]
     },
     "execution_count": 68,
     "metadata": {},
     "output_type": "execute_result"
    }
   ],
   "source": [
    "df_instagram10 = df_instagram.head(10)\n",
    "df_instagram10"
   ]
  },
  {
   "cell_type": "code",
   "execution_count": 69,
   "id": "3d1fc08a-4751-4fb1-833c-5cf4e99aad82",
   "metadata": {
    "extensions": {
     "jupyter_dashboards": {
      "activeView": "grid_default",
      "views": {
       "grid_default": {
        "col": null,
        "height": 2,
        "hidden": true,
        "locked": true,
        "row": null,
        "width": 2
       }
      }
     }
    }
   },
   "outputs": [
    {
     "name": "stderr",
     "output_type": "stream",
     "text": [
      "C:\\Python3\\lib\\site-packages\\IPython\\core\\pylabtools.py:151: UserWarning:\n",
      "\n",
      "Glyph 129293 (\\N{WHITE HEART}) missing from current font.\n",
      "\n",
      "C:\\Python3\\lib\\site-packages\\IPython\\core\\pylabtools.py:151: UserWarning:\n",
      "\n",
      "Glyph 48124 (\\N{HANGUL SYLLABLE MIN}) missing from current font.\n",
      "\n",
      "C:\\Python3\\lib\\site-packages\\IPython\\core\\pylabtools.py:151: UserWarning:\n",
      "\n",
      "Glyph 50980 (\\N{HANGUL SYLLABLE YUN}) missing from current font.\n",
      "\n",
      "C:\\Python3\\lib\\site-packages\\IPython\\core\\pylabtools.py:151: UserWarning:\n",
      "\n",
      "Glyph 44592 (\\N{HANGUL SYLLABLE GI}) missing from current font.\n",
      "\n"
     ]
    },
    {
     "data": {
      "image/png": "[encoded data removed]",
      "text/plain": [
       "<Figure size 432x288 with 1 Axes>"
      ]
     },
     "metadata": {
      "needs_background": "light"
     },
     "output_type": "display_data"
    }
   ],
   "source": [
    "    # Initialise a figure. subplots() with no args gives one plot.\n",
    "fig, ax = plt.subplots()\n",
    "\n",
    "    # A little data preparation\n",
    "influencers = df_instagram10['influencer']\n",
    "x = np.arange(len(influencers))\n",
    "\n",
    "top10insta_AE = df_instagram10['authentic_engagement']\n",
    "top10insta_OE = df_instagram10['overall_engagement']\n",
    "top10insta_diff = top10insta_OE - top10insta_AE\n",
    "\n",
    "N = 10\n",
    "ind = np.arange(N) \n",
    "width = 0.15\n",
    "  \n",
    "xvals = top10insta_AE\n",
    "bar1 = plt.bar(ind, xvals, width, color = '#033e6b')\n",
    "  \n",
    "yvals = top10insta_OE\n",
    "bar2 = plt.bar(ind+width, yvals, width, color='#91e3e4')\n",
    "  \n",
    "zvals = top10insta_diff\n",
    "bar3 = plt.bar(ind+width*2, zvals, width, color = '#0622af')\n",
    "  \n",
    "plt.xlabel(\"Influencers\")\n",
    "plt.ylabel('Engagement Rates')\n",
    "plt.title(\"Engagement per Influencer\")\n",
    "  \n",
    "plt.xticks(ind+width, influencers, rotation='vertical')\n",
    "plt.legend( (bar1, bar2, bar3), ('Authentic Engagement', 'Overall Engagement', 'Difference') )\n",
    "plt.show()"
   ]
  },
  {
   "cell_type": "code",
   "execution_count": 70,
   "id": "2e9128da-b0ed-48bd-a827-858f0e260d6f",
   "metadata": {
    "extensions": {
     "jupyter_dashboards": {
      "activeView": "grid_default",
      "views": {
       "grid_default": {
        "col": null,
        "height": 2,
        "hidden": true,
        "locked": true,
        "row": null,
        "width": 2
       }
      }
     }
    }
   },
   "outputs": [
    {
     "data": {
      "text/plain": [
       "array(['Music', nan, 'Fashion', 'Cinema & Actors/actresses',\n",
       "       'Sports with a ball', 'Modeling', 'Lifestyle', 'Art/Artists',\n",
       "       'Business & Careers', 'Fitness & Gym', 'Shows',\n",
       "       'Management & Marketing', 'Beauty', 'Finance & Economics',\n",
       "       'Computers & Gadgets', 'Humor & Fun & Happiness', 'Racing Sports',\n",
       "       'Clothing & Outfits', 'Family', 'Photography', 'Food & Cooking',\n",
       "       'Science', 'Education', 'Literature & Journalism', 'Adult content',\n",
       "       'Cars & Motorbikes', 'Kids & Toys', 'Machinery & Technologies',\n",
       "       'Animals', 'Luxury', 'Nature & landscapes',\n",
       "       'Accessories & Jewellery'], dtype=object)"
      ]
     },
     "execution_count": 70,
     "metadata": {},
     "output_type": "execute_result"
    }
   ],
   "source": [
    "df_instagram.category_1.unique()"
   ]
  },
  {
   "cell_type": "code",
   "execution_count": 71,
   "id": "1fb256b1-f4e8-4a0f-ac57-b2fe3d865db8",
   "metadata": {
    "extensions": {
     "jupyter_dashboards": {
      "activeView": "grid_default",
      "views": {
       "grid_default": {
        "col": null,
        "height": 2,
        "hidden": true,
        "locked": true,
        "row": null,
        "width": 2
       }
      }
     }
    }
   },
   "outputs": [
    {
     "data": {
      "text/plain": [
       "array([nan, 'Modeling', 'Fashion', 'Beauty', 'Family', 'Lifestyle',\n",
       "       'Cinema & Actors/actresses', 'Music', 'Art/Artists', 'Shows',\n",
       "       'Humor & Fun & Happiness', 'Business & Careers', 'Adult content',\n",
       "       'Clothing & Outfits', 'Machinery & Technologies', 'Photography',\n",
       "       'Sports with a ball', 'Luxury', 'Kids & Toys',\n",
       "       'Trainers & Coaches', 'Fitness & Gym', 'Computers & Gadgets',\n",
       "       'Comics & sketches', 'Cars & Motorbikes', 'Finance & Economics',\n",
       "       'Shopping & Retail', 'Literature & Journalism', 'Science'],\n",
       "      dtype=object)"
      ]
     },
     "execution_count": 71,
     "metadata": {},
     "output_type": "execute_result"
    }
   ],
   "source": [
    "df_instagram.category_2.unique()"
   ]
  },
  {
   "cell_type": "code",
   "execution_count": 72,
   "id": "53758974-aafe-4d58-8b78-783ca95f262b",
   "metadata": {
    "extensions": {
     "jupyter_dashboards": {
      "activeView": "grid_default",
      "views": {
       "grid_default": {
        "col": null,
        "height": 2,
        "hidden": true,
        "locked": true,
        "row": null,
        "width": 2
       }
      }
     }
    }
   },
   "outputs": [],
   "source": [
    "df_instagram['category_1'].fillna(0, inplace=True)\n",
    "df_instagram['category_2'].fillna(0, inplace=True)"
   ]
  },
  {
   "cell_type": "code",
   "execution_count": 73,
   "id": "658c9d71-5672-4d85-8a0a-1226bf8560d9",
   "metadata": {
    "extensions": {
     "jupyter_dashboards": {
      "activeView": "grid_default",
      "views": {
       "grid_default": {
        "col": null,
        "height": 2,
        "hidden": true,
        "locked": true,
        "row": null,
        "width": 2
       }
      }
     }
    }
   },
   "outputs": [
    {
     "data": {
      "text/plain": [
       "array([0, 'Modeling', 'Fashion', 'Beauty', 'Family', 'Lifestyle',\n",
       "       'Cinema & Actors/actresses', 'Music', 'Art/Artists', 'Shows',\n",
       "       'Humor & Fun & Happiness', 'Business & Careers', 'Adult content',\n",
       "       'Clothing & Outfits', 'Machinery & Technologies', 'Photography',\n",
       "       'Sports with a ball', 'Luxury', 'Kids & Toys',\n",
       "       'Trainers & Coaches', 'Fitness & Gym', 'Computers & Gadgets',\n",
       "       'Comics & sketches', 'Cars & Motorbikes', 'Finance & Economics',\n",
       "       'Shopping & Retail', 'Literature & Journalism', 'Science'],\n",
       "      dtype=object)"
      ]
     },
     "execution_count": 73,
     "metadata": {},
     "output_type": "execute_result"
    }
   ],
   "source": [
    "df_instagram.category_2.unique()"
   ]
  },
  {
   "cell_type": "code",
   "execution_count": 74,
   "id": "acf59afb-fb9c-4f8b-b0ca-f5cb04b72ea1",
   "metadata": {
    "extensions": {
     "jupyter_dashboards": {
      "activeView": "grid_default",
      "views": {
       "grid_default": {
        "col": null,
        "height": 2,
        "hidden": true,
        "locked": true,
        "row": null,
        "width": 2
       }
      }
     }
    }
   },
   "outputs": [
    {
     "data": {
      "text/plain": [
       "array(['Music', 0, 'Fashion', 'Cinema & Actors/actresses',\n",
       "       'Sports with a ball', 'Modeling', 'Lifestyle', 'Art/Artists',\n",
       "       'Business & Careers', 'Fitness & Gym', 'Shows',\n",
       "       'Management & Marketing', 'Beauty', 'Finance & Economics',\n",
       "       'Computers & Gadgets', 'Humor & Fun & Happiness', 'Racing Sports',\n",
       "       'Clothing & Outfits', 'Family', 'Photography', 'Food & Cooking',\n",
       "       'Science', 'Education', 'Literature & Journalism', 'Adult content',\n",
       "       'Cars & Motorbikes', 'Kids & Toys', 'Machinery & Technologies',\n",
       "       'Animals', 'Luxury', 'Nature & landscapes',\n",
       "       'Accessories & Jewellery'], dtype=object)"
      ]
     },
     "execution_count": 74,
     "metadata": {},
     "output_type": "execute_result"
    }
   ],
   "source": [
    "df_instagram.category_1.unique()"
   ]
  },
  {
   "cell_type": "code",
   "execution_count": 75,
   "id": "91332fac-c602-4544-a4e5-36a1fde800ba",
   "metadata": {
    "extensions": {
     "jupyter_dashboards": {
      "activeView": "grid_default",
      "views": {
       "grid_default": {
        "col": null,
        "height": 2,
        "hidden": true,
        "locked": true,
        "row": null,
        "width": 2
       }
      }
     }
    }
   },
   "outputs": [
    {
     "name": "stdout",
     "output_type": "stream",
     "text": [
      "<class 'pandas.core.series.Series'>\n",
      "Int64Index: 1000 entries, 968 to 889\n",
      "Series name: category_1\n",
      "Non-Null Count  Dtype \n",
      "--------------  ----- \n",
      "1000 non-null   object\n",
      "dtypes: object(1)\n",
      "memory usage: 15.6+ KB\n"
     ]
    }
   ],
   "source": [
    "df_instagram.category_1.info()"
   ]
  },
  {
   "cell_type": "code",
   "execution_count": 76,
   "id": "ca4a20c4-7f54-40a6-afa4-cd0c331dd1d0",
   "metadata": {
    "extensions": {
     "jupyter_dashboards": {
      "activeView": "grid_default",
      "views": {
       "grid_default": {
        "col": null,
        "height": 2,
        "hidden": true,
        "locked": true,
        "row": null,
        "width": 2
       }
      }
     }
    }
   },
   "outputs": [
    {
     "name": "stdout",
     "output_type": "stream",
     "text": [
      "<class 'pandas.core.series.Series'>\n",
      "Int64Index: 1000 entries, 968 to 889\n",
      "Series name: category_2\n",
      "Non-Null Count  Dtype \n",
      "--------------  ----- \n",
      "1000 non-null   object\n",
      "dtypes: object(1)\n",
      "memory usage: 15.6+ KB\n"
     ]
    }
   ],
   "source": [
    "df_instagram.category_2.info()"
   ]
  },
  {
   "cell_type": "code",
   "execution_count": 77,
   "id": "b87ffdb6-9c76-4d6e-b586-e20363033b1e",
   "metadata": {
    "extensions": {
     "jupyter_dashboards": {
      "activeView": "grid_default",
      "views": {
       "grid_default": {
        "col": null,
        "height": 2,
        "hidden": true,
        "locked": true,
        "row": null,
        "width": 2
       }
      }
     }
    }
   },
   "outputs": [],
   "source": [
    "valuecat1 = df_instagram['category_1'].value_counts()"
   ]
  },
  {
   "cell_type": "code",
   "execution_count": 78,
   "id": "bba929d7-c891-4709-ab61-22212b487076",
   "metadata": {
    "extensions": {
     "jupyter_dashboards": {
      "activeView": "grid_default",
      "views": {
       "grid_default": {
        "col": null,
        "height": 2,
        "hidden": true,
        "locked": true,
        "row": null,
        "width": 2
       }
      }
     }
    }
   },
   "outputs": [],
   "source": [
    "valuecat2 = df_instagram['category_2'].value_counts()"
   ]
  },
  {
   "cell_type": "code",
   "execution_count": 86,
   "id": "25c8e884-9a37-45f6-bc77-ee3951b9a28f",
   "metadata": {
    "extensions": {
     "jupyter_dashboards": {
      "activeView": "grid_default",
      "views": {
       "grid_default": {
        "col": null,
        "height": 2,
        "hidden": true,
        "locked": true,
        "row": null,
        "width": 2
       }
      }
     }
    },
    "scrolled": true,
    "tags": []
   },
   "outputs": [
    {
     "data": {
      "application/vnd.plotly.v1+json": {
       "config": {
        "plotlyServerURL": "https://plot.ly"
       },
       "data": [
        {
         "domain": {
          "x": [
           0,
           1
          ],
          "y": [
           0,
           1
          ]
         },
         "labels": [
          "Music",
          0,
          "Fashion",
          "Cinema & Actors/actresses",
          "Sports with a ball",
          "Modeling",
          "Lifestyle",
          "Art/Artists",
          "Business & Careers",
          "Fitness & Gym",
          "Shows",
          "Management & Marketing",
          "Beauty",
          "Finance & Economics",
          "Computers & Gadgets",
          "Humor & Fun & Happiness",
          "Racing Sports",
          "Clothing & Outfits",
          "Family",
          "Photography",
          "Food & Cooking",
          "Science",
          "Education",
          "Literature & Journalism",
          "Adult content",
          "Cars & Motorbikes",
          "Kids & Toys",
          "Machinery & Technologies",
          "Animals",
          "Luxury",
          "Nature & landscapes",
          "Accessories & Jewellery"
         ],
         "name": "Primary Categories",
         "scalegroup": "one",
         "textposition": "inside",
         "type": "pie",
         "values": [
          235,
          214,
          113,
          108,
          99,
          43,
          36,
          28,
          18,
          12,
          11,
          10,
          9,
          9,
          7,
          6,
          5,
          5,
          5,
          4,
          4,
          3,
          3,
          3,
          2,
          2,
          1,
          1,
          1,
          1,
          1,
          1
         ]
        }
       ],
       "layout": {
        "annotations": [
         {
          "font": {
           "size": 16
          },
          "showarrow": false,
          "text": "Cat1",
          "x": 0.5,
          "xanchor": "center",
          "xref": "paper",
          "y": 1,
          "yanchor": "bottom",
          "yref": "paper"
         }
        ],
        "height": 800,
        "legend": {
         "font": {
          "size": 12
         }
        },
        "template": {
         "data": {
          "bar": [
           {
            "error_x": {
             "color": "#2a3f5f"
            },
            "error_y": {
             "color": "#2a3f5f"
            },
            "marker": {
             "line": {
              "color": "#E5ECF6",
              "width": 0.5
             },
             "pattern": {
              "fillmode": "overlay",
              "size": 10,
              "solidity": 0.2
             }
            },
            "type": "bar"
           }
          ],
          "barpolar": [
           {
            "marker": {
             "line": {
              "color": "#E5ECF6",
              "width": 0.5
             },
             "pattern": {
              "fillmode": "overlay",
              "size": 10,
              "solidity": 0.2
             }
            },
            "type": "barpolar"
           }
          ],
          "carpet": [
           {
            "aaxis": {
             "endlinecolor": "#2a3f5f",
             "gridcolor": "white",
             "linecolor": "white",
             "minorgridcolor": "white",
             "startlinecolor": "#2a3f5f"
            },
            "baxis": {
             "endlinecolor": "#2a3f5f",
             "gridcolor": "white",
             "linecolor": "white",
             "minorgridcolor": "white",
             "startlinecolor": "#2a3f5f"
            },
            "type": "carpet"
           }
          ],
          "choropleth": [
           {
            "colorbar": {
             "outlinewidth": 0,
             "ticks": ""
            },
            "type": "choropleth"
           }
          ],
          "contour": [
           {
            "colorbar": {
             "outlinewidth": 0,
             "ticks": ""
            },
            "colorscale": [
             [
              0,
              "#0d0887"
             ],
             [
              0.1111111111111111,
              "#46039f"
             ],
             [
              0.2222222222222222,
              "#7201a8"
             ],
             [
              0.3333333333333333,
              "#9c179e"
             ],
             [
              0.4444444444444444,
              "#bd3786"
             ],
             [
              0.5555555555555556,
              "#d8576b"
             ],
             [
              0.6666666666666666,
              "#ed7953"
             ],
             [
              0.7777777777777778,
              "#fb9f3a"
             ],
             [
              0.8888888888888888,
              "#fdca26"
             ],
             [
              1,
              "#f0f921"
             ]
            ],
            "type": "contour"
           }
          ],
          "contourcarpet": [
           {
            "colorbar": {
             "outlinewidth": 0,
             "ticks": ""
            },
            "type": "contourcarpet"
           }
          ],
          "heatmap": [
           {
            "colorbar": {
             "outlinewidth": 0,
             "ticks": ""
            },
            "colorscale": [
             [
              0,
              "#0d0887"
             ],
             [
              0.1111111111111111,
              "#46039f"
             ],
             [
              0.2222222222222222,
              "#7201a8"
             ],
             [
              0.3333333333333333,
              "#9c179e"
             ],
             [
              0.4444444444444444,
              "#bd3786"
             ],
             [
              0.5555555555555556,
              "#d8576b"
             ],
             [
              0.6666666666666666,
              "#ed7953"
             ],
             [
              0.7777777777777778,
              "#fb9f3a"
             ],
             [
              0.8888888888888888,
              "#fdca26"
             ],
             [
              1,
              "#f0f921"
             ]
            ],
            "type": "heatmap"
           }
          ],
          "heatmapgl": [
           {
            "colorbar": {
             "outlinewidth": 0,
             "ticks": ""
            },
            "colorscale": [
             [
              0,
              "#0d0887"
             ],
             [
              0.1111111111111111,
              "#46039f"
             ],
             [
              0.2222222222222222,
              "#7201a8"
             ],
             [
              0.3333333333333333,
              "#9c179e"
             ],
             [
              0.4444444444444444,
              "#bd3786"
             ],
             [
              0.5555555555555556,
              "#d8576b"
             ],
             [
              0.6666666666666666,
              "#ed7953"
             ],
             [
              0.7777777777777778,
              "#fb9f3a"
             ],
             [
              0.8888888888888888,
              "#fdca26"
             ],
             [
              1,
              "#f0f921"
             ]
            ],
            "type": "heatmapgl"
           }
          ],
          "histogram": [
           {
            "marker": {
             "pattern": {
              "fillmode": "overlay",
              "size": 10,
              "solidity": 0.2
             }
            },
            "type": "histogram"
           }
          ],
          "histogram2d": [
           {
            "colorbar": {
             "outlinewidth": 0,
             "ticks": ""
            },
            "colorscale": [
             [
              0,
              "#0d0887"
             ],
             [
              0.1111111111111111,
              "#46039f"
             ],
             [
              0.2222222222222222,
              "#7201a8"
             ],
             [
              0.3333333333333333,
              "#9c179e"
             ],
             [
              0.4444444444444444,
              "#bd3786"
             ],
             [
              0.5555555555555556,
              "#d8576b"
             ],
             [
              0.6666666666666666,
              "#ed7953"
             ],
             [
              0.7777777777777778,
              "#fb9f3a"
             ],
             [
              0.8888888888888888,
              "#fdca26"
             ],
             [
              1,
              "#f0f921"
             ]
            ],
            "type": "histogram2d"
           }
          ],
          "histogram2dcontour": [
           {
            "colorbar": {
             "outlinewidth": 0,
             "ticks": ""
            },
            "colorscale": [
             [
              0,
              "#0d0887"
             ],
             [
              0.1111111111111111,
              "#46039f"
             ],
             [
              0.2222222222222222,
              "#7201a8"
             ],
             [
              0.3333333333333333,
              "#9c179e"
             ],
             [
              0.4444444444444444,
              "#bd3786"
             ],
             [
              0.5555555555555556,
              "#d8576b"
             ],
             [
              0.6666666666666666,
              "#ed7953"
             ],
             [
              0.7777777777777778,
              "#fb9f3a"
             ],
             [
              0.8888888888888888,
              "#fdca26"
             ],
             [
              1,
              "#f0f921"
             ]
            ],
            "type": "histogram2dcontour"
           }
          ],
          "mesh3d": [
           {
            "colorbar": {
             "outlinewidth": 0,
             "ticks": ""
            },
            "type": "mesh3d"
           }
          ],
          "parcoords": [
           {
            "line": {
             "colorbar": {
              "outlinewidth": 0,
              "ticks": ""
             }
            },
            "type": "parcoords"
           }
          ],
          "pie": [
           {
            "automargin": true,
            "type": "pie"
           }
          ],
          "scatter": [
           {
            "fillpattern": {
             "fillmode": "overlay",
             "size": 10,
             "solidity": 0.2
            },
            "type": "scatter"
           }
          ],
          "scatter3d": [
           {
            "line": {
             "colorbar": {
              "outlinewidth": 0,
              "ticks": ""
             }
            },
            "marker": {
             "colorbar": {
              "outlinewidth": 0,
              "ticks": ""
             }
            },
            "type": "scatter3d"
           }
          ],
          "scattercarpet": [
           {
            "marker": {
             "colorbar": {
              "outlinewidth": 0,
              "ticks": ""
             }
            },
            "type": "scattercarpet"
           }
          ],
          "scattergeo": [
           {
            "marker": {
             "colorbar": {
              "outlinewidth": 0,
              "ticks": ""
             }
            },
            "type": "scattergeo"
           }
          ],
          "scattergl": [
           {
            "marker": {
             "colorbar": {
              "outlinewidth": 0,
              "ticks": ""
             }
            },
            "type": "scattergl"
           }
          ],
          "scattermapbox": [
           {
            "marker": {
             "colorbar": {
              "outlinewidth": 0,
              "ticks": ""
             }
            },
            "type": "scattermapbox"
           }
          ],
          "scatterpolar": [
           {
            "marker": {
             "colorbar": {
              "outlinewidth": 0,
              "ticks": ""
             }
            },
            "type": "scatterpolar"
           }
          ],
          "scatterpolargl": [
           {
            "marker": {
             "colorbar": {
              "outlinewidth": 0,
              "ticks": ""
             }
            },
            "type": "scatterpolargl"
           }
          ],
          "scatterternary": [
           {
            "marker": {
             "colorbar": {
              "outlinewidth": 0,
              "ticks": ""
             }
            },
            "type": "scatterternary"
           }
          ],
          "surface": [
           {
            "colorbar": {
             "outlinewidth": 0,
             "ticks": ""
            },
            "colorscale": [
             [
              0,
              "#0d0887"
             ],
             [
              0.1111111111111111,
              "#46039f"
             ],
             [
              0.2222222222222222,
              "#7201a8"
             ],
             [
              0.3333333333333333,
              "#9c179e"
             ],
             [
              0.4444444444444444,
              "#bd3786"
             ],
             [
              0.5555555555555556,
              "#d8576b"
             ],
             [
              0.6666666666666666,
              "#ed7953"
             ],
             [
              0.7777777777777778,
              "#fb9f3a"
             ],
             [
              0.8888888888888888,
              "#fdca26"
             ],
             [
              1,
              "#f0f921"
             ]
            ],
            "type": "surface"
           }
          ],
          "table": [
           {
            "cells": {
             "fill": {
              "color": "#EBF0F8"
             },
             "line": {
              "color": "white"
             }
            },
            "header": {
             "fill": {
              "color": "#C8D4E3"
             },
             "line": {
              "color": "white"
             }
            },
            "type": "table"
           }
          ]
         },
         "layout": {
          "annotationdefaults": {
           "arrowcolor": "#2a3f5f",
           "arrowhead": 0,
           "arrowwidth": 1
          },
          "autotypenumbers": "strict",
          "coloraxis": {
           "colorbar": {
            "outlinewidth": 0,
            "ticks": ""
           }
          },
          "colorscale": {
           "diverging": [
            [
             0,
             "#8e0152"
            ],
            [
             0.1,
             "#c51b7d"
            ],
            [
             0.2,
             "#de77ae"
            ],
            [
             0.3,
             "#f1b6da"
            ],
            [
             0.4,
             "#fde0ef"
            ],
            [
             0.5,
             "#f7f7f7"
            ],
            [
             0.6,
             "#e6f5d0"
            ],
            [
             0.7,
             "#b8e186"
            ],
            [
             0.8,
             "#7fbc41"
            ],
            [
             0.9,
             "#4d9221"
            ],
            [
             1,
             "#276419"
            ]
           ],
           "sequential": [
            [
             0,
             "#0d0887"
            ],
            [
             0.1111111111111111,
             "#46039f"
            ],
            [
             0.2222222222222222,
             "#7201a8"
            ],
            [
             0.3333333333333333,
             "#9c179e"
            ],
            [
             0.4444444444444444,
             "#bd3786"
            ],
            [
             0.5555555555555556,
             "#d8576b"
            ],
            [
             0.6666666666666666,
             "#ed7953"
            ],
            [
             0.7777777777777778,
             "#fb9f3a"
            ],
            [
             0.8888888888888888,
             "#fdca26"
            ],
            [
             1,
             "#f0f921"
            ]
           ],
           "sequentialminus": [
            [
             0,
             "#0d0887"
            ],
            [
             0.1111111111111111,
             "#46039f"
            ],
            [
             0.2222222222222222,
             "#7201a8"
            ],
            [
             0.3333333333333333,
             "#9c179e"
            ],
            [
             0.4444444444444444,
             "#bd3786"
            ],
            [
             0.5555555555555556,
             "#d8576b"
            ],
            [
             0.6666666666666666,
             "#ed7953"
            ],
            [
             0.7777777777777778,
             "#fb9f3a"
            ],
            [
             0.8888888888888888,
             "#fdca26"
            ],
            [
             1,
             "#f0f921"
            ]
           ]
          },
          "colorway": [
           "#636efa",
           "#EF553B",
           "#00cc96",
           "#ab63fa",
           "#FFA15A",
           "#19d3f3",
           "#FF6692",
           "#B6E880",
           "#FF97FF",
           "#FECB52"
          ],
          "font": {
           "color": "#2a3f5f"
          },
          "geo": {
           "bgcolor": "white",
           "lakecolor": "white",
           "landcolor": "#E5ECF6",
           "showlakes": true,
           "showland": true,
           "subunitcolor": "white"
          },
          "hoverlabel": {
           "align": "left"
          },
          "hovermode": "closest",
          "mapbox": {
           "style": "light"
          },
          "paper_bgcolor": "white",
          "plot_bgcolor": "#E5ECF6",
          "polar": {
           "angularaxis": {
            "gridcolor": "white",
            "linecolor": "white",
            "ticks": ""
           },
           "bgcolor": "#E5ECF6",
           "radialaxis": {
            "gridcolor": "white",
            "linecolor": "white",
            "ticks": ""
           }
          },
          "scene": {
           "xaxis": {
            "backgroundcolor": "#E5ECF6",
            "gridcolor": "white",
            "gridwidth": 2,
            "linecolor": "white",
            "showbackground": true,
            "ticks": "",
            "zerolinecolor": "white"
           },
           "yaxis": {
            "backgroundcolor": "#E5ECF6",
            "gridcolor": "white",
            "gridwidth": 2,
            "linecolor": "white",
            "showbackground": true,
            "ticks": "",
            "zerolinecolor": "white"
           },
           "zaxis": {
            "backgroundcolor": "#E5ECF6",
            "gridcolor": "white",
            "gridwidth": 2,
            "linecolor": "white",
            "showbackground": true,
            "ticks": "",
            "zerolinecolor": "white"
           }
          },
          "shapedefaults": {
           "line": {
            "color": "#2a3f5f"
           }
          },
          "ternary": {
           "aaxis": {
            "gridcolor": "white",
            "linecolor": "white",
            "ticks": ""
           },
           "baxis": {
            "gridcolor": "white",
            "linecolor": "white",
            "ticks": ""
           },
           "bgcolor": "#E5ECF6",
           "caxis": {
            "gridcolor": "white",
            "linecolor": "white",
            "ticks": ""
           }
          },
          "title": {
           "x": 0.05
          },
          "xaxis": {
           "automargin": true,
           "gridcolor": "white",
           "linecolor": "white",
           "ticks": "",
           "title": {
            "standoff": 15
           },
           "zerolinecolor": "white",
           "zerolinewidth": 2
          },
          "yaxis": {
           "automargin": true,
           "gridcolor": "white",
           "linecolor": "white",
           "ticks": "",
           "title": {
            "standoff": 15
           },
           "zerolinecolor": "white",
           "zerolinewidth": 2
          }
         }
        },
        "title": {
         "text": "Percentage of Influencer Categories"
        },
        "uniformtext": {
         "minsize": 10,
         "mode": "hide"
        },
        "width": 630
       }
      },
      "image/png": "[encoded data removed]",
      "text/html": [
       "<div>                            <div id=\"bcfd2b82-432e-48f1-807c-7e0c9c800af4\" class=\"plotly-graph-div\" style=\"height:800px; width:630px;\"></div>            <script type=\"text/javascript\">                require([\"plotly\"], function(Plotly) {                    window.PLOTLYENV=window.PLOTLYENV || {};                                    if (document.getElementById(\"bcfd2b82-432e-48f1-807c-7e0c9c800af4\")) {                    Plotly.newPlot(                        \"bcfd2b82-432e-48f1-807c-7e0c9c800af4\",                        [{\"labels\":[\"Music\",0,\"Fashion\",\"Cinema & Actors/actresses\",\"Sports with a ball\",\"Modeling\",\"Lifestyle\",\"Art/Artists\",\"Business & Careers\",\"Fitness & Gym\",\"Shows\",\"Management & Marketing\",\"Beauty\",\"Finance & Economics\",\"Computers & Gadgets\",\"Humor & Fun & Happiness\",\"Racing Sports\",\"Clothing & Outfits\",\"Family\",\"Photography\",\"Food & Cooking\",\"Science\",\"Education\",\"Literature & Journalism\",\"Adult content\",\"Cars & Motorbikes\",\"Kids & Toys\",\"Machinery & Technologies\",\"Animals\",\"Luxury\",\"Nature & landscapes\",\"Accessories & Jewellery\"],\"name\":\"Primary Categories\",\"scalegroup\":\"one\",\"values\":[235,214,113,108,99,43,36,28,18,12,11,10,9,9,7,6,5,5,5,4,4,3,3,3,2,2,1,1,1,1,1,1],\"type\":\"pie\",\"domain\":{\"x\":[0.0,1.0],\"y\":[0.0,1.0]},\"textposition\":\"inside\"}],                        {\"template\":{\"data\":{\"histogram2dcontour\":[{\"type\":\"histogram2dcontour\",\"colorbar\":{\"outlinewidth\":0,\"ticks\":\"\"},\"colorscale\":[[0.0,\"#0d0887\"],[0.1111111111111111,\"#46039f\"],[0.2222222222222222,\"#7201a8\"],[0.3333333333333333,\"#9c179e\"],[0.4444444444444444,\"#bd3786\"],[0.5555555555555556,\"#d8576b\"],[0.6666666666666666,\"#ed7953\"],[0.7777777777777778,\"#fb9f3a\"],[0.8888888888888888,\"#fdca26\"],[1.0,\"#f0f921\"]]}],\"choropleth\":[{\"type\":\"choropleth\",\"colorbar\":{\"outlinewidth\":0,\"ticks\":\"\"}}],\"histogram2d\":[{\"type\":\"histogram2d\",\"colorbar\":{\"outlinewidth\":0,\"ticks\":\"\"},\"colorscale\":[[0.0,\"#0d0887\"],[0.1111111111111111,\"#46039f\"],[0.2222222222222222,\"#7201a8\"],[0.3333333333333333,\"#9c179e\"],[0.4444444444444444,\"#bd3786\"],[0.5555555555555556,\"#d8576b\"],[0.6666666666666666,\"#ed7953\"],[0.7777777777777778,\"#fb9f3a\"],[0.8888888888888888,\"#fdca26\"],[1.0,\"#f0f921\"]]}],\"heatmap\":[{\"type\":\"heatmap\",\"colorbar\":{\"outlinewidth\":0,\"ticks\":\"\"},\"colorscale\":[[0.0,\"#0d0887\"],[0.1111111111111111,\"#46039f\"],[0.2222222222222222,\"#7201a8\"],[0.3333333333333333,\"#9c179e\"],[0.4444444444444444,\"#bd3786\"],[0.5555555555555556,\"#d8576b\"],[0.6666666666666666,\"#ed7953\"],[0.7777777777777778,\"#fb9f3a\"],[0.8888888888888888,\"#fdca26\"],[1.0,\"#f0f921\"]]}],\"heatmapgl\":[{\"type\":\"heatmapgl\",\"colorbar\":{\"outlinewidth\":0,\"ticks\":\"\"},\"colorscale\":[[0.0,\"#0d0887\"],[0.1111111111111111,\"#46039f\"],[0.2222222222222222,\"#7201a8\"],[0.3333333333333333,\"#9c179e\"],[0.4444444444444444,\"#bd3786\"],[0.5555555555555556,\"#d8576b\"],[0.6666666666666666,\"#ed7953\"],[0.7777777777777778,\"#fb9f3a\"],[0.8888888888888888,\"#fdca26\"],[1.0,\"#f0f921\"]]}],\"contourcarpet\":[{\"type\":\"contourcarpet\",\"colorbar\":{\"outlinewidth\":0,\"ticks\":\"\"}}],\"contour\":[{\"type\":\"contour\",\"colorbar\":{\"outlinewidth\":0,\"ticks\":\"\"},\"colorscale\":[[0.0,\"#0d0887\"],[0.1111111111111111,\"#46039f\"],[0.2222222222222222,\"#7201a8\"],[0.3333333333333333,\"#9c179e\"],[0.4444444444444444,\"#bd3786\"],[0.5555555555555556,\"#d8576b\"],[0.6666666666666666,\"#ed7953\"],[0.7777777777777778,\"#fb9f3a\"],[0.8888888888888888,\"#fdca26\"],[1.0,\"#f0f921\"]]}],\"surface\":[{\"type\":\"surface\",\"colorbar\":{\"outlinewidth\":0,\"ticks\":\"\"},\"colorscale\":[[0.0,\"#0d0887\"],[0.1111111111111111,\"#46039f\"],[0.2222222222222222,\"#7201a8\"],[0.3333333333333333,\"#9c179e\"],[0.4444444444444444,\"#bd3786\"],[0.5555555555555556,\"#d8576b\"],[0.6666666666666666,\"#ed7953\"],[0.7777777777777778,\"#fb9f3a\"],[0.8888888888888888,\"#fdca26\"],[1.0,\"#f0f921\"]]}],\"mesh3d\":[{\"type\":\"mesh3d\",\"colorbar\":{\"outlinewidth\":0,\"ticks\":\"\"}}],\"scatter\":[{\"fillpattern\":{\"fillmode\":\"overlay\",\"size\":10,\"solidity\":0.2},\"type\":\"scatter\"}],\"parcoords\":[{\"type\":\"parcoords\",\"line\":{\"colorbar\":{\"outlinewidth\":0,\"ticks\":\"\"}}}],\"scatterpolargl\":[{\"type\":\"scatterpolargl\",\"marker\":{\"colorbar\":{\"outlinewidth\":0,\"ticks\":\"\"}}}],\"bar\":[{\"error_x\":{\"color\":\"#2a3f5f\"},\"error_y\":{\"color\":\"#2a3f5f\"},\"marker\":{\"line\":{\"color\":\"#E5ECF6\",\"width\":0.5},\"pattern\":{\"fillmode\":\"overlay\",\"size\":10,\"solidity\":0.2}},\"type\":\"bar\"}],\"scattergeo\":[{\"type\":\"scattergeo\",\"marker\":{\"colorbar\":{\"outlinewidth\":0,\"ticks\":\"\"}}}],\"scatterpolar\":[{\"type\":\"scatterpolar\",\"marker\":{\"colorbar\":{\"outlinewidth\":0,\"ticks\":\"\"}}}],\"histogram\":[{\"marker\":{\"pattern\":{\"fillmode\":\"overlay\",\"size\":10,\"solidity\":0.2}},\"type\":\"histogram\"}],\"scattergl\":[{\"type\":\"scattergl\",\"marker\":{\"colorbar\":{\"outlinewidth\":0,\"ticks\":\"\"}}}],\"scatter3d\":[{\"type\":\"scatter3d\",\"line\":{\"colorbar\":{\"outlinewidth\":0,\"ticks\":\"\"}},\"marker\":{\"colorbar\":{\"outlinewidth\":0,\"ticks\":\"\"}}}],\"scattermapbox\":[{\"type\":\"scattermapbox\",\"marker\":{\"colorbar\":{\"outlinewidth\":0,\"ticks\":\"\"}}}],\"scatterternary\":[{\"type\":\"scatterternary\",\"marker\":{\"colorbar\":{\"outlinewidth\":0,\"ticks\":\"\"}}}],\"scattercarpet\":[{\"type\":\"scattercarpet\",\"marker\":{\"colorbar\":{\"outlinewidth\":0,\"ticks\":\"\"}}}],\"carpet\":[{\"aaxis\":{\"endlinecolor\":\"#2a3f5f\",\"gridcolor\":\"white\",\"linecolor\":\"white\",\"minorgridcolor\":\"white\",\"startlinecolor\":\"#2a3f5f\"},\"baxis\":{\"endlinecolor\":\"#2a3f5f\",\"gridcolor\":\"white\",\"linecolor\":\"white\",\"minorgridcolor\":\"white\",\"startlinecolor\":\"#2a3f5f\"},\"type\":\"carpet\"}],\"table\":[{\"cells\":{\"fill\":{\"color\":\"#EBF0F8\"},\"line\":{\"color\":\"white\"}},\"header\":{\"fill\":{\"color\":\"#C8D4E3\"},\"line\":{\"color\":\"white\"}},\"type\":\"table\"}],\"barpolar\":[{\"marker\":{\"line\":{\"color\":\"#E5ECF6\",\"width\":0.5},\"pattern\":{\"fillmode\":\"overlay\",\"size\":10,\"solidity\":0.2}},\"type\":\"barpolar\"}],\"pie\":[{\"automargin\":true,\"type\":\"pie\"}]},\"layout\":{\"autotypenumbers\":\"strict\",\"colorway\":[\"#636efa\",\"#EF553B\",\"#00cc96\",\"#ab63fa\",\"#FFA15A\",\"#19d3f3\",\"#FF6692\",\"#B6E880\",\"#FF97FF\",\"#FECB52\"],\"font\":{\"color\":\"#2a3f5f\"},\"hovermode\":\"closest\",\"hoverlabel\":{\"align\":\"left\"},\"paper_bgcolor\":\"white\",\"plot_bgcolor\":\"#E5ECF6\",\"polar\":{\"bgcolor\":\"#E5ECF6\",\"angularaxis\":{\"gridcolor\":\"white\",\"linecolor\":\"white\",\"ticks\":\"\"},\"radialaxis\":{\"gridcolor\":\"white\",\"linecolor\":\"white\",\"ticks\":\"\"}},\"ternary\":{\"bgcolor\":\"#E5ECF6\",\"aaxis\":{\"gridcolor\":\"white\",\"linecolor\":\"white\",\"ticks\":\"\"},\"baxis\":{\"gridcolor\":\"white\",\"linecolor\":\"white\",\"ticks\":\"\"},\"caxis\":{\"gridcolor\":\"white\",\"linecolor\":\"white\",\"ticks\":\"\"}},\"coloraxis\":{\"colorbar\":{\"outlinewidth\":0,\"ticks\":\"\"}},\"colorscale\":{\"sequential\":[[0.0,\"#0d0887\"],[0.1111111111111111,\"#46039f\"],[0.2222222222222222,\"#7201a8\"],[0.3333333333333333,\"#9c179e\"],[0.4444444444444444,\"#bd3786\"],[0.5555555555555556,\"#d8576b\"],[0.6666666666666666,\"#ed7953\"],[0.7777777777777778,\"#fb9f3a\"],[0.8888888888888888,\"#fdca26\"],[1.0,\"#f0f921\"]],\"sequentialminus\":[[0.0,\"#0d0887\"],[0.1111111111111111,\"#46039f\"],[0.2222222222222222,\"#7201a8\"],[0.3333333333333333,\"#9c179e\"],[0.4444444444444444,\"#bd3786\"],[0.5555555555555556,\"#d8576b\"],[0.6666666666666666,\"#ed7953\"],[0.7777777777777778,\"#fb9f3a\"],[0.8888888888888888,\"#fdca26\"],[1.0,\"#f0f921\"]],\"diverging\":[[0,\"#8e0152\"],[0.1,\"#c51b7d\"],[0.2,\"#de77ae\"],[0.3,\"#f1b6da\"],[0.4,\"#fde0ef\"],[0.5,\"#f7f7f7\"],[0.6,\"#e6f5d0\"],[0.7,\"#b8e186\"],[0.8,\"#7fbc41\"],[0.9,\"#4d9221\"],[1,\"#276419\"]]},\"xaxis\":{\"gridcolor\":\"white\",\"linecolor\":\"white\",\"ticks\":\"\",\"title\":{\"standoff\":15},\"zerolinecolor\":\"white\",\"automargin\":true,\"zerolinewidth\":2},\"yaxis\":{\"gridcolor\":\"white\",\"linecolor\":\"white\",\"ticks\":\"\",\"title\":{\"standoff\":15},\"zerolinecolor\":\"white\",\"automargin\":true,\"zerolinewidth\":2},\"scene\":{\"xaxis\":{\"backgroundcolor\":\"#E5ECF6\",\"gridcolor\":\"white\",\"linecolor\":\"white\",\"showbackground\":true,\"ticks\":\"\",\"zerolinecolor\":\"white\",\"gridwidth\":2},\"yaxis\":{\"backgroundcolor\":\"#E5ECF6\",\"gridcolor\":\"white\",\"linecolor\":\"white\",\"showbackground\":true,\"ticks\":\"\",\"zerolinecolor\":\"white\",\"gridwidth\":2},\"zaxis\":{\"backgroundcolor\":\"#E5ECF6\",\"gridcolor\":\"white\",\"linecolor\":\"white\",\"showbackground\":true,\"ticks\":\"\",\"zerolinecolor\":\"white\",\"gridwidth\":2}},\"shapedefaults\":{\"line\":{\"color\":\"#2a3f5f\"}},\"annotationdefaults\":{\"arrowcolor\":\"#2a3f5f\",\"arrowhead\":0,\"arrowwidth\":1},\"geo\":{\"bgcolor\":\"white\",\"landcolor\":\"#E5ECF6\",\"subunitcolor\":\"white\",\"showland\":true,\"showlakes\":true,\"lakecolor\":\"white\"},\"title\":{\"x\":0.05},\"mapbox\":{\"style\":\"light\"}}},\"annotations\":[{\"font\":{\"size\":16},\"showarrow\":false,\"text\":\"Cat1\",\"x\":0.5,\"xanchor\":\"center\",\"xref\":\"paper\",\"y\":1.0,\"yanchor\":\"bottom\",\"yref\":\"paper\"}],\"title\":{\"text\":\"Percentage of Influencer Categories\"},\"uniformtext\":{\"minsize\":10,\"mode\":\"hide\"},\"legend\":{\"font\":{\"size\":12}},\"height\":800,\"width\":630},                        {\"responsive\": true}                    ).then(function(){\n",
       "                            \n",
       "var gd = document.getElementById('bcfd2b82-432e-48f1-807c-7e0c9c800af4');\n",
       "var x = new MutationObserver(function (mutations, observer) {{\n",
       "        var display = window.getComputedStyle(gd).display;\n",
       "        if (!display || display === 'none') {{\n",
       "            console.log([gd, 'removed!']);\n",
       "            Plotly.purge(gd);\n",
       "            observer.disconnect();\n",
       "        }}\n",
       "}});\n",
       "\n",
       "// Listen for the removal of the full notebook cells\n",
       "var notebookContainer = gd.closest('#notebook-container');\n",
       "if (notebookContainer) {{\n",
       "    x.observe(notebookContainer, {childList: true});\n",
       "}}\n",
       "\n",
       "// Listen for the clearing of the current output cell\n",
       "var outputEl = gd.closest('.output');\n",
       "if (outputEl) {{\n",
       "    x.observe(outputEl, {childList: true});\n",
       "}}\n",
       "\n",
       "                        })                };                });            </script>        </div>"
      ]
     },
     "metadata": {},
     "output_type": "display_data"
    }
   ],
   "source": [
    "from plotly.subplots import make_subplots\n",
    "\n",
    "labels = ['Music', 0, 'Fashion', 'Cinema & Actors/actresses',\n",
    "       'Sports with a ball', 'Modeling', 'Lifestyle', 'Art/Artists',\n",
    "       'Business & Careers', 'Fitness & Gym', 'Shows',\n",
    "       'Management & Marketing', 'Beauty', 'Finance & Economics',\n",
    "       'Computers & Gadgets', 'Humor & Fun & Happiness', 'Racing Sports',\n",
    "       'Clothing & Outfits', 'Family', 'Photography', 'Food & Cooking',\n",
    "       'Science', 'Education', 'Literature & Journalism', 'Adult content',\n",
    "       'Cars & Motorbikes', 'Kids & Toys', 'Machinery & Technologies',\n",
    "       'Animals', 'Luxury', 'Nature & landscapes',\n",
    "       'Accessories & Jewellery']\n",
    "labels2 = [0, 'Modeling', 'Fashion', 'Beauty', 'Family', 'Lifestyle',\n",
    "       'Cinema & Actors/actresses', 'Music', 'Art/Artists', 'Shows',\n",
    "       'Humor & Fun & Happiness', 'Business & Careers', 'Adult content',\n",
    "       'Clothing & Outfits', 'Machinery & Technologies', 'Photography',\n",
    "       'Sports with a ball', 'Luxury', 'Kids & Toys',\n",
    "       'Trainers & Coaches', 'Fitness & Gym', 'Computers & Gadgets',\n",
    "       'Comics & sketches', 'Cars & Motorbikes', 'Finance & Economics',\n",
    "       'Shopping & Retail', 'Literature & Journalism', 'Science']\n",
    "\n",
    "fig1 = make_subplots(1, 1, specs=[[{'type':'domain'}]],\n",
    "                    subplot_titles=['Cat1'])\n",
    "fig1.add_trace(go.Pie(labels=labels, values=valuecat1, scalegroup='one',\n",
    "                     name=\"Primary Categories\"), 1, 1)\n",
    "\n",
    "fig1.update_layout(title_text='Percentage of Influencer Categories')\n",
    "fig1.update_traces(textposition='inside')\n",
    "fig1.update_layout(\n",
    "    height=800,\n",
    "    width=630,\n",
    "    uniformtext_minsize=10, uniformtext_mode='hide',\n",
    "    legend=dict(font=dict(size=12)))\n",
    "\n",
    "fig1.show()"
   ]
  },
  {
   "cell_type": "code",
   "execution_count": 80,
   "id": "a1ca41f5-d5f3-4486-bbdf-bacfce294f9d",
   "metadata": {
    "extensions": {
     "jupyter_dashboards": {
      "activeView": "grid_default",
      "views": {
       "grid_default": {
        "col": null,
        "height": 2,
        "hidden": true,
        "locked": true,
        "row": null,
        "width": 2
       }
      }
     }
    }
   },
   "outputs": [
    {
     "name": "stdout",
     "output_type": "stream",
     "text": [
      "Requirement already satisfied: bokeh in c:\\python3\\lib\\site-packages (3.0.3)Note: you may need to restart the kernel to use updated packages.\n"
     ]
    },
    {
     "name": "stderr",
     "output_type": "stream",
     "text": [
      "\n",
      "[notice] A new release of pip available: 22.3.1 -> 23.0\n",
      "[notice] To update, run: python.exe -m pip install --upgrade pip\n"
     ]
    },
    {
     "name": "stdout",
     "output_type": "stream",
     "text": [
      "\n",
      "Requirement already satisfied: packaging>=16.8 in c:\\python3\\lib\\site-packages (from bokeh) (21.3)\n",
      "Requirement already satisfied: xyzservices>=2021.09.1 in c:\\python3\\lib\\site-packages (from bokeh) (2022.9.0)\n",
      "Requirement already satisfied: contourpy>=1 in c:\\python3\\lib\\site-packages (from bokeh) (1.0.7)\n",
      "Requirement already satisfied: numpy>=1.11.3 in c:\\python3\\lib\\site-packages (from bokeh) (1.22.3)\n",
      "Requirement already satisfied: pandas>=1.2 in c:\\python3\\lib\\site-packages (from bokeh) (1.4.1)\n",
      "Requirement already satisfied: pillow>=7.1.0 in c:\\python3\\lib\\site-packages (from bokeh) (9.0.1)\n",
      "Requirement already satisfied: PyYAML>=3.10 in c:\\python3\\lib\\site-packages (from bokeh) (6.0)\n",
      "Requirement already satisfied: Jinja2>=2.9 in c:\\python3\\lib\\site-packages (from bokeh) (3.0.3)\n",
      "Requirement already satisfied: tornado>=5.1 in c:\\python3\\lib\\site-packages (from bokeh) (6.1)\n",
      "Requirement already satisfied: MarkupSafe>=2.0 in c:\\python3\\lib\\site-packages (from Jinja2>=2.9->bokeh) (2.1.1)\n",
      "Requirement already satisfied: pyparsing!=3.0.5,>=2.0.2 in c:\\python3\\lib\\site-packages (from packaging>=16.8->bokeh) (3.0.7)\n",
      "Requirement already satisfied: pytz>=2020.1 in c:\\python3\\lib\\site-packages (from pandas>=1.2->bokeh) (2021.3)\n",
      "Requirement already satisfied: python-dateutil>=2.8.1 in c:\\python3\\lib\\site-packages (from pandas>=1.2->bokeh) (2.8.2)\n",
      "Requirement already satisfied: six>=1.5 in c:\\python3\\lib\\site-packages (from python-dateutil>=2.8.1->pandas>=1.2->bokeh) (1.16.0)\n"
     ]
    }
   ],
   "source": [
    "pip install bokeh"
   ]
  },
  {
   "cell_type": "code",
   "execution_count": 81,
   "id": "6bb01703-b91a-4309-9f2c-7f396c1c4aba",
   "metadata": {},
   "outputs": [
    {
     "name": "stdout",
     "output_type": "stream",
     "text": [
      "Requirement already satisfied: selenium in c:\\python3\\lib\\site-packages (4.7.2)\n",
      "Requirement already satisfied: phantomjs in c:\\python3\\lib\\site-packages (1.4.1)\n",
      "Requirement already satisfied: pillow in c:\\python3\\lib\\site-packages (9.0.1)\n",
      "Requirement already satisfied: certifi>=2021.10.8 in c:\\python3\\lib\\site-packages (from selenium) (2021.10.8)\n",
      "Requirement already satisfied: urllib3[socks]~=1.26 in c:\\python3\\lib\\site-packages (from selenium) (1.26.8)\n",
      "Requirement already satisfied: trio~=0.17 in c:\\python3\\lib\\site-packages (from selenium) (0.22.0)\n",
      "Requirement already satisfied: trio-websocket~=0.9 in c:\\python3\\lib\\site-packages (from selenium) (0.9.2)\n",
      "Requirement already satisfied: async-generator>=1.9 in c:\\python3\\lib\\site-packages (from trio~=0.17->selenium) (1.10)\n",
      "Requirement already satisfied: outcome in c:\\python3\\lib\\site-packages (from trio~=0.17->selenium) (1.2.0)\n",
      "Requirement already satisfied: sortedcontainers in c:\\python3\\lib\\site-packages (from trio~=0.17->selenium) (2.4.0)\n",
      "Requirement already satisfied: cffi>=1.14 in c:\\python3\\lib\\site-packages (from trio~=0.17->selenium) (1.15.0)\n",
      "Requirement already satisfied: idna in c:\\python3\\lib\\site-packages (from trio~=0.17->selenium) (3.3)\n",
      "Requirement already satisfied: attrs>=19.2.0 in c:\\python3\\lib\\site-packages (from trio~=0.17->selenium) (21.4.0)\n",
      "Requirement already satisfied: sniffio in c:\\python3\\lib\\site-packages (from trio~=0.17->selenium) (1.2.0)\n",
      "Requirement already satisfied: exceptiongroup>=1.0.0rc9 in c:\\python3\\lib\\site-packages (from trio~=0.17->selenium) (1.0.4)\n",
      "Requirement already satisfied: wsproto>=0.14 in c:\\python3\\lib\\site-packages (from trio-websocket~=0.9->selenium) (1.2.0)\n",
      "Requirement already satisfied: PySocks!=1.5.7,<2.0,>=1.5.6 in c:\\python3\\lib\\site-packages (from urllib3[socks]~=1.26->selenium) (1.7.1)\n",
      "Requirement already satisfied: pycparser in c:\\python3\\lib\\site-packages (from cffi>=1.14->trio~=0.17->selenium) (2.21)\n",
      "Requirement already satisfied: h11<1,>=0.9.0 in c:\\python3\\lib\\site-packages (from wsproto>=0.14->trio-websocket~=0.9->selenium) (0.14.0)\n",
      "Note: you may need to restart the kernel to use updated packages.\n"
     ]
    },
    {
     "name": "stderr",
     "output_type": "stream",
     "text": [
      "\n",
      "[notice] A new release of pip available: 22.3.1 -> 23.0\n",
      "[notice] To update, run: python.exe -m pip install --upgrade pip\n"
     ]
    }
   ],
   "source": [
    "pip install selenium phantomjs pillow"
   ]
  },
  {
   "cell_type": "code",
   "execution_count": 87,
   "id": "e73bb6a5-d8dd-41da-b56f-f812c6f8219e",
   "metadata": {
    "extensions": {
     "jupyter_dashboards": {
      "activeView": "grid_default",
      "views": {
       "grid_default": {
        "col": null,
        "height": 2,
        "hidden": true,
        "locked": true,
        "row": null,
        "width": 2
       }
      }
     }
    }
   },
   "outputs": [
    {
     "data": {
      "application/vnd.plotly.v1+json": {
       "config": {
        "plotlyServerURL": "https://plot.ly"
       },
       "data": [
        {
         "domain": {
          "x": [
           0,
           1
          ],
          "y": [
           0,
           1
          ]
         },
         "labels": [
          0,
          "Modeling",
          "Fashion",
          "Beauty",
          "Family",
          "Lifestyle",
          "Cinema & Actors/actresses",
          "Music",
          "Art/Artists",
          "Shows",
          "Humor & Fun & Happiness",
          "Business & Careers",
          "Adult content",
          "Clothing & Outfits",
          "Machinery & Technologies",
          "Photography",
          "Sports with a ball",
          "Luxury",
          "Kids & Toys",
          "Trainers & Coaches",
          "Fitness & Gym",
          "Computers & Gadgets",
          "Comics & sketches",
          "Cars & Motorbikes",
          "Finance & Economics",
          "Shopping & Retail",
          "Literature & Journalism",
          "Science"
         ],
         "name": "Secondary Categories",
         "scalegroup": "one",
         "textposition": "inside",
         "type": "pie",
         "values": [
          713,
          59,
          55,
          30,
          18,
          17,
          16,
          15,
          12,
          10,
          10,
          6,
          6,
          6,
          5,
          5,
          3,
          2,
          2,
          2,
          1,
          1,
          1,
          1,
          1,
          1,
          1,
          1
         ]
        }
       ],
       "layout": {
        "annotations": [
         {
          "font": {
           "size": 16
          },
          "showarrow": false,
          "text": "Cat2",
          "x": 0.5,
          "xanchor": "center",
          "xref": "paper",
          "y": 1,
          "yanchor": "bottom",
          "yref": "paper"
         }
        ],
        "height": 800,
        "legend": {
         "font": {
          "size": 12
         }
        },
        "template": {
         "data": {
          "bar": [
           {
            "error_x": {
             "color": "#2a3f5f"
            },
            "error_y": {
             "color": "#2a3f5f"
            },
            "marker": {
             "line": {
              "color": "#E5ECF6",
              "width": 0.5
             },
             "pattern": {
              "fillmode": "overlay",
              "size": 10,
              "solidity": 0.2
             }
            },
            "type": "bar"
           }
          ],
          "barpolar": [
           {
            "marker": {
             "line": {
              "color": "#E5ECF6",
              "width": 0.5
             },
             "pattern": {
              "fillmode": "overlay",
              "size": 10,
              "solidity": 0.2
             }
            },
            "type": "barpolar"
           }
          ],
          "carpet": [
           {
            "aaxis": {
             "endlinecolor": "#2a3f5f",
             "gridcolor": "white",
             "linecolor": "white",
             "minorgridcolor": "white",
             "startlinecolor": "#2a3f5f"
            },
            "baxis": {
             "endlinecolor": "#2a3f5f",
             "gridcolor": "white",
             "linecolor": "white",
             "minorgridcolor": "white",
             "startlinecolor": "#2a3f5f"
            },
            "type": "carpet"
           }
          ],
          "choropleth": [
           {
            "colorbar": {
             "outlinewidth": 0,
             "ticks": ""
            },
            "type": "choropleth"
           }
          ],
          "contour": [
           {
            "colorbar": {
             "outlinewidth": 0,
             "ticks": ""
            },
            "colorscale": [
             [
              0,
              "#0d0887"
             ],
             [
              0.1111111111111111,
              "#46039f"
             ],
             [
              0.2222222222222222,
              "#7201a8"
             ],
             [
              0.3333333333333333,
              "#9c179e"
             ],
             [
              0.4444444444444444,
              "#bd3786"
             ],
             [
              0.5555555555555556,
              "#d8576b"
             ],
             [
              0.6666666666666666,
              "#ed7953"
             ],
             [
              0.7777777777777778,
              "#fb9f3a"
             ],
             [
              0.8888888888888888,
              "#fdca26"
             ],
             [
              1,
              "#f0f921"
             ]
            ],
            "type": "contour"
           }
          ],
          "contourcarpet": [
           {
            "colorbar": {
             "outlinewidth": 0,
             "ticks": ""
            },
            "type": "contourcarpet"
           }
          ],
          "heatmap": [
           {
            "colorbar": {
             "outlinewidth": 0,
             "ticks": ""
            },
            "colorscale": [
             [
              0,
              "#0d0887"
             ],
             [
              0.1111111111111111,
              "#46039f"
             ],
             [
              0.2222222222222222,
              "#7201a8"
             ],
             [
              0.3333333333333333,
              "#9c179e"
             ],
             [
              0.4444444444444444,
              "#bd3786"
             ],
             [
              0.5555555555555556,
              "#d8576b"
             ],
             [
              0.6666666666666666,
              "#ed7953"
             ],
             [
              0.7777777777777778,
              "#fb9f3a"
             ],
             [
              0.8888888888888888,
              "#fdca26"
             ],
             [
              1,
              "#f0f921"
             ]
            ],
            "type": "heatmap"
           }
          ],
          "heatmapgl": [
           {
            "colorbar": {
             "outlinewidth": 0,
             "ticks": ""
            },
            "colorscale": [
             [
              0,
              "#0d0887"
             ],
             [
              0.1111111111111111,
              "#46039f"
             ],
             [
              0.2222222222222222,
              "#7201a8"
             ],
             [
              0.3333333333333333,
              "#9c179e"
             ],
             [
              0.4444444444444444,
              "#bd3786"
             ],
             [
              0.5555555555555556,
              "#d8576b"
             ],
             [
              0.6666666666666666,
              "#ed7953"
             ],
             [
              0.7777777777777778,
              "#fb9f3a"
             ],
             [
              0.8888888888888888,
              "#fdca26"
             ],
             [
              1,
              "#f0f921"
             ]
            ],
            "type": "heatmapgl"
           }
          ],
          "histogram": [
           {
            "marker": {
             "pattern": {
              "fillmode": "overlay",
              "size": 10,
              "solidity": 0.2
             }
            },
            "type": "histogram"
           }
          ],
          "histogram2d": [
           {
            "colorbar": {
             "outlinewidth": 0,
             "ticks": ""
            },
            "colorscale": [
             [
              0,
              "#0d0887"
             ],
             [
              0.1111111111111111,
              "#46039f"
             ],
             [
              0.2222222222222222,
              "#7201a8"
             ],
             [
              0.3333333333333333,
              "#9c179e"
             ],
             [
              0.4444444444444444,
              "#bd3786"
             ],
             [
              0.5555555555555556,
              "#d8576b"
             ],
             [
              0.6666666666666666,
              "#ed7953"
             ],
             [
              0.7777777777777778,
              "#fb9f3a"
             ],
             [
              0.8888888888888888,
              "#fdca26"
             ],
             [
              1,
              "#f0f921"
             ]
            ],
            "type": "histogram2d"
           }
          ],
          "histogram2dcontour": [
           {
            "colorbar": {
             "outlinewidth": 0,
             "ticks": ""
            },
            "colorscale": [
             [
              0,
              "#0d0887"
             ],
             [
              0.1111111111111111,
              "#46039f"
             ],
             [
              0.2222222222222222,
              "#7201a8"
             ],
             [
              0.3333333333333333,
              "#9c179e"
             ],
             [
              0.4444444444444444,
              "#bd3786"
             ],
             [
              0.5555555555555556,
              "#d8576b"
             ],
             [
              0.6666666666666666,
              "#ed7953"
             ],
             [
              0.7777777777777778,
              "#fb9f3a"
             ],
             [
              0.8888888888888888,
              "#fdca26"
             ],
             [
              1,
              "#f0f921"
             ]
            ],
            "type": "histogram2dcontour"
           }
          ],
          "mesh3d": [
           {
            "colorbar": {
             "outlinewidth": 0,
             "ticks": ""
            },
            "type": "mesh3d"
           }
          ],
          "parcoords": [
           {
            "line": {
             "colorbar": {
              "outlinewidth": 0,
              "ticks": ""
             }
            },
            "type": "parcoords"
           }
          ],
          "pie": [
           {
            "automargin": true,
            "type": "pie"
           }
          ],
          "scatter": [
           {
            "fillpattern": {
             "fillmode": "overlay",
             "size": 10,
             "solidity": 0.2
            },
            "type": "scatter"
           }
          ],
          "scatter3d": [
           {
            "line": {
             "colorbar": {
              "outlinewidth": 0,
              "ticks": ""
             }
            },
            "marker": {
             "colorbar": {
              "outlinewidth": 0,
              "ticks": ""
             }
            },
            "type": "scatter3d"
           }
          ],
          "scattercarpet": [
           {
            "marker": {
             "colorbar": {
              "outlinewidth": 0,
              "ticks": ""
             }
            },
            "type": "scattercarpet"
           }
          ],
          "scattergeo": [
           {
            "marker": {
             "colorbar": {
              "outlinewidth": 0,
              "ticks": ""
             }
            },
            "type": "scattergeo"
           }
          ],
          "scattergl": [
           {
            "marker": {
             "colorbar": {
              "outlinewidth": 0,
              "ticks": ""
             }
            },
            "type": "scattergl"
           }
          ],
          "scattermapbox": [
           {
            "marker": {
             "colorbar": {
              "outlinewidth": 0,
              "ticks": ""
             }
            },
            "type": "scattermapbox"
           }
          ],
          "scatterpolar": [
           {
            "marker": {
             "colorbar": {
              "outlinewidth": 0,
              "ticks": ""
             }
            },
            "type": "scatterpolar"
           }
          ],
          "scatterpolargl": [
           {
            "marker": {
             "colorbar": {
              "outlinewidth": 0,
              "ticks": ""
             }
            },
            "type": "scatterpolargl"
           }
          ],
          "scatterternary": [
           {
            "marker": {
             "colorbar": {
              "outlinewidth": 0,
              "ticks": ""
             }
            },
            "type": "scatterternary"
           }
          ],
          "surface": [
           {
            "colorbar": {
             "outlinewidth": 0,
             "ticks": ""
            },
            "colorscale": [
             [
              0,
              "#0d0887"
             ],
             [
              0.1111111111111111,
              "#46039f"
             ],
             [
              0.2222222222222222,
              "#7201a8"
             ],
             [
              0.3333333333333333,
              "#9c179e"
             ],
             [
              0.4444444444444444,
              "#bd3786"
             ],
             [
              0.5555555555555556,
              "#d8576b"
             ],
             [
              0.6666666666666666,
              "#ed7953"
             ],
             [
              0.7777777777777778,
              "#fb9f3a"
             ],
             [
              0.8888888888888888,
              "#fdca26"
             ],
             [
              1,
              "#f0f921"
             ]
            ],
            "type": "surface"
           }
          ],
          "table": [
           {
            "cells": {
             "fill": {
              "color": "#EBF0F8"
             },
             "line": {
              "color": "white"
             }
            },
            "header": {
             "fill": {
              "color": "#C8D4E3"
             },
             "line": {
              "color": "white"
             }
            },
            "type": "table"
           }
          ]
         },
         "layout": {
          "annotationdefaults": {
           "arrowcolor": "#2a3f5f",
           "arrowhead": 0,
           "arrowwidth": 1
          },
          "autotypenumbers": "strict",
          "coloraxis": {
           "colorbar": {
            "outlinewidth": 0,
            "ticks": ""
           }
          },
          "colorscale": {
           "diverging": [
            [
             0,
             "#8e0152"
            ],
            [
             0.1,
             "#c51b7d"
            ],
            [
             0.2,
             "#de77ae"
            ],
            [
             0.3,
             "#f1b6da"
            ],
            [
             0.4,
             "#fde0ef"
            ],
            [
             0.5,
             "#f7f7f7"
            ],
            [
             0.6,
             "#e6f5d0"
            ],
            [
             0.7,
             "#b8e186"
            ],
            [
             0.8,
             "#7fbc41"
            ],
            [
             0.9,
             "#4d9221"
            ],
            [
             1,
             "#276419"
            ]
           ],
           "sequential": [
            [
             0,
             "#0d0887"
            ],
            [
             0.1111111111111111,
             "#46039f"
            ],
            [
             0.2222222222222222,
             "#7201a8"
            ],
            [
             0.3333333333333333,
             "#9c179e"
            ],
            [
             0.4444444444444444,
             "#bd3786"
            ],
            [
             0.5555555555555556,
             "#d8576b"
            ],
            [
             0.6666666666666666,
             "#ed7953"
            ],
            [
             0.7777777777777778,
             "#fb9f3a"
            ],
            [
             0.8888888888888888,
             "#fdca26"
            ],
            [
             1,
             "#f0f921"
            ]
           ],
           "sequentialminus": [
            [
             0,
             "#0d0887"
            ],
            [
             0.1111111111111111,
             "#46039f"
            ],
            [
             0.2222222222222222,
             "#7201a8"
            ],
            [
             0.3333333333333333,
             "#9c179e"
            ],
            [
             0.4444444444444444,
             "#bd3786"
            ],
            [
             0.5555555555555556,
             "#d8576b"
            ],
            [
             0.6666666666666666,
             "#ed7953"
            ],
            [
             0.7777777777777778,
             "#fb9f3a"
            ],
            [
             0.8888888888888888,
             "#fdca26"
            ],
            [
             1,
             "#f0f921"
            ]
           ]
          },
          "colorway": [
           "#636efa",
           "#EF553B",
           "#00cc96",
           "#ab63fa",
           "#FFA15A",
           "#19d3f3",
           "#FF6692",
           "#B6E880",
           "#FF97FF",
           "#FECB52"
          ],
          "font": {
           "color": "#2a3f5f"
          },
          "geo": {
           "bgcolor": "white",
           "lakecolor": "white",
           "landcolor": "#E5ECF6",
           "showlakes": true,
           "showland": true,
           "subunitcolor": "white"
          },
          "hoverlabel": {
           "align": "left"
          },
          "hovermode": "closest",
          "mapbox": {
           "style": "light"
          },
          "paper_bgcolor": "white",
          "plot_bgcolor": "#E5ECF6",
          "polar": {
           "angularaxis": {
            "gridcolor": "white",
            "linecolor": "white",
            "ticks": ""
           },
           "bgcolor": "#E5ECF6",
           "radialaxis": {
            "gridcolor": "white",
            "linecolor": "white",
            "ticks": ""
           }
          },
          "scene": {
           "xaxis": {
            "backgroundcolor": "#E5ECF6",
            "gridcolor": "white",
            "gridwidth": 2,
            "linecolor": "white",
            "showbackground": true,
            "ticks": "",
            "zerolinecolor": "white"
           },
           "yaxis": {
            "backgroundcolor": "#E5ECF6",
            "gridcolor": "white",
            "gridwidth": 2,
            "linecolor": "white",
            "showbackground": true,
            "ticks": "",
            "zerolinecolor": "white"
           },
           "zaxis": {
            "backgroundcolor": "#E5ECF6",
            "gridcolor": "white",
            "gridwidth": 2,
            "linecolor": "white",
            "showbackground": true,
            "ticks": "",
            "zerolinecolor": "white"
           }
          },
          "shapedefaults": {
           "line": {
            "color": "#2a3f5f"
           }
          },
          "ternary": {
           "aaxis": {
            "gridcolor": "white",
            "linecolor": "white",
            "ticks": ""
           },
           "baxis": {
            "gridcolor": "white",
            "linecolor": "white",
            "ticks": ""
           },
           "bgcolor": "#E5ECF6",
           "caxis": {
            "gridcolor": "white",
            "linecolor": "white",
            "ticks": ""
           }
          },
          "title": {
           "x": 0.05
          },
          "xaxis": {
           "automargin": true,
           "gridcolor": "white",
           "linecolor": "white",
           "ticks": "",
           "title": {
            "standoff": 15
           },
           "zerolinecolor": "white",
           "zerolinewidth": 2
          },
          "yaxis": {
           "automargin": true,
           "gridcolor": "white",
           "linecolor": "white",
           "ticks": "",
           "title": {
            "standoff": 15
           },
           "zerolinecolor": "white",
           "zerolinewidth": 2
          }
         }
        },
        "title": {
         "text": "Percentage of Influencer Categories"
        },
        "uniformtext": {
         "minsize": 10,
         "mode": "hide"
        },
        "width": 630
       }
      },
      "image/png": "[encoded data removed]",
      "text/html": [
       "<div>                            <div id=\"c29ab7bd-9132-47d2-bfbe-15273bff5b2d\" class=\"plotly-graph-div\" style=\"height:800px; width:630px;\"></div>            <script type=\"text/javascript\">                require([\"plotly\"], function(Plotly) {                    window.PLOTLYENV=window.PLOTLYENV || {};                                    if (document.getElementById(\"c29ab7bd-9132-47d2-bfbe-15273bff5b2d\")) {                    Plotly.newPlot(                        \"c29ab7bd-9132-47d2-bfbe-15273bff5b2d\",                        [{\"labels\":[0,\"Modeling\",\"Fashion\",\"Beauty\",\"Family\",\"Lifestyle\",\"Cinema & Actors/actresses\",\"Music\",\"Art/Artists\",\"Shows\",\"Humor & Fun & Happiness\",\"Business & Careers\",\"Adult content\",\"Clothing & Outfits\",\"Machinery & Technologies\",\"Photography\",\"Sports with a ball\",\"Luxury\",\"Kids & Toys\",\"Trainers & Coaches\",\"Fitness & Gym\",\"Computers & Gadgets\",\"Comics & sketches\",\"Cars & Motorbikes\",\"Finance & Economics\",\"Shopping & Retail\",\"Literature & Journalism\",\"Science\"],\"name\":\"Secondary Categories\",\"scalegroup\":\"one\",\"values\":[713,59,55,30,18,17,16,15,12,10,10,6,6,6,5,5,3,2,2,2,1,1,1,1,1,1,1,1],\"type\":\"pie\",\"domain\":{\"x\":[0.0,1.0],\"y\":[0.0,1.0]},\"textposition\":\"inside\"}],                        {\"template\":{\"data\":{\"histogram2dcontour\":[{\"type\":\"histogram2dcontour\",\"colorbar\":{\"outlinewidth\":0,\"ticks\":\"\"},\"colorscale\":[[0.0,\"#0d0887\"],[0.1111111111111111,\"#46039f\"],[0.2222222222222222,\"#7201a8\"],[0.3333333333333333,\"#9c179e\"],[0.4444444444444444,\"#bd3786\"],[0.5555555555555556,\"#d8576b\"],[0.6666666666666666,\"#ed7953\"],[0.7777777777777778,\"#fb9f3a\"],[0.8888888888888888,\"#fdca26\"],[1.0,\"#f0f921\"]]}],\"choropleth\":[{\"type\":\"choropleth\",\"colorbar\":{\"outlinewidth\":0,\"ticks\":\"\"}}],\"histogram2d\":[{\"type\":\"histogram2d\",\"colorbar\":{\"outlinewidth\":0,\"ticks\":\"\"},\"colorscale\":[[0.0,\"#0d0887\"],[0.1111111111111111,\"#46039f\"],[0.2222222222222222,\"#7201a8\"],[0.3333333333333333,\"#9c179e\"],[0.4444444444444444,\"#bd3786\"],[0.5555555555555556,\"#d8576b\"],[0.6666666666666666,\"#ed7953\"],[0.7777777777777778,\"#fb9f3a\"],[0.8888888888888888,\"#fdca26\"],[1.0,\"#f0f921\"]]}],\"heatmap\":[{\"type\":\"heatmap\",\"colorbar\":{\"outlinewidth\":0,\"ticks\":\"\"},\"colorscale\":[[0.0,\"#0d0887\"],[0.1111111111111111,\"#46039f\"],[0.2222222222222222,\"#7201a8\"],[0.3333333333333333,\"#9c179e\"],[0.4444444444444444,\"#bd3786\"],[0.5555555555555556,\"#d8576b\"],[0.6666666666666666,\"#ed7953\"],[0.7777777777777778,\"#fb9f3a\"],[0.8888888888888888,\"#fdca26\"],[1.0,\"#f0f921\"]]}],\"heatmapgl\":[{\"type\":\"heatmapgl\",\"colorbar\":{\"outlinewidth\":0,\"ticks\":\"\"},\"colorscale\":[[0.0,\"#0d0887\"],[0.1111111111111111,\"#46039f\"],[0.2222222222222222,\"#7201a8\"],[0.3333333333333333,\"#9c179e\"],[0.4444444444444444,\"#bd3786\"],[0.5555555555555556,\"#d8576b\"],[0.6666666666666666,\"#ed7953\"],[0.7777777777777778,\"#fb9f3a\"],[0.8888888888888888,\"#fdca26\"],[1.0,\"#f0f921\"]]}],\"contourcarpet\":[{\"type\":\"contourcarpet\",\"colorbar\":{\"outlinewidth\":0,\"ticks\":\"\"}}],\"contour\":[{\"type\":\"contour\",\"colorbar\":{\"outlinewidth\":0,\"ticks\":\"\"},\"colorscale\":[[0.0,\"#0d0887\"],[0.1111111111111111,\"#46039f\"],[0.2222222222222222,\"#7201a8\"],[0.3333333333333333,\"#9c179e\"],[0.4444444444444444,\"#bd3786\"],[0.5555555555555556,\"#d8576b\"],[0.6666666666666666,\"#ed7953\"],[0.7777777777777778,\"#fb9f3a\"],[0.8888888888888888,\"#fdca26\"],[1.0,\"#f0f921\"]]}],\"surface\":[{\"type\":\"surface\",\"colorbar\":{\"outlinewidth\":0,\"ticks\":\"\"},\"colorscale\":[[0.0,\"#0d0887\"],[0.1111111111111111,\"#46039f\"],[0.2222222222222222,\"#7201a8\"],[0.3333333333333333,\"#9c179e\"],[0.4444444444444444,\"#bd3786\"],[0.5555555555555556,\"#d8576b\"],[0.6666666666666666,\"#ed7953\"],[0.7777777777777778,\"#fb9f3a\"],[0.8888888888888888,\"#fdca26\"],[1.0,\"#f0f921\"]]}],\"mesh3d\":[{\"type\":\"mesh3d\",\"colorbar\":{\"outlinewidth\":0,\"ticks\":\"\"}}],\"scatter\":[{\"fillpattern\":{\"fillmode\":\"overlay\",\"size\":10,\"solidity\":0.2},\"type\":\"scatter\"}],\"parcoords\":[{\"type\":\"parcoords\",\"line\":{\"colorbar\":{\"outlinewidth\":0,\"ticks\":\"\"}}}],\"scatterpolargl\":[{\"type\":\"scatterpolargl\",\"marker\":{\"colorbar\":{\"outlinewidth\":0,\"ticks\":\"\"}}}],\"bar\":[{\"error_x\":{\"color\":\"#2a3f5f\"},\"error_y\":{\"color\":\"#2a3f5f\"},\"marker\":{\"line\":{\"color\":\"#E5ECF6\",\"width\":0.5},\"pattern\":{\"fillmode\":\"overlay\",\"size\":10,\"solidity\":0.2}},\"type\":\"bar\"}],\"scattergeo\":[{\"type\":\"scattergeo\",\"marker\":{\"colorbar\":{\"outlinewidth\":0,\"ticks\":\"\"}}}],\"scatterpolar\":[{\"type\":\"scatterpolar\",\"marker\":{\"colorbar\":{\"outlinewidth\":0,\"ticks\":\"\"}}}],\"histogram\":[{\"marker\":{\"pattern\":{\"fillmode\":\"overlay\",\"size\":10,\"solidity\":0.2}},\"type\":\"histogram\"}],\"scattergl\":[{\"type\":\"scattergl\",\"marker\":{\"colorbar\":{\"outlinewidth\":0,\"ticks\":\"\"}}}],\"scatter3d\":[{\"type\":\"scatter3d\",\"line\":{\"colorbar\":{\"outlinewidth\":0,\"ticks\":\"\"}},\"marker\":{\"colorbar\":{\"outlinewidth\":0,\"ticks\":\"\"}}}],\"scattermapbox\":[{\"type\":\"scattermapbox\",\"marker\":{\"colorbar\":{\"outlinewidth\":0,\"ticks\":\"\"}}}],\"scatterternary\":[{\"type\":\"scatterternary\",\"marker\":{\"colorbar\":{\"outlinewidth\":0,\"ticks\":\"\"}}}],\"scattercarpet\":[{\"type\":\"scattercarpet\",\"marker\":{\"colorbar\":{\"outlinewidth\":0,\"ticks\":\"\"}}}],\"carpet\":[{\"aaxis\":{\"endlinecolor\":\"#2a3f5f\",\"gridcolor\":\"white\",\"linecolor\":\"white\",\"minorgridcolor\":\"white\",\"startlinecolor\":\"#2a3f5f\"},\"baxis\":{\"endlinecolor\":\"#2a3f5f\",\"gridcolor\":\"white\",\"linecolor\":\"white\",\"minorgridcolor\":\"white\",\"startlinecolor\":\"#2a3f5f\"},\"type\":\"carpet\"}],\"table\":[{\"cells\":{\"fill\":{\"color\":\"#EBF0F8\"},\"line\":{\"color\":\"white\"}},\"header\":{\"fill\":{\"color\":\"#C8D4E3\"},\"line\":{\"color\":\"white\"}},\"type\":\"table\"}],\"barpolar\":[{\"marker\":{\"line\":{\"color\":\"#E5ECF6\",\"width\":0.5},\"pattern\":{\"fillmode\":\"overlay\",\"size\":10,\"solidity\":0.2}},\"type\":\"barpolar\"}],\"pie\":[{\"automargin\":true,\"type\":\"pie\"}]},\"layout\":{\"autotypenumbers\":\"strict\",\"colorway\":[\"#636efa\",\"#EF553B\",\"#00cc96\",\"#ab63fa\",\"#FFA15A\",\"#19d3f3\",\"#FF6692\",\"#B6E880\",\"#FF97FF\",\"#FECB52\"],\"font\":{\"color\":\"#2a3f5f\"},\"hovermode\":\"closest\",\"hoverlabel\":{\"align\":\"left\"},\"paper_bgcolor\":\"white\",\"plot_bgcolor\":\"#E5ECF6\",\"polar\":{\"bgcolor\":\"#E5ECF6\",\"angularaxis\":{\"gridcolor\":\"white\",\"linecolor\":\"white\",\"ticks\":\"\"},\"radialaxis\":{\"gridcolor\":\"white\",\"linecolor\":\"white\",\"ticks\":\"\"}},\"ternary\":{\"bgcolor\":\"#E5ECF6\",\"aaxis\":{\"gridcolor\":\"white\",\"linecolor\":\"white\",\"ticks\":\"\"},\"baxis\":{\"gridcolor\":\"white\",\"linecolor\":\"white\",\"ticks\":\"\"},\"caxis\":{\"gridcolor\":\"white\",\"linecolor\":\"white\",\"ticks\":\"\"}},\"coloraxis\":{\"colorbar\":{\"outlinewidth\":0,\"ticks\":\"\"}},\"colorscale\":{\"sequential\":[[0.0,\"#0d0887\"],[0.1111111111111111,\"#46039f\"],[0.2222222222222222,\"#7201a8\"],[0.3333333333333333,\"#9c179e\"],[0.4444444444444444,\"#bd3786\"],[0.5555555555555556,\"#d8576b\"],[0.6666666666666666,\"#ed7953\"],[0.7777777777777778,\"#fb9f3a\"],[0.8888888888888888,\"#fdca26\"],[1.0,\"#f0f921\"]],\"sequentialminus\":[[0.0,\"#0d0887\"],[0.1111111111111111,\"#46039f\"],[0.2222222222222222,\"#7201a8\"],[0.3333333333333333,\"#9c179e\"],[0.4444444444444444,\"#bd3786\"],[0.5555555555555556,\"#d8576b\"],[0.6666666666666666,\"#ed7953\"],[0.7777777777777778,\"#fb9f3a\"],[0.8888888888888888,\"#fdca26\"],[1.0,\"#f0f921\"]],\"diverging\":[[0,\"#8e0152\"],[0.1,\"#c51b7d\"],[0.2,\"#de77ae\"],[0.3,\"#f1b6da\"],[0.4,\"#fde0ef\"],[0.5,\"#f7f7f7\"],[0.6,\"#e6f5d0\"],[0.7,\"#b8e186\"],[0.8,\"#7fbc41\"],[0.9,\"#4d9221\"],[1,\"#276419\"]]},\"xaxis\":{\"gridcolor\":\"white\",\"linecolor\":\"white\",\"ticks\":\"\",\"title\":{\"standoff\":15},\"zerolinecolor\":\"white\",\"automargin\":true,\"zerolinewidth\":2},\"yaxis\":{\"gridcolor\":\"white\",\"linecolor\":\"white\",\"ticks\":\"\",\"title\":{\"standoff\":15},\"zerolinecolor\":\"white\",\"automargin\":true,\"zerolinewidth\":2},\"scene\":{\"xaxis\":{\"backgroundcolor\":\"#E5ECF6\",\"gridcolor\":\"white\",\"linecolor\":\"white\",\"showbackground\":true,\"ticks\":\"\",\"zerolinecolor\":\"white\",\"gridwidth\":2},\"yaxis\":{\"backgroundcolor\":\"#E5ECF6\",\"gridcolor\":\"white\",\"linecolor\":\"white\",\"showbackground\":true,\"ticks\":\"\",\"zerolinecolor\":\"white\",\"gridwidth\":2},\"zaxis\":{\"backgroundcolor\":\"#E5ECF6\",\"gridcolor\":\"white\",\"linecolor\":\"white\",\"showbackground\":true,\"ticks\":\"\",\"zerolinecolor\":\"white\",\"gridwidth\":2}},\"shapedefaults\":{\"line\":{\"color\":\"#2a3f5f\"}},\"annotationdefaults\":{\"arrowcolor\":\"#2a3f5f\",\"arrowhead\":0,\"arrowwidth\":1},\"geo\":{\"bgcolor\":\"white\",\"landcolor\":\"#E5ECF6\",\"subunitcolor\":\"white\",\"showland\":true,\"showlakes\":true,\"lakecolor\":\"white\"},\"title\":{\"x\":0.05},\"mapbox\":{\"style\":\"light\"}}},\"annotations\":[{\"font\":{\"size\":16},\"showarrow\":false,\"text\":\"Cat2\",\"x\":0.5,\"xanchor\":\"center\",\"xref\":\"paper\",\"y\":1.0,\"yanchor\":\"bottom\",\"yref\":\"paper\"}],\"title\":{\"text\":\"Percentage of Influencer Categories\"},\"uniformtext\":{\"minsize\":10,\"mode\":\"hide\"},\"legend\":{\"font\":{\"size\":12}},\"height\":800,\"width\":630},                        {\"responsive\": true}                    ).then(function(){\n",
       "                            \n",
       "var gd = document.getElementById('c29ab7bd-9132-47d2-bfbe-15273bff5b2d');\n",
       "var x = new MutationObserver(function (mutations, observer) {{\n",
       "        var display = window.getComputedStyle(gd).display;\n",
       "        if (!display || display === 'none') {{\n",
       "            console.log([gd, 'removed!']);\n",
       "            Plotly.purge(gd);\n",
       "            observer.disconnect();\n",
       "        }}\n",
       "}});\n",
       "\n",
       "// Listen for the removal of the full notebook cells\n",
       "var notebookContainer = gd.closest('#notebook-container');\n",
       "if (notebookContainer) {{\n",
       "    x.observe(notebookContainer, {childList: true});\n",
       "}}\n",
       "\n",
       "// Listen for the clearing of the current output cell\n",
       "var outputEl = gd.closest('.output');\n",
       "if (outputEl) {{\n",
       "    x.observe(outputEl, {childList: true});\n",
       "}}\n",
       "\n",
       "                        })                };                });            </script>        </div>"
      ]
     },
     "metadata": {},
     "output_type": "display_data"
    }
   ],
   "source": [
    "fig2 = make_subplots(1, 1, specs=[[{'type':'domain'}]],\n",
    "                    subplot_titles=['Cat2'])\n",
    "fig2.add_trace(go.Pie(labels=labels2, values=valuecat2, scalegroup='one',\n",
    "                     name=\"Secondary Categories\"), 1, 1)\n",
    "\n",
    "fig2.update_layout(title_text='Percentage of Influencer Categories')\n",
    "fig2.update_traces(textposition='inside')\n",
    "fig2.update_layout(\n",
    "    height=800,\n",
    "    width=630,\n",
    "    uniformtext_minsize=10, uniformtext_mode='hide',\n",
    "    legend=dict(font=dict(size=12)))\n",
    "\n",
    "fig2.show()"
   ]
  },
  {
   "cell_type": "markdown",
   "id": "2f6fc5a2-075f-4db5-bc46-befe1a702b21",
   "metadata": {
    "extensions": {
     "jupyter_dashboards": {
      "activeView": "grid_default",
      "views": {
       "grid_default": {
        "col": null,
        "height": 2,
        "hidden": true,
        "locked": true,
        "row": null,
        "width": 2
       }
      }
     }
    }
   },
   "source": [
    "# YouTube"
   ]
  },
  {
   "cell_type": "markdown",
   "id": "903578bd-704c-448f-bc77-6a10b2aed51d",
   "metadata": {
    "extensions": {
     "jupyter_dashboards": {
      "activeView": "grid_default",
      "views": {
       "grid_default": {
        "col": null,
        "height": 2,
        "hidden": true,
        "locked": true,
        "row": null,
        "width": 2
       }
      }
     }
    }
   },
   "source": [
    "## Top 10 YouTuber Accounts by Number of Subscribers"
   ]
  },
  {
   "cell_type": "code",
   "execution_count": 88,
   "id": "147247ba-5c15-4a7f-be6b-36324b57cf4c",
   "metadata": {
    "extensions": {
     "jupyter_dashboards": {
      "activeView": "grid_default",
      "views": {
       "grid_default": {
        "col": null,
        "height": 2,
        "hidden": true,
        "locked": true,
        "row": null,
        "width": 2
       }
      }
     }
    }
   },
   "outputs": [
    {
     "data": {
      "text/html": [
       "<div>\n",
       "<style scoped>\n",
       "    .dataframe tbody tr th:only-of-type {\n",
       "        vertical-align: middle;\n",
       "    }\n",
       "\n",
       "    .dataframe tbody tr th {\n",
       "        vertical-align: top;\n",
       "    }\n",
       "\n",
       "    .dataframe thead th {\n",
       "        text-align: right;\n",
       "    }\n",
       "</style>\n",
       "<table border=\"1\" class=\"dataframe\">\n",
       "  <thead>\n",
       "    <tr style=\"text-align: right;\">\n",
       "      <th></th>\n",
       "      <th>youtuber name</th>\n",
       "      <th>channel name</th>\n",
       "      <th>Category</th>\n",
       "      <th>Subscribers</th>\n",
       "      <th>Audience Country</th>\n",
       "      <th>avg views</th>\n",
       "      <th>avg likes</th>\n",
       "      <th>avg comments</th>\n",
       "    </tr>\n",
       "  </thead>\n",
       "  <tbody>\n",
       "    <tr>\n",
       "      <th>0</th>\n",
       "      <td>tseries</td>\n",
       "      <td>T-Series</td>\n",
       "      <td>Music &amp; Dance</td>\n",
       "      <td>212.1M</td>\n",
       "      <td>India</td>\n",
       "      <td>323.7K</td>\n",
       "      <td>9.8K</td>\n",
       "      <td>290</td>\n",
       "    </tr>\n",
       "    <tr>\n",
       "      <th>1</th>\n",
       "      <td>checkgate</td>\n",
       "      <td>Cocomelon - Nursery Rhymes</td>\n",
       "      <td>Education</td>\n",
       "      <td>132.1M</td>\n",
       "      <td>NaN</td>\n",
       "      <td>13.8M</td>\n",
       "      <td>80.9K</td>\n",
       "      <td>NaN</td>\n",
       "    </tr>\n",
       "    <tr>\n",
       "      <th>2</th>\n",
       "      <td>setindia</td>\n",
       "      <td>SET India</td>\n",
       "      <td>NaN</td>\n",
       "      <td>130.4M</td>\n",
       "      <td>India</td>\n",
       "      <td>23.6K</td>\n",
       "      <td>314</td>\n",
       "      <td>21</td>\n",
       "    </tr>\n",
       "    <tr>\n",
       "      <th>3</th>\n",
       "      <td>PewDiePie</td>\n",
       "      <td>PewDiePie</td>\n",
       "      <td>Animation</td>\n",
       "      <td>111.4M</td>\n",
       "      <td>United States</td>\n",
       "      <td>1.4M</td>\n",
       "      <td>80.8K</td>\n",
       "      <td>4.6K</td>\n",
       "    </tr>\n",
       "    <tr>\n",
       "      <th>4</th>\n",
       "      <td>MrBeast6000</td>\n",
       "      <td>MrBeast</td>\n",
       "      <td>Video games</td>\n",
       "      <td>92.5M</td>\n",
       "      <td>United States</td>\n",
       "      <td>30.6M</td>\n",
       "      <td>1.7M</td>\n",
       "      <td>67.7K</td>\n",
       "    </tr>\n",
       "    <tr>\n",
       "      <th>...</th>\n",
       "      <td>...</td>\n",
       "      <td>...</td>\n",
       "      <td>...</td>\n",
       "      <td>...</td>\n",
       "      <td>...</td>\n",
       "      <td>...</td>\n",
       "      <td>...</td>\n",
       "      <td>...</td>\n",
       "    </tr>\n",
       "    <tr>\n",
       "      <th>995</th>\n",
       "      <td>FutParódias</td>\n",
       "      <td>FutParódias</td>\n",
       "      <td>Music &amp; Dance</td>\n",
       "      <td>9.2M</td>\n",
       "      <td>Brazil</td>\n",
       "      <td>1.4M</td>\n",
       "      <td>110.1K</td>\n",
       "      <td>2.5K</td>\n",
       "    </tr>\n",
       "    <tr>\n",
       "      <th>996</th>\n",
       "      <td>EL GATO</td>\n",
       "      <td>EL GATO</td>\n",
       "      <td>Toys</td>\n",
       "      <td>9.2M</td>\n",
       "      <td>Brazil</td>\n",
       "      <td>243.8K</td>\n",
       "      <td>30.7K</td>\n",
       "      <td>636</td>\n",
       "    </tr>\n",
       "    <tr>\n",
       "      <th>997</th>\n",
       "      <td>CinemaSins</td>\n",
       "      <td>CinemaSins</td>\n",
       "      <td>Movies</td>\n",
       "      <td>9.2M</td>\n",
       "      <td>United States</td>\n",
       "      <td>296K</td>\n",
       "      <td>10.2K</td>\n",
       "      <td>874</td>\n",
       "    </tr>\n",
       "    <tr>\n",
       "      <th>998</th>\n",
       "      <td>CricketICC</td>\n",
       "      <td>ICC</td>\n",
       "      <td>Sports</td>\n",
       "      <td>9.2M</td>\n",
       "      <td>India</td>\n",
       "      <td>15.2K</td>\n",
       "      <td>854</td>\n",
       "      <td>58</td>\n",
       "    </tr>\n",
       "    <tr>\n",
       "      <th>999</th>\n",
       "      <td>BRKsEDU</td>\n",
       "      <td>BRKsEDU</td>\n",
       "      <td>Animation</td>\n",
       "      <td>9.2M</td>\n",
       "      <td>Brazil</td>\n",
       "      <td>112.3K</td>\n",
       "      <td>9.8K</td>\n",
       "      <td>246</td>\n",
       "    </tr>\n",
       "  </tbody>\n",
       "</table>\n",
       "<p>1000 rows × 8 columns</p>\n",
       "</div>"
      ],
      "text/plain": [
       "    youtuber name                channel name       Category Subscribers  \\\n",
       "0         tseries                    T-Series  Music & Dance      212.1M   \n",
       "1       checkgate  Cocomelon - Nursery Rhymes      Education      132.1M   \n",
       "2        setindia                   SET India            NaN      130.4M   \n",
       "3       PewDiePie                   PewDiePie      Animation      111.4M   \n",
       "4     MrBeast6000                     MrBeast    Video games       92.5M   \n",
       "..            ...                         ...            ...         ...   \n",
       "995   FutParódias                 FutParódias  Music & Dance        9.2M   \n",
       "996       EL GATO                     EL GATO           Toys        9.2M   \n",
       "997    CinemaSins                  CinemaSins         Movies        9.2M   \n",
       "998    CricketICC                         ICC         Sports        9.2M   \n",
       "999       BRKsEDU                     BRKsEDU      Animation        9.2M   \n",
       "\n",
       "    Audience Country avg views avg likes avg comments  \n",
       "0              India    323.7K      9.8K          290  \n",
       "1                NaN     13.8M     80.9K          NaN  \n",
       "2              India     23.6K       314           21  \n",
       "3      United States      1.4M     80.8K         4.6K  \n",
       "4      United States     30.6M      1.7M        67.7K  \n",
       "..               ...       ...       ...          ...  \n",
       "995           Brazil      1.4M    110.1K         2.5K  \n",
       "996           Brazil    243.8K     30.7K          636  \n",
       "997    United States      296K     10.2K          874  \n",
       "998            India     15.2K       854           58  \n",
       "999           Brazil    112.3K      9.8K          246  \n",
       "\n",
       "[1000 rows x 8 columns]"
      ]
     },
     "execution_count": 88,
     "metadata": {},
     "output_type": "execute_result"
    }
   ],
   "source": [
    "df_youtube"
   ]
  },
  {
   "cell_type": "code",
   "execution_count": 101,
   "id": "d5ba267b-9101-445a-b6c6-f8b8b2dd70be",
   "metadata": {},
   "outputs": [
    {
     "name": "stdout",
     "output_type": "stream",
     "text": [
      "<class 'pandas.core.series.Series'>\n",
      "RangeIndex: 1000 entries, 0 to 999\n",
      "Series name: Subscribers\n",
      "Non-Null Count  Dtype  \n",
      "--------------  -----  \n",
      "1000 non-null   float64\n",
      "dtypes: float64(1)\n",
      "memory usage: 7.9 KB\n"
     ]
    }
   ],
   "source": [
    "df_youtube.Subscribers.info()"
   ]
  },
  {
   "cell_type": "code",
   "execution_count": 104,
   "id": "3fa47319-7531-497f-98db-1b7c59d1fa8d",
   "metadata": {},
   "outputs": [],
   "source": [
    "df_youtube['Subscribers'] = df_youtube.Subscribers.astype(str)"
   ]
  },
  {
   "cell_type": "code",
   "execution_count": 105,
   "id": "1a7ebff8-9ab7-4922-b7f4-adfe5ceeb1a9",
   "metadata": {
    "extensions": {
     "jupyter_dashboards": {
      "activeView": "grid_default",
      "views": {
       "grid_default": {
        "col": null,
        "height": 2,
        "hidden": true,
        "locked": true,
        "row": null,
        "width": 2
       }
      }
     }
    }
   },
   "outputs": [],
   "source": [
    "df_youtube.Subscribers = (df_youtube.Subscribers.replace(r'[KM]+$', '', regex=True).astype(float) * df_youtube.Subscribers.str.extract(r'[\\d\\.]+([KM]+)', expand=False).fillna(1).replace(['K','M'], [10**3, 10**6]).astype(int)) "
   ]
  },
  {
   "cell_type": "code",
   "execution_count": 107,
   "id": "3e6bafa2-bcaf-46d5-ad07-f39e4f7c78ca",
   "metadata": {},
   "outputs": [
    {
     "data": {
      "image/png": "[encoded data removed]",
      "text/plain": [
       "<Figure size 432x288 with 1 Axes>"
      ]
     },
     "metadata": {
      "needs_background": "light"
     },
     "output_type": "display_data"
    }
   ],
   "source": [
    "chart = sns.barplot(x=\"youtuber name\", y=\"Subscribers\", data=df_youtube.head(20));\n",
    "chart.set_xticklabels(chart.get_xticklabels(), rotation=90);"
   ]
  },
  {
   "cell_type": "markdown",
   "id": "76704722-5587-443b-887f-42438e0ecdb1",
   "metadata": {
    "extensions": {
     "jupyter_dashboards": {
      "activeView": "grid_default",
      "views": {
       "grid_default": {
        "col": null,
        "height": 2,
        "hidden": true,
        "locked": true,
        "row": null,
        "width": 2
       }
      }
     }
    }
   },
   "source": [
    "## Number of Subscribers Per Country"
   ]
  },
  {
   "cell_type": "code",
   "execution_count": null,
   "id": "e08d8578-f262-4bd3-8c83-48ccf73fa607",
   "metadata": {
    "extensions": {
     "jupyter_dashboards": {
      "activeView": "grid_default",
      "views": {
       "grid_default": {
        "col": null,
        "height": 2,
        "hidden": true,
        "locked": true,
        "row": null,
        "width": 2
       }
      }
     }
    }
   },
   "outputs": [],
   "source": [
    "chart = sns.barplot(x=\"Audience Country\", y=\"Subscribers\", data=df_youtube);\n",
    "chart.set_xticklabels(chart.get_xticklabels(), rotation=45);"
   ]
  },
  {
   "cell_type": "markdown",
   "id": "bf50b50b-9945-4796-aec0-05fdb3d2b2a7",
   "metadata": {
    "extensions": {
     "jupyter_dashboards": {
      "activeView": "grid_default",
      "views": {
       "grid_default": {
        "col": null,
        "height": 2,
        "hidden": true,
        "locked": true,
        "row": null,
        "width": 2
       }
      }
     }
    }
   },
   "source": [
    "## Audience Number by Country"
   ]
  },
  {
   "cell_type": "code",
   "execution_count": null,
   "id": "3f2a3cb4-0d63-4a38-8629-c98515e2090a",
   "metadata": {
    "extensions": {
     "jupyter_dashboards": {
      "activeView": "grid_default",
      "views": {
       "grid_default": {
        "col": null,
        "height": 2,
        "hidden": true,
        "locked": true,
        "row": null,
        "width": 2
       }
      }
     }
    }
   },
   "outputs": [],
   "source": [
    "chart = sns.countplot(x=\"Audience Country\", data=df_youtube);\n",
    "chart.set_xticklabels(chart.get_xticklabels(), rotation=45);"
   ]
  },
  {
   "cell_type": "markdown",
   "id": "1593eb74-2442-4332-aa8a-07c907ba730d",
   "metadata": {
    "extensions": {
     "jupyter_dashboards": {
      "activeView": "grid_default",
      "views": {
       "grid_default": {
        "col": null,
        "height": 2,
        "hidden": true,
        "locked": true,
        "row": null,
        "width": 2
       }
      }
     }
    }
   },
   "source": [
    "# TikTok"
   ]
  },
  {
   "cell_type": "markdown",
   "id": "8a41d252-b0f1-4647-905d-f3e6ad9c3b38",
   "metadata": {
    "extensions": {
     "jupyter_dashboards": {
      "activeView": "grid_default",
      "views": {
       "grid_default": {
        "col": null,
        "height": 2,
        "hidden": true,
        "locked": true,
        "row": null,
        "width": 2
       }
      }
     }
    },
    "tags": []
   },
   "source": [
    "## Top 10 TikTok Accounts by Number of Subscribers"
   ]
  },
  {
   "cell_type": "code",
   "execution_count": null,
   "id": "6006e438-3a99-4382-9671-774b619b13e6",
   "metadata": {
    "extensions": {
     "jupyter_dashboards": {
      "activeView": "grid_default",
      "views": {
       "grid_default": {
        "col": null,
        "height": 2,
        "hidden": true,
        "locked": true,
        "row": null,
        "width": 2
       }
      }
     }
    }
   },
   "outputs": [],
   "source": [
    "df_tiktok.head()"
   ]
  },
  {
   "cell_type": "code",
   "execution_count": null,
   "id": "93fe4702-344b-4e7f-b72e-fd51c2da41bc",
   "metadata": {
    "extensions": {
     "jupyter_dashboards": {
      "activeView": "grid_default",
      "views": {
       "grid_default": {
        "col": null,
        "height": 2,
        "hidden": true,
        "locked": true,
        "row": null,
        "width": 2
       }
      }
     }
    }
   },
   "outputs": [],
   "source": [
    "df_tiktok['Subscribers count'] = (df_tiktok['Subscribers count'].replace(r'[KM]+$', '', regex=True).astype(float) * df_tiktok['Subscribers count'].str.extract(r'[\\d\\.]+([KM]+)', expand=False).fillna(1).replace(['K','M'], [10**3, 10**6]).astype(int))\n",
    "\n",
    "df_tiktok = df_tiktok.sort_values(by=['Subscribers count'], ascending=False);\n",
    "chart = sns.barplot(x=\"Tiktok name\", y=\"Subscribers count\", data=df_tiktok.head(20));\n",
    "chart.set_xticklabels(chart.get_xticklabels(), rotation=45);"
   ]
  },
  {
   "cell_type": "code",
   "execution_count": null,
   "id": "1903df01-cee1-4635-93b1-1435e26a69e1",
   "metadata": {
    "extensions": {
     "jupyter_dashboards": {
      "activeView": "grid_default",
      "views": {
       "grid_default": {
        "col": null,
        "height": 2,
        "hidden": true,
        "locked": true,
        "row": null,
        "width": 2
       }
      }
     }
    }
   },
   "outputs": [],
   "source": [
    "df_tiktok.info()"
   ]
  },
  {
   "cell_type": "code",
   "execution_count": null,
   "id": "1a1801fa-e2c8-4a93-aa00-f7ebe33723b4",
   "metadata": {
    "extensions": {
     "jupyter_dashboards": {
      "activeView": "grid_default",
      "views": {
       "grid_default": {
        "col": null,
        "height": 2,
        "hidden": true,
        "locked": true,
        "row": null,
        "width": 2
       }
      }
     }
    }
   },
   "outputs": [],
   "source": [
    "df_tiktok.shape"
   ]
  },
  {
   "cell_type": "code",
   "execution_count": null,
   "id": "1cb768af-1813-491a-8461-a180a917fefa",
   "metadata": {
    "extensions": {
     "jupyter_dashboards": {
      "activeView": "grid_default",
      "views": {
       "grid_default": {
        "col": null,
        "height": 2,
        "hidden": true,
        "locked": true,
        "row": null,
        "width": 2
       }
      }
     }
    }
   },
   "outputs": [],
   "source": [
    "print(df_tiktok['Subscribers count'].dtype)"
   ]
  },
  {
   "cell_type": "code",
   "execution_count": null,
   "id": "7ecfbfdd-bb92-4d96-b325-e2a089dceed4",
   "metadata": {
    "extensions": {
     "jupyter_dashboards": {
      "activeView": "grid_default",
      "views": {
       "grid_default": {
        "col": null,
        "height": 2,
        "hidden": true,
        "locked": true,
        "row": null,
        "width": 2
       }
      }
     }
    }
   },
   "outputs": [],
   "source": [
    "df_tiktok"
   ]
  },
  {
   "cell_type": "markdown",
   "id": "b26b33e3-b587-4265-b3a6-905b7e851a0b",
   "metadata": {
    "extensions": {
     "jupyter_dashboards": {
      "activeView": "grid_default",
      "views": {
       "grid_default": {
        "col": null,
        "height": 2,
        "hidden": true,
        "locked": true,
        "row": null,
        "width": 2
       }
      }
     }
    },
    "tags": []
   },
   "source": [
    "# Recode numbers with K to multiplying by 1000 and numbers with M to multiplying by 1000000 for numerical data"
   ]
  },
  {
   "cell_type": "code",
   "execution_count": null,
   "id": "c051beaf-c3e0-4957-afce-5a5cf1e26971",
   "metadata": {
    "extensions": {
     "jupyter_dashboards": {
      "activeView": "grid_default",
      "views": {
       "grid_default": {
        "col": null,
        "height": 2,
        "hidden": true,
        "locked": true,
        "row": null,
        "width": 2
       }
      }
     }
    }
   },
   "outputs": [],
   "source": [
    "df_tiktok['Likes avg'] = (df_tiktok['Likes avg'].replace(r'[KM]+$', '', regex=True).astype(float) * df_tiktok['Likes avg'].str.extract(r'[\\d\\.]+([KM]+)', expand=False).fillna(1).replace(['K','M'], [10**3, 10**6]).astype(int))\n",
    "df_tiktok['Comments avg.'] = (df_tiktok['Comments avg.'].replace(r'[KM]+$', '', regex=True).astype(float) * df_tiktok['Comments avg.'].str.extract(r'[\\d\\.]+([KM]+)', expand = False).fillna(1).replace(['K','M'], [10**3, 10**6]).astype(int))\n",
    "df_tiktok['Shares avg'] = (df_tiktok['Shares avg'].replace(r'[KM]+$', '', regex=True).astype(float) * df_tiktok['Shares avg'].str.extract(r'[\\d\\.]+([KM]+)', expand=False).fillna(1).replace(['K','M'], [10**3, 10**6]).astype(int))\n",
    "df_tiktok['Views avg.'] = (df_tiktok['Views avg.'].replace(r'[KM]+$', '', regex=True).astype(float) * df_tiktok['Views avg.'].str.extract(r'[\\d\\.]+([KM]+)', expand=False).fillna(1).replace(['K','M'], [10**3, 10**6]).astype(int))"
   ]
  },
  {
   "cell_type": "code",
   "execution_count": null,
   "id": "5d0eac36-e545-4df0-a809-2862b43b3007",
   "metadata": {
    "extensions": {
     "jupyter_dashboards": {
      "activeView": "grid_default",
      "views": {
       "grid_default": {
        "col": null,
        "height": 2,
        "hidden": true,
        "locked": true,
        "row": null,
        "width": 2
       }
      }
     }
    }
   },
   "outputs": [],
   "source": [
    "df_tiktok"
   ]
  },
  {
   "cell_type": "markdown",
   "id": "e76242ad-bc3e-4721-b633-149aee71c36d",
   "metadata": {
    "extensions": {
     "jupyter_dashboards": {
      "activeView": "grid_default",
      "views": {
       "grid_default": {
        "col": null,
        "height": 2,
        "hidden": true,
        "locked": true,
        "row": null,
        "width": 2
       }
      }
     }
    }
   },
   "source": [
    "# The top 10 Most followed Tiktokers"
   ]
  },
  {
   "cell_type": "code",
   "execution_count": null,
   "id": "64f3f1b7-ef65-4134-81f0-172ef5ee4fee",
   "metadata": {
    "extensions": {
     "jupyter_dashboards": {
      "activeView": "grid_default",
      "views": {
       "grid_default": {
        "col": null,
        "height": 2,
        "hidden": true,
        "locked": true,
        "row": null,
        "width": 2
       }
      }
     }
    }
   },
   "outputs": [],
   "source": [
    "sorted_by_subscribers_df=df_tiktok.sort_values(by='Subscribers count')\n",
    "fig = px.histogram(sorted_by_subscribers_df.tail(10), \n",
    "                   y=\"Tiktoker name\", \n",
    "                   x='Subscribers count',\n",
    "                   text_auto=True,\n",
    "                   title='Top 10 Most Followed Tiktokers')\n",
    "fig.show()"
   ]
  },
  {
   "cell_type": "code",
   "execution_count": null,
   "id": "699573fd-6358-4cca-b0ee-fdc4af182113",
   "metadata": {
    "extensions": {
     "jupyter_dashboards": {
      "activeView": "grid_default",
      "views": {
       "grid_default": {
        "col": null,
        "height": 2,
        "hidden": true,
        "locked": true,
        "row": null,
        "width": 2
       }
      }
     }
    }
   },
   "outputs": [],
   "source": [
    "pip install Pillow"
   ]
  },
  {
   "cell_type": "code",
   "execution_count": null,
   "id": "5941559d-fab4-4082-a268-fb8db59c9668",
   "metadata": {
    "extensions": {
     "jupyter_dashboards": {
      "activeView": "grid_default",
      "views": {
       "grid_default": {
        "col": null,
        "height": 2,
        "hidden": true,
        "locked": true,
        "row": null,
        "width": 2
       }
      }
     }
    }
   },
   "outputs": [],
   "source": [
    "from warnings import filterwarnings\n",
    "from tensorflow import io\n",
    "from tensorflow import image"
   ]
  },
  {
   "cell_type": "code",
   "execution_count": null,
   "id": "6688677b-518b-4b54-89ed-c958fd4e1d7c",
   "metadata": {
    "extensions": {
     "jupyter_dashboards": {
      "activeView": "grid_default",
      "views": {
       "grid_default": {
        "col": null,
        "height": 2,
        "hidden": true,
        "locked": true,
        "row": null,
        "width": 2
       }
      }
     }
    }
   },
   "outputs": [],
   "source": [
    "filterwarnings(\"ignore\")\n",
    "tf_img = io.read_file(r\"C:\\Users\\sdstc\\Documents\\Education\\Other\\Career and Upskilling\\Entity Academy\\Portfolio\\Social Media Influencer Analysis\\Social Media Influencers\\top5tiktok.png\")\n",
    "tf_img = image.decode_png(tf_img, channels=3)\n",
    "print(tf_img.dtype)\n",
    "plt.imshow(tf_img)"
   ]
  },
  {
   "cell_type": "markdown",
   "id": "8d794e02-be29-4d10-b4dc-19912890942b",
   "metadata": {
    "extensions": {
     "jupyter_dashboards": {
      "activeView": "grid_default",
      "views": {
       "grid_default": {
        "col": null,
        "height": 2,
        "hidden": true,
        "locked": true,
        "row": null,
        "width": 2
       }
      }
     }
    }
   },
   "source": [
    "# Top 10 Most Viewed TikTokers"
   ]
  },
  {
   "cell_type": "code",
   "execution_count": null,
   "id": "b6a8c3bd-b583-4fae-874b-9df99a3748be",
   "metadata": {
    "extensions": {
     "jupyter_dashboards": {
      "activeView": "grid_default",
      "views": {
       "grid_default": {
        "col": null,
        "height": 2,
        "hidden": true,
        "locked": true,
        "row": null,
        "width": 2
       }
      }
     }
    }
   },
   "outputs": [],
   "source": [
    "sorted_by_views_df=df_tiktok.sort_values(by='Views avg.')\n",
    "fig = px.histogram(sorted_by_views_df.tail(10), \n",
    "                   y=\"Tiktoker name\", \n",
    "                   x='Views avg.',\n",
    "                   text_auto=True,\n",
    "                   title='Top 10 Most Viewed Tiktokers')\n",
    "fig.show()"
   ]
  },
  {
   "cell_type": "code",
   "execution_count": null,
   "id": "b21048e5-b302-44b0-ab5b-883fa6ea96c8",
   "metadata": {
    "extensions": {
     "jupyter_dashboards": {
      "activeView": "grid_default",
      "views": {
       "grid_default": {
        "col": null,
        "height": 2,
        "hidden": true,
        "locked": true,
        "row": null,
        "width": 2
       }
      }
     }
    }
   },
   "outputs": [],
   "source": [
    "filterwarnings(\"ignore\")\n",
    "tf_img = io.read_file(r\"C:\\Users\\sdstc\\Documents\\Education\\Other\\Career and Upskilling\\Entity Academy\\Portfolio\\Social Media Influencer Analysis\\Social Media Influencers\\top5tiktokviews.png\")\n",
    "tf_img = image.decode_png(tf_img, channels=3)\n",
    "print(tf_img.dtype)\n",
    "plt.imshow(tf_img)"
   ]
  },
  {
   "cell_type": "markdown",
   "id": "d6a312b0-71ea-4d6c-b464-469905fcbf1d",
   "metadata": {
    "extensions": {
     "jupyter_dashboards": {
      "activeView": "grid_default",
      "views": {
       "grid_default": {
        "col": null,
        "height": 2,
        "hidden": true,
        "locked": true,
        "row": null,
        "width": 2
       }
      }
     }
    }
   },
   "source": [
    "# Top 10 Most Liked TikToks"
   ]
  },
  {
   "cell_type": "code",
   "execution_count": null,
   "id": "2322710e-0212-4d0b-9c7f-925998004705",
   "metadata": {
    "extensions": {
     "jupyter_dashboards": {
      "activeView": "grid_default",
      "views": {
       "grid_default": {
        "col": null,
        "height": 2,
        "hidden": true,
        "locked": true,
        "row": null,
        "width": 2
       }
      }
     }
    }
   },
   "outputs": [],
   "source": [
    "sorted_by_likes_df=df_tiktok.sort_values(by='Likes avg')\n",
    "fig = px.histogram(sorted_by_likes_df.tail(10), \n",
    "                   y=\"Tiktoker name\", \n",
    "                   x='Likes avg',\n",
    "                   text_auto=True,\n",
    "                   title='Top Most Liked Tiktokers')\n",
    "fig.show()"
   ]
  },
  {
   "cell_type": "code",
   "execution_count": null,
   "id": "73aa4f4b-b467-4618-8810-86d4907430f2",
   "metadata": {
    "extensions": {
     "jupyter_dashboards": {
      "activeView": "grid_default",
      "views": {
       "grid_default": {
        "col": null,
        "height": 2,
        "hidden": true,
        "locked": true,
        "row": null,
        "width": 2
       }
      }
     }
    }
   },
   "outputs": [],
   "source": [
    "filterwarnings(\"ignore\")\n",
    "tf_img = io.read_file(r\"C:\\Users\\sdstc\\Documents\\Education\\Other\\Career and Upskilling\\Entity Academy\\Portfolio\\Social Media Influencer Analysis\\Social Media Influencers\\top5tiktoklikes.png\")\n",
    "tf_img = image.decode_png(tf_img, channels=3)\n",
    "print(tf_img.dtype)\n",
    "plt.imshow(tf_img)"
   ]
  },
  {
   "cell_type": "markdown",
   "id": "2e78bc6b-dead-4c8e-8d2f-f0ff5dd18b81",
   "metadata": {
    "extensions": {
     "jupyter_dashboards": {
      "activeView": "grid_default",
      "views": {
       "grid_default": {
        "col": null,
        "height": 2,
        "hidden": true,
        "locked": true,
        "row": null,
        "width": 2
       }
      }
     }
    }
   },
   "source": [
    "# Top 10 Most Commented TikTokers"
   ]
  },
  {
   "cell_type": "code",
   "execution_count": null,
   "id": "8b45d908-6ee5-4fcb-81fd-b6621ccbf0d5",
   "metadata": {
    "extensions": {
     "jupyter_dashboards": {
      "activeView": "grid_default",
      "views": {
       "grid_default": {
        "col": null,
        "height": 2,
        "hidden": true,
        "locked": true,
        "row": null,
        "width": 2
       }
      }
     }
    }
   },
   "outputs": [],
   "source": [
    "sorted_by_comments_df=df_tiktok.sort_values(by='Comments avg.')\n",
    "fig = px.histogram(sorted_by_subscribers_df.tail(), \n",
    "                   y=\"Tiktoker name\", \n",
    "                   x='Comments avg.',\n",
    "                   text_auto=True,\n",
    "                   title='Top Most Commented Tiktokers')\n",
    "fig.show()"
   ]
  },
  {
   "cell_type": "code",
   "execution_count": null,
   "id": "012ecea0-afbb-48ee-9ea1-c7381ee23d19",
   "metadata": {
    "extensions": {
     "jupyter_dashboards": {
      "activeView": "grid_default",
      "views": {
       "grid_default": {
        "col": null,
        "height": 2,
        "hidden": true,
        "locked": true,
        "row": null,
        "width": 2
       }
      }
     }
    }
   },
   "outputs": [],
   "source": [
    "filterwarnings(\"ignore\")\n",
    "tf_img = io.read_file(r\"C:\\Users\\sdstc\\Documents\\Education\\Other\\Career and Upskilling\\Entity Academy\\Portfolio\\Social Media Influencer Analysis\\Social Media Influencers\\top5tiktokcomments.png\")\n",
    "tf_img = image.decode_png(tf_img, channels=3)\n",
    "print(tf_img.dtype)\n",
    "plt.imshow(tf_img)"
   ]
  },
  {
   "cell_type": "markdown",
   "id": "a7afd73a-3e33-4e6d-bbeb-d304d1bda4b7",
   "metadata": {
    "extensions": {
     "jupyter_dashboards": {
      "activeView": "grid_default",
      "views": {
       "grid_default": {
        "col": null,
        "height": 2,
        "hidden": true,
        "locked": true,
        "row": null,
        "width": 2
       }
      }
     }
    }
   },
   "source": [
    "# Top Most Shared Tiktokers"
   ]
  },
  {
   "cell_type": "code",
   "execution_count": null,
   "id": "bf1c3c8e-815a-4948-b8dd-45e2bc8f439b",
   "metadata": {
    "extensions": {
     "jupyter_dashboards": {
      "activeView": "grid_default",
      "views": {
       "grid_default": {
        "col": null,
        "height": 2,
        "hidden": true,
        "locked": true,
        "row": null,
        "width": 2
       }
      }
     }
    }
   },
   "outputs": [],
   "source": [
    "sorted_by_shares_df=df_tiktok.sort_values(by='Shares avg')\n",
    "fig = px.histogram(sorted_by_shares_df.tail(), \n",
    "                   y=\"Tiktoker name\", \n",
    "                   x='Shares avg',\n",
    "                   text_auto=True,\n",
    "                   title='Top Most Shared Tiktokers')\n",
    "fig.show()"
   ]
  },
  {
   "cell_type": "code",
   "execution_count": null,
   "id": "b050b7f4-dedb-4a35-95e7-a8fa25b9a798",
   "metadata": {
    "extensions": {
     "jupyter_dashboards": {
      "activeView": "grid_default",
      "views": {
       "grid_default": {
        "col": null,
        "height": 2,
        "hidden": true,
        "locked": true,
        "row": null,
        "width": 2
       }
      }
     }
    }
   },
   "outputs": [],
   "source": [
    "filterwarnings(\"ignore\")\n",
    "tf_img = io.read_file(r\"C:\\Users\\sdstc\\Documents\\Education\\Other\\Career and Upskilling\\Entity Academy\\Portfolio\\Social Media Influencer Analysis\\Social Media Influencers\\top5tiktokshares.png\")\n",
    "tf_img = image.decode_png(tf_img, channels=3)\n",
    "print(tf_img.dtype)\n",
    "plt.imshow(tf_img)"
   ]
  },
  {
   "cell_type": "markdown",
   "id": "16b613cf-8de2-44bb-b2b5-63ba8a2b39de",
   "metadata": {
    "extensions": {
     "jupyter_dashboards": {
      "activeView": "grid_default",
      "views": {
       "grid_default": {
        "col": null,
        "height": 2,
        "hidden": true,
        "locked": true,
        "row": null,
        "width": 2
       }
      }
     }
    }
   },
   "source": [
    "# Correlation HeatMap - Reveals the correlation between subscriber count, comments, shares, like, and views"
   ]
  },
  {
   "cell_type": "code",
   "execution_count": null,
   "id": "bfb945b2-687d-4c23-9233-c8a4a4b56c8a",
   "metadata": {
    "extensions": {
     "jupyter_dashboards": {
      "activeView": "grid_default",
      "views": {
       "grid_default": {
        "col": null,
        "height": 2,
        "hidden": true,
        "locked": true,
        "row": null,
        "width": 2
       }
      }
     }
    }
   },
   "outputs": [],
   "source": [
    "fig = px.imshow(round(df_tiktok.corr(),1),\n",
    "                text_auto=True,\n",
    "                title='Correlation Heatmap')\n",
    "fig.show()"
   ]
  },
  {
   "cell_type": "code",
   "execution_count": null,
   "id": "f6c7659b-3ab2-4f95-b60d-6c3bddc27417",
   "metadata": {
    "extensions": {
     "jupyter_dashboards": {
      "activeView": "grid_default",
      "views": {
       "grid_default": {
        "col": null,
        "height": 2,
        "hidden": true,
        "locked": true,
        "row": null,
        "width": 2
       }
      }
     }
    }
   },
   "outputs": [],
   "source": []
  },
  {
   "cell_type": "code",
   "execution_count": null,
   "id": "2741bac0-43d5-43dd-a249-5a6af4fecb1e",
   "metadata": {
    "extensions": {
     "jupyter_dashboards": {
      "activeView": "grid_default",
      "views": {
       "grid_default": {
        "col": null,
        "height": 2,
        "hidden": true,
        "locked": true,
        "row": null,
        "width": 2
       }
      }
     }
    }
   },
   "outputs": [],
   "source": []
  },
  {
   "cell_type": "code",
   "execution_count": null,
   "id": "edf1b42f-9d3c-4180-85b1-c85d6a65a13a",
   "metadata": {
    "extensions": {
     "jupyter_dashboards": {
      "activeView": "grid_default",
      "views": {
       "grid_default": {
        "col": null,
        "height": 2,
        "hidden": true,
        "locked": true,
        "row": null,
        "width": 2
       }
      }
     }
    }
   },
   "outputs": [],
   "source": []
  }
 ],
 "metadata": {
  "extensions": {
   "jupyter_dashboards": {
    "activeView": "grid_default",
    "version": 1,
    "views": {
     "grid_default": {
      "cellMargin": 2,
      "defaultCellHeight": 40,
      "maxColumns": 12,
      "name": "grid",
      "type": "grid"
     }
    }
   }
  },
  "kernelspec": {
   "display_name": "Python 3 (ipykernel)",
   "language": "python",
   "name": "python3"
  },
  "language_info": {
   "codemirror_mode": {
    "name": "ipython",
    "version": 3
   },
   "file_extension": ".py",
   "mimetype": "text/x-python",
   "name": "python",
   "nbconvert_exporter": "python",
   "pygments_lexer": "ipython3",
   "version": "3.10.2"
  }
 },
 "nbformat": 4,
 "nbformat_minor": 5
}
